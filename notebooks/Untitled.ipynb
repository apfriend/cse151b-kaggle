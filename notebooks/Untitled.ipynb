{
 "cells": [
  {
   "cell_type": "code",
   "execution_count": 1,
   "metadata": {},
   "outputs": [
    {
     "name": "stdout",
     "output_type": "stream",
     "text": [
      "/media/apfriend/sabrent/ucsd/classes/cse151b/kaggle/src\n"
     ]
    }
   ],
   "source": [
    "%load_ext autoreload\n",
    "%autoreload 2\n",
    "%matplotlib inline\n",
    "%cd '../src'"
   ]
  },
  {
   "cell_type": "code",
   "execution_count": 33,
   "metadata": {},
   "outputs": [],
   "source": [
    "import os\n",
    "import sys\n",
    "import pandas as pd\n",
    "import random\n",
    "import warnings\n",
    "import torch\n",
    "import torch.nn as nn\n",
    "from torch.utils.data import Dataset, DataLoader\n",
    "import numpy as np\n",
    "import pickle\n",
    "from glob import glob\n",
    "from time import sleep\n",
    "import matplotlib.pyplot as plt\n",
    "import random\n",
    "import multiprocessing\n",
    "from tqdm import tqdm\n",
    "import seaborn as sns\n",
    "from IPython.display import display\n",
    "\n",
    "#####LOCAL SCRIPTS FROM src#####\n",
    "import utility\n",
    "import load_data as load_data\n",
    "import models.lstm as lstm\n",
    "import models.linear as linear\n",
    "import models.physics as physics\n",
    "from ArgoverseDataset import ArgoverseDataset\n",
    "import run_model as run_model"
   ]
  },
  {
   "cell_type": "code",
   "execution_count": 3,
   "metadata": {},
   "outputs": [],
   "source": [
    "train_path='../data/train-data'\n",
    "val_path='../data/validation-data'\n",
    "test_path='../data/test-data'\n",
    "out_path='../data/out-data'\n",
    "fig_path='../latex/figures/train-loss'\n",
    "model_path='../trained-models'\n",
    "device='cuda:0'"
   ]
  },
  {
   "cell_type": "code",
   "execution_count": 4,
   "metadata": {},
   "outputs": [
    {
     "data": {
      "text/plain": [
       "(torch.Size([64, 60, 19, 4]), torch.Size([64, 60, 30, 4]))"
      ]
     },
     "execution_count": 4,
     "metadata": {},
     "output_type": "execute_result"
    }
   ],
   "source": [
    "test_inp, test_out=load_data.get_test_data(test_path, 64)\n",
    "test_inp, test_out=test_inp.to(device), test_out.to(device)\n",
    "test_inp.shape, test_out.shape"
   ]
  },
  {
   "cell_type": "code",
   "execution_count": 202,
   "metadata": {},
   "outputs": [
    {
     "data": {
      "text/plain": [
       "torch.Size([64, 60, 30, 2])"
      ]
     },
     "execution_count": 202,
     "metadata": {},
     "output_type": "execute_result"
    }
   ],
   "source": [
    "test_pred=physics.avg_velocity_model(test_inp)\n",
    "test_pred.shape"
   ]
  },
  {
   "cell_type": "code",
   "execution_count": 203,
   "metadata": {},
   "outputs": [
    {
     "data": {
      "text/plain": [
       "tensor(28.2396, device='cuda:0')"
      ]
     },
     "execution_count": 203,
     "metadata": {},
     "output_type": "execute_result"
    }
   ],
   "source": [
    "pos_idx=torch.tensor([0,1]).to(device)\n",
    "test_out_pos=torch.index_select(test_out, 3, pos_idx)\n",
    "utility.rmse(test_pred, test_out_pos)"
   ]
  },
  {
   "cell_type": "code",
   "execution_count": 201,
   "metadata": {},
   "outputs": [
    {
     "data": {
      "text/plain": [
       "device(type='cpu')"
      ]
     },
     "execution_count": 201,
     "metadata": {},
     "output_type": "execute_result"
    }
   ],
   "source": [
    "test_pred.device"
   ]
  },
  {
   "cell_type": "code",
   "execution_count": 5,
   "metadata": {
    "collapsed": true,
    "jupyter": {
     "outputs_hidden": true
    },
    "tags": []
   },
   "outputs": [
    {
     "data": {
      "text/plain": [
       "tensor([[[[-7.5388e+00, -7.0237e+00],\n",
       "          [-7.8586e+00, -7.3268e+00],\n",
       "          [-8.6117e+00, -8.0371e+00],\n",
       "          ...,\n",
       "          [-8.5952e+00, -7.9826e+00],\n",
       "          [-7.8026e+00, -7.2253e+00],\n",
       "          [-7.7894e+00, -7.2213e+00]],\n",
       "\n",
       "         [[-5.4084e+00, -6.6081e+00],\n",
       "          [-5.8438e+00, -5.4105e+00],\n",
       "          [-5.8735e+00, -5.2767e+00],\n",
       "          ...,\n",
       "          [-3.4089e+00, -2.8355e+00],\n",
       "          [-4.5769e+00, -4.2047e+00],\n",
       "          [-3.9096e+00, -3.5916e+00]],\n",
       "\n",
       "         [[-9.8587e+00, -9.3302e+00],\n",
       "          [-1.0427e+01, -8.7073e+00],\n",
       "          [-9.2263e+00, -7.8562e+00],\n",
       "          ...,\n",
       "          [-7.6161e+00, -7.1806e+00],\n",
       "          [-8.6910e+00, -6.7382e+00],\n",
       "          [-6.6854e+00, -6.8684e+00]],\n",
       "\n",
       "         ...,\n",
       "\n",
       "         [[ 0.0000e+00,  0.0000e+00],\n",
       "          [ 0.0000e+00,  0.0000e+00],\n",
       "          [ 0.0000e+00,  0.0000e+00],\n",
       "          ...,\n",
       "          [ 0.0000e+00,  0.0000e+00],\n",
       "          [ 0.0000e+00,  0.0000e+00],\n",
       "          [ 0.0000e+00,  0.0000e+00]],\n",
       "\n",
       "         [[ 0.0000e+00,  0.0000e+00],\n",
       "          [ 0.0000e+00,  0.0000e+00],\n",
       "          [ 0.0000e+00,  0.0000e+00],\n",
       "          ...,\n",
       "          [ 0.0000e+00,  0.0000e+00],\n",
       "          [ 0.0000e+00,  0.0000e+00],\n",
       "          [ 0.0000e+00,  0.0000e+00]],\n",
       "\n",
       "         [[ 0.0000e+00,  0.0000e+00],\n",
       "          [ 0.0000e+00,  0.0000e+00],\n",
       "          [ 0.0000e+00,  0.0000e+00],\n",
       "          ...,\n",
       "          [ 0.0000e+00,  0.0000e+00],\n",
       "          [ 0.0000e+00,  0.0000e+00],\n",
       "          [ 0.0000e+00,  0.0000e+00]]],\n",
       "\n",
       "\n",
       "        [[[ 9.9235e+00,  8.3329e+00],\n",
       "          [ 9.3180e+00,  7.8622e+00],\n",
       "          [ 9.2791e+00,  7.8207e+00],\n",
       "          ...,\n",
       "          [ 9.3287e+00,  7.7375e+00],\n",
       "          [ 9.1818e+00,  7.6688e+00],\n",
       "          [ 9.9429e+00,  8.4177e+00]],\n",
       "\n",
       "         [[ 9.2968e+00,  7.9625e+00],\n",
       "          [ 9.7901e+00,  8.2091e+00],\n",
       "          [ 9.5014e+00,  7.8477e+00],\n",
       "          ...,\n",
       "          [ 1.0127e+01,  8.5707e+00],\n",
       "          [ 9.9562e+00,  8.4519e+00],\n",
       "          [ 1.0742e+01,  9.1831e+00]],\n",
       "\n",
       "         [[ 1.0224e+01,  8.3695e+00],\n",
       "          [ 7.3435e+00,  6.3555e+00],\n",
       "          [ 1.4478e+01,  1.1277e+01],\n",
       "          ...,\n",
       "          [ 9.8141e+00,  7.6721e+00],\n",
       "          [ 9.1268e+00,  7.7515e+00],\n",
       "          [ 1.0602e+01,  9.1605e+00]],\n",
       "\n",
       "         ...,\n",
       "\n",
       "         [[ 0.0000e+00,  0.0000e+00],\n",
       "          [ 0.0000e+00,  0.0000e+00],\n",
       "          [ 0.0000e+00,  0.0000e+00],\n",
       "          ...,\n",
       "          [ 0.0000e+00,  0.0000e+00],\n",
       "          [ 0.0000e+00,  0.0000e+00],\n",
       "          [ 0.0000e+00,  0.0000e+00]],\n",
       "\n",
       "         [[ 0.0000e+00,  0.0000e+00],\n",
       "          [ 0.0000e+00,  0.0000e+00],\n",
       "          [ 0.0000e+00,  0.0000e+00],\n",
       "          ...,\n",
       "          [ 0.0000e+00,  0.0000e+00],\n",
       "          [ 0.0000e+00,  0.0000e+00],\n",
       "          [ 0.0000e+00,  0.0000e+00]],\n",
       "\n",
       "         [[ 0.0000e+00,  0.0000e+00],\n",
       "          [ 0.0000e+00,  0.0000e+00],\n",
       "          [ 0.0000e+00,  0.0000e+00],\n",
       "          ...,\n",
       "          [ 0.0000e+00,  0.0000e+00],\n",
       "          [ 0.0000e+00,  0.0000e+00],\n",
       "          [ 0.0000e+00,  0.0000e+00]]],\n",
       "\n",
       "\n",
       "        [[[-4.8180e+00, -1.4247e+00],\n",
       "          [-5.2102e+00, -3.9297e-01],\n",
       "          [-5.7496e+00, -4.1132e-01],\n",
       "          ...,\n",
       "          [-6.3322e+00, -1.3970e+00],\n",
       "          [-5.8222e+00, -1.4211e+00],\n",
       "          [-5.8000e+00, -1.5628e+00]],\n",
       "\n",
       "         [[-2.4658e+00, -2.5872e+00],\n",
       "          [-3.9510e+00, -4.1122e+00],\n",
       "          [-4.9591e+00, -5.8958e+00],\n",
       "          ...,\n",
       "          [-1.0103e+00, -6.5435e+00],\n",
       "          [-9.3009e-01, -7.8088e+00],\n",
       "          [-1.0910e+00, -7.8958e+00]],\n",
       "\n",
       "         [[-3.4427e+00,  1.3415e+00],\n",
       "          [ 3.6027e-01,  1.9602e-01],\n",
       "          [-1.3930e+00,  5.0540e-01],\n",
       "          ...,\n",
       "          [-1.8048e+00,  9.6933e-02],\n",
       "          [ 1.6505e+00,  3.5345e-02],\n",
       "          [-7.5090e-01,  5.2130e-01]],\n",
       "\n",
       "         ...,\n",
       "\n",
       "         [[ 0.0000e+00,  0.0000e+00],\n",
       "          [ 0.0000e+00,  0.0000e+00],\n",
       "          [ 0.0000e+00,  0.0000e+00],\n",
       "          ...,\n",
       "          [ 0.0000e+00,  0.0000e+00],\n",
       "          [ 0.0000e+00,  0.0000e+00],\n",
       "          [ 0.0000e+00,  0.0000e+00]],\n",
       "\n",
       "         [[ 0.0000e+00,  0.0000e+00],\n",
       "          [ 0.0000e+00,  0.0000e+00],\n",
       "          [ 0.0000e+00,  0.0000e+00],\n",
       "          ...,\n",
       "          [ 0.0000e+00,  0.0000e+00],\n",
       "          [ 0.0000e+00,  0.0000e+00],\n",
       "          [ 0.0000e+00,  0.0000e+00]],\n",
       "\n",
       "         [[ 0.0000e+00,  0.0000e+00],\n",
       "          [ 0.0000e+00,  0.0000e+00],\n",
       "          [ 0.0000e+00,  0.0000e+00],\n",
       "          ...,\n",
       "          [ 0.0000e+00,  0.0000e+00],\n",
       "          [ 0.0000e+00,  0.0000e+00],\n",
       "          [ 0.0000e+00,  0.0000e+00]]],\n",
       "\n",
       "\n",
       "        ...,\n",
       "\n",
       "\n",
       "        [[[ 8.1498e+00,  6.9361e+00],\n",
       "          [ 7.9912e+00,  6.6591e+00],\n",
       "          [ 8.0352e+00,  6.7011e+00],\n",
       "          ...,\n",
       "          [ 8.2098e+00,  6.9233e+00],\n",
       "          [ 8.9921e+00,  7.5896e+00],\n",
       "          [ 8.1676e+00,  6.9256e+00]],\n",
       "\n",
       "         [[ 6.7356e+00,  5.6794e+00],\n",
       "          [ 6.4143e+00,  5.5093e+00],\n",
       "          [ 7.4280e+00,  5.6738e+00],\n",
       "          ...,\n",
       "          [ 6.0689e+00,  4.7058e+00],\n",
       "          [ 7.7832e+00,  6.4371e+00],\n",
       "          [ 7.9942e+00,  7.5662e+00]],\n",
       "\n",
       "         [[ 1.1991e+01,  1.0648e+01],\n",
       "          [ 1.1987e+01,  1.1589e+01],\n",
       "          [ 1.1756e+01,  1.0442e+01],\n",
       "          ...,\n",
       "          [ 1.1071e+01,  1.1312e+01],\n",
       "          [ 1.1659e+01,  1.0816e+01],\n",
       "          [ 1.1498e+01,  1.1408e+01]],\n",
       "\n",
       "         ...,\n",
       "\n",
       "         [[ 0.0000e+00,  0.0000e+00],\n",
       "          [ 0.0000e+00,  0.0000e+00],\n",
       "          [ 0.0000e+00,  0.0000e+00],\n",
       "          ...,\n",
       "          [ 0.0000e+00,  0.0000e+00],\n",
       "          [ 0.0000e+00,  0.0000e+00],\n",
       "          [ 0.0000e+00,  0.0000e+00]],\n",
       "\n",
       "         [[ 0.0000e+00,  0.0000e+00],\n",
       "          [ 0.0000e+00,  0.0000e+00],\n",
       "          [ 0.0000e+00,  0.0000e+00],\n",
       "          ...,\n",
       "          [ 0.0000e+00,  0.0000e+00],\n",
       "          [ 0.0000e+00,  0.0000e+00],\n",
       "          [ 0.0000e+00,  0.0000e+00]],\n",
       "\n",
       "         [[ 0.0000e+00,  0.0000e+00],\n",
       "          [ 0.0000e+00,  0.0000e+00],\n",
       "          [ 0.0000e+00,  0.0000e+00],\n",
       "          ...,\n",
       "          [ 0.0000e+00,  0.0000e+00],\n",
       "          [ 0.0000e+00,  0.0000e+00],\n",
       "          [ 0.0000e+00,  0.0000e+00]]],\n",
       "\n",
       "\n",
       "        [[[ 4.3791e-05, -4.4206e-04],\n",
       "          [-2.6003e-03,  1.7415e-03],\n",
       "          [ 4.1381e-03, -4.2671e-03],\n",
       "          ...,\n",
       "          [ 3.7658e-03, -4.2228e-05],\n",
       "          [ 1.3863e-03,  2.3763e-04],\n",
       "          [-1.0921e-03, -2.2000e-03]],\n",
       "\n",
       "         [[-5.3174e-02,  5.1139e-02],\n",
       "          [-4.0315e-02,  1.1545e-01],\n",
       "          [-2.3821e-02,  1.2654e-02],\n",
       "          ...,\n",
       "          [ 2.7567e-01,  8.8075e-02],\n",
       "          [-1.8185e-01,  1.8380e-01],\n",
       "          [-5.8498e-02, -1.4819e-01]],\n",
       "\n",
       "         [[ 1.4359e-01, -9.0886e-02],\n",
       "          [-1.4280e-01,  9.7048e-02],\n",
       "          [-1.0858e-01, -6.1796e-02],\n",
       "          ...,\n",
       "          [ 1.3172e+00,  1.6656e-01],\n",
       "          [-1.3386e-01, -9.2895e-02],\n",
       "          [-9.5187e-01,  2.6696e-02]],\n",
       "\n",
       "         ...,\n",
       "\n",
       "         [[ 0.0000e+00,  0.0000e+00],\n",
       "          [ 0.0000e+00,  0.0000e+00],\n",
       "          [ 0.0000e+00,  0.0000e+00],\n",
       "          ...,\n",
       "          [ 0.0000e+00,  0.0000e+00],\n",
       "          [ 0.0000e+00,  0.0000e+00],\n",
       "          [ 0.0000e+00,  0.0000e+00]],\n",
       "\n",
       "         [[ 0.0000e+00,  0.0000e+00],\n",
       "          [ 0.0000e+00,  0.0000e+00],\n",
       "          [ 0.0000e+00,  0.0000e+00],\n",
       "          ...,\n",
       "          [ 0.0000e+00,  0.0000e+00],\n",
       "          [ 0.0000e+00,  0.0000e+00],\n",
       "          [ 0.0000e+00,  0.0000e+00]],\n",
       "\n",
       "         [[ 0.0000e+00,  0.0000e+00],\n",
       "          [ 0.0000e+00,  0.0000e+00],\n",
       "          [ 0.0000e+00,  0.0000e+00],\n",
       "          ...,\n",
       "          [ 0.0000e+00,  0.0000e+00],\n",
       "          [ 0.0000e+00,  0.0000e+00],\n",
       "          [ 0.0000e+00,  0.0000e+00]]],\n",
       "\n",
       "\n",
       "        [[[ 4.0595e-01, -1.1455e+01],\n",
       "          [ 1.9083e-01, -6.1173e+00],\n",
       "          [ 1.5650e-01, -4.3921e+00],\n",
       "          ...,\n",
       "          [ 4.4913e-01, -1.4281e+01],\n",
       "          [ 4.8703e-01, -1.5913e+01],\n",
       "          [ 5.1317e-01, -1.7324e+01]],\n",
       "\n",
       "         [[ 5.4139e-01, -2.3262e+01],\n",
       "          [ 8.4981e-01, -1.2424e+01],\n",
       "          [ 9.4688e-01, -2.2981e+01],\n",
       "          ...,\n",
       "          [ 8.0459e-01, -2.0184e+01],\n",
       "          [ 5.3128e-01, -1.4547e+01],\n",
       "          [ 6.6545e-01, -1.5407e+01]],\n",
       "\n",
       "         [[ 5.6122e-01, -1.3226e+01],\n",
       "          [ 4.4914e-01, -8.2111e+00],\n",
       "          [ 4.7406e-01, -1.2810e+01],\n",
       "          ...,\n",
       "          [ 6.8035e-01, -2.0566e+01],\n",
       "          [ 4.0578e-01, -1.6264e+01],\n",
       "          [ 4.9408e-01, -1.5659e+01]],\n",
       "\n",
       "         ...,\n",
       "\n",
       "         [[ 0.0000e+00,  0.0000e+00],\n",
       "          [ 0.0000e+00,  0.0000e+00],\n",
       "          [ 0.0000e+00,  0.0000e+00],\n",
       "          ...,\n",
       "          [ 0.0000e+00,  0.0000e+00],\n",
       "          [ 0.0000e+00,  0.0000e+00],\n",
       "          [ 0.0000e+00,  0.0000e+00]],\n",
       "\n",
       "         [[ 0.0000e+00,  0.0000e+00],\n",
       "          [ 0.0000e+00,  0.0000e+00],\n",
       "          [ 0.0000e+00,  0.0000e+00],\n",
       "          ...,\n",
       "          [ 0.0000e+00,  0.0000e+00],\n",
       "          [ 0.0000e+00,  0.0000e+00],\n",
       "          [ 0.0000e+00,  0.0000e+00]],\n",
       "\n",
       "         [[ 0.0000e+00,  0.0000e+00],\n",
       "          [ 0.0000e+00,  0.0000e+00],\n",
       "          [ 0.0000e+00,  0.0000e+00],\n",
       "          ...,\n",
       "          [ 0.0000e+00,  0.0000e+00],\n",
       "          [ 0.0000e+00,  0.0000e+00],\n",
       "          [ 0.0000e+00,  0.0000e+00]]]], device='cuda:0')"
      ]
     },
     "execution_count": 5,
     "metadata": {},
     "output_type": "execute_result"
    }
   ],
   "source": [
    "velocity_idx=torch.tensor([2,3]).to(device)\n",
    "velocity_tensor=torch.index_select(test_inp, 3, velocity_idx)\n",
    "test_idx=torch.tensor([0,1]).to(device)\n",
    "torch.index_select(velocity_tensor, 3, test_idx)"
   ]
  },
  {
   "cell_type": "code",
   "execution_count": 6,
   "metadata": {},
   "outputs": [
    {
     "data": {
      "text/plain": [
       "(torch.Size([64, 60, 1, 2]), torch.Size([64, 60, 19, 2]))"
      ]
     },
     "execution_count": 6,
     "metadata": {},
     "output_type": "execute_result"
    }
   ],
   "source": [
    "avg_velocity_tensor, position_tensor=physics.avg_velocity_model(test_inp)#.shape\n",
    "avg_velocity_tensor.shape, position_tensor.shape"
   ]
  },
  {
   "cell_type": "code",
   "execution_count": 146,
   "metadata": {},
   "outputs": [
    {
     "data": {
      "text/plain": [
       "torch.Size([64, 60, 19, 4])"
      ]
     },
     "execution_count": 146,
     "metadata": {},
     "output_type": "execute_result"
    }
   ],
   "source": [
    "test_inp.shape"
   ]
  },
  {
   "cell_type": "code",
   "execution_count": 23,
   "metadata": {
    "collapsed": true,
    "jupyter": {
     "outputs_hidden": true
    },
    "tags": []
   },
   "outputs": [
    {
     "data": {
      "text/plain": [
       "tensor([[[[-7.9601e+00, -7.4163e+00]],\n",
       "\n",
       "         [[-4.8753e+00, -4.6647e+00]],\n",
       "\n",
       "         [[-8.4215e+00, -7.8060e+00]],\n",
       "\n",
       "         ...,\n",
       "\n",
       "         [[ 0.0000e+00,  0.0000e+00]],\n",
       "\n",
       "         [[ 0.0000e+00,  0.0000e+00]],\n",
       "\n",
       "         [[ 0.0000e+00,  0.0000e+00]]],\n",
       "\n",
       "\n",
       "        [[[ 9.6260e+00,  8.0349e+00]],\n",
       "\n",
       "         [[ 9.8527e+00,  8.3192e+00]],\n",
       "\n",
       "         [[ 8.9582e+00,  7.5443e+00]],\n",
       "\n",
       "         ...,\n",
       "\n",
       "         [[ 0.0000e+00,  0.0000e+00]],\n",
       "\n",
       "         [[ 0.0000e+00,  0.0000e+00]],\n",
       "\n",
       "         [[ 0.0000e+00,  0.0000e+00]]],\n",
       "\n",
       "\n",
       "        [[[-5.6850e+00, -8.0029e-01]],\n",
       "\n",
       "         [[-2.5745e+00, -6.1194e+00]],\n",
       "\n",
       "         [[-3.7473e-01,  4.7432e-02]],\n",
       "\n",
       "         ...,\n",
       "\n",
       "         [[ 0.0000e+00,  0.0000e+00]],\n",
       "\n",
       "         [[ 0.0000e+00,  0.0000e+00]],\n",
       "\n",
       "         [[ 0.0000e+00,  0.0000e+00]]],\n",
       "\n",
       "\n",
       "        ...,\n",
       "\n",
       "\n",
       "        [[[ 8.3591e+00,  6.9920e+00]],\n",
       "\n",
       "         [[ 7.1196e+00,  5.9848e+00]],\n",
       "\n",
       "         [[ 1.1606e+01,  1.0595e+01]],\n",
       "\n",
       "         ...,\n",
       "\n",
       "         [[ 0.0000e+00,  0.0000e+00]],\n",
       "\n",
       "         [[ 0.0000e+00,  0.0000e+00]],\n",
       "\n",
       "         [[ 0.0000e+00,  0.0000e+00]]],\n",
       "\n",
       "\n",
       "        [[[ 2.0467e-04, -7.5941e-04]],\n",
       "\n",
       "         [[-1.1471e-02,  6.1097e-03]],\n",
       "\n",
       "         [[-5.8359e-02,  7.0728e-03]],\n",
       "\n",
       "         ...,\n",
       "\n",
       "         [[ 0.0000e+00,  0.0000e+00]],\n",
       "\n",
       "         [[ 0.0000e+00,  0.0000e+00]],\n",
       "\n",
       "         [[ 0.0000e+00,  0.0000e+00]]],\n",
       "\n",
       "\n",
       "        [[[ 3.7223e-01, -1.2489e+01]],\n",
       "\n",
       "         [[ 4.1855e-01, -1.6402e+01]],\n",
       "\n",
       "         [[ 4.1717e-01, -1.1605e+01]],\n",
       "\n",
       "         ...,\n",
       "\n",
       "         [[ 0.0000e+00,  0.0000e+00]],\n",
       "\n",
       "         [[ 0.0000e+00,  0.0000e+00]],\n",
       "\n",
       "         [[ 0.0000e+00,  0.0000e+00]]]], device='cuda:0')"
      ]
     },
     "execution_count": 23,
     "metadata": {},
     "output_type": "execute_result"
    }
   ],
   "source": [
    "avg_velocity_tensor"
   ]
  },
  {
   "cell_type": "code",
   "execution_count": 26,
   "metadata": {},
   "outputs": [
    {
     "data": {
      "text/plain": [
       "tensor([[-7.9601, -7.4163],\n",
       "        [-4.8753, -4.6647],\n",
       "        [-8.4215, -7.8060],\n",
       "        ...,\n",
       "        [ 0.0000,  0.0000],\n",
       "        [ 0.0000,  0.0000],\n",
       "        [ 0.0000,  0.0000]], device='cuda:0')"
      ]
     },
     "execution_count": 26,
     "metadata": {},
     "output_type": "execute_result"
    }
   ],
   "source": [
    "avg_velocity_tensor.reshape(64*60, 2)"
   ]
  },
  {
   "cell_type": "code",
   "execution_count": 27,
   "metadata": {},
   "outputs": [
    {
     "data": {
      "text/plain": [
       "3840"
      ]
     },
     "execution_count": 27,
     "metadata": {},
     "output_type": "execute_result"
    }
   ],
   "source": [
    "64*60"
   ]
  },
  {
   "cell_type": "code",
   "execution_count": 148,
   "metadata": {
    "tags": []
   },
   "outputs": [
    {
     "data": {
      "text/plain": [
       "(torch.Size([64, 60, 1, 1]),\n",
       " torch.Size([64, 60, 1, 1]),\n",
       " torch.Size([64, 60, 1, 2]))"
      ]
     },
     "execution_count": 148,
     "metadata": {},
     "output_type": "execute_result"
    }
   ],
   "source": [
    "final_x_pos_tensor,final_y_pos_tensor, avg_vel_tensor=physics.avg_velocity_model(test_inp)\n",
    "final_x_pos_tensor.shape,final_y_pos_tensor.shape, avg_vel_tensor.shape"
   ]
  },
  {
   "cell_type": "code",
   "execution_count": 179,
   "metadata": {},
   "outputs": [
    {
     "name": "stdout",
     "output_type": "stream",
     "text": [
      "torch.Size([3840, 1]) torch.Size([3840, 1]) torch.Size([3840, 30]) torch.Size([3840, 30])\n"
     ]
    },
    {
     "data": {
      "text/plain": [
       "torch.Size([3840, 30])"
      ]
     },
     "execution_count": 179,
     "metadata": {},
     "output_type": "execute_result"
    }
   ],
   "source": [
    "final_x_pos_tensor, final_y_pos_tensor, x_pos_delta_tensor, y_pos_delta_tensor=physics.avg_velocity_model(test_inp)\n",
    "print(final_x_pos_tensor.shape, final_y_pos_tensor.shape, x_pos_delta_tensor.shape, y_pos_delta_tensor.shape)\n",
    "final_x_pos=torch.cat([final_x_pos_tensor]*30, 1)#.shape\n",
    "(final_x_pos+x_pos_delta_tensor).shape"
   ]
  },
  {
   "cell_type": "code",
   "execution_count": 173,
   "metadata": {
    "tags": []
   },
   "outputs": [
    {
     "data": {
      "text/plain": [
       "tensor([  -7.9601,  -15.9202,  -23.8803,  -31.8404,  -39.8005,  -47.7606,\n",
       "         -55.7207,  -63.6808,  -71.6409,  -79.6010,  -87.5611,  -95.5212,\n",
       "        -103.4813, -111.4414, -119.4015, -127.3616, -135.3217, -143.2818,\n",
       "        -151.2419, -159.2020, -167.1621, -175.1222, -183.0823, -191.0424,\n",
       "        -199.0025, -206.9626, -214.9227, -222.8828, -230.8429, -238.8030],\n",
       "       device='cuda:0')"
      ]
     },
     "execution_count": 173,
     "metadata": {},
     "output_type": "execute_result"
    }
   ],
   "source": [
    "x_pos_delta_tensor[0]"
   ]
  },
  {
   "cell_type": "code",
   "execution_count": 176,
   "metadata": {},
   "outputs": [
    {
     "data": {
      "text/plain": [
       "tensor([[2636.8132],\n",
       "        [2604.2771],\n",
       "        [2620.1086],\n",
       "        ...,\n",
       "        [   0.0000],\n",
       "        [   0.0000],\n",
       "        [   0.0000]], device='cuda:0')"
      ]
     },
     "execution_count": 176,
     "metadata": {},
     "output_type": "execute_result"
    }
   ],
   "source": [
    "final_x_pos_tensor"
   ]
  },
  {
   "cell_type": "code",
   "execution_count": 156,
   "metadata": {
    "collapsed": true,
    "jupyter": {
     "outputs_hidden": true
    },
    "tags": []
   },
   "outputs": [
    {
     "data": {
      "text/plain": [
       "tensor([[[2636.8132]],\n",
       "\n",
       "        [[2604.2771]],\n",
       "\n",
       "        [[2620.1086]],\n",
       "\n",
       "        [[2652.4404]],\n",
       "\n",
       "        [[2587.3477]],\n",
       "\n",
       "        [[2592.5481]],\n",
       "\n",
       "        [[   0.0000]],\n",
       "\n",
       "        [[   0.0000]],\n",
       "\n",
       "        [[   0.0000]],\n",
       "\n",
       "        [[   0.0000]],\n",
       "\n",
       "        [[   0.0000]],\n",
       "\n",
       "        [[   0.0000]],\n",
       "\n",
       "        [[   0.0000]],\n",
       "\n",
       "        [[   0.0000]],\n",
       "\n",
       "        [[   0.0000]],\n",
       "\n",
       "        [[   0.0000]],\n",
       "\n",
       "        [[   0.0000]],\n",
       "\n",
       "        [[   0.0000]],\n",
       "\n",
       "        [[   0.0000]],\n",
       "\n",
       "        [[   0.0000]],\n",
       "\n",
       "        [[   0.0000]],\n",
       "\n",
       "        [[   0.0000]],\n",
       "\n",
       "        [[   0.0000]],\n",
       "\n",
       "        [[   0.0000]],\n",
       "\n",
       "        [[   0.0000]],\n",
       "\n",
       "        [[   0.0000]],\n",
       "\n",
       "        [[   0.0000]],\n",
       "\n",
       "        [[   0.0000]],\n",
       "\n",
       "        [[   0.0000]],\n",
       "\n",
       "        [[   0.0000]],\n",
       "\n",
       "        [[   0.0000]],\n",
       "\n",
       "        [[   0.0000]],\n",
       "\n",
       "        [[   0.0000]],\n",
       "\n",
       "        [[   0.0000]],\n",
       "\n",
       "        [[   0.0000]],\n",
       "\n",
       "        [[   0.0000]],\n",
       "\n",
       "        [[   0.0000]],\n",
       "\n",
       "        [[   0.0000]],\n",
       "\n",
       "        [[   0.0000]],\n",
       "\n",
       "        [[   0.0000]],\n",
       "\n",
       "        [[   0.0000]],\n",
       "\n",
       "        [[   0.0000]],\n",
       "\n",
       "        [[   0.0000]],\n",
       "\n",
       "        [[   0.0000]],\n",
       "\n",
       "        [[   0.0000]],\n",
       "\n",
       "        [[   0.0000]],\n",
       "\n",
       "        [[   0.0000]],\n",
       "\n",
       "        [[   0.0000]],\n",
       "\n",
       "        [[   0.0000]],\n",
       "\n",
       "        [[   0.0000]],\n",
       "\n",
       "        [[   0.0000]],\n",
       "\n",
       "        [[   0.0000]],\n",
       "\n",
       "        [[   0.0000]],\n",
       "\n",
       "        [[   0.0000]],\n",
       "\n",
       "        [[   0.0000]],\n",
       "\n",
       "        [[   0.0000]],\n",
       "\n",
       "        [[   0.0000]],\n",
       "\n",
       "        [[   0.0000]],\n",
       "\n",
       "        [[   0.0000]],\n",
       "\n",
       "        [[   0.0000]]], device='cuda:0')"
      ]
     },
     "execution_count": 156,
     "metadata": {},
     "output_type": "execute_result"
    }
   ],
   "source": [
    "final_x_pos_tensor[0]"
   ]
  },
  {
   "cell_type": "code",
   "execution_count": 181,
   "metadata": {},
   "outputs": [
    {
     "data": {
      "text/plain": [
       "(torch.Size([3840, 30]), torch.Size([3840, 30]))"
      ]
     },
     "execution_count": 181,
     "metadata": {},
     "output_type": "execute_result"
    }
   ],
   "source": [
    "x, y=physics.avg_velocity_model(test_inp)\n",
    "x.shape, y.shape"
   ]
  },
  {
   "cell_type": "code",
   "execution_count": 186,
   "metadata": {},
   "outputs": [
    {
     "data": {
      "text/plain": [
       "tensor([2628.8530, 2620.8931, 2612.9329, 2604.9729, 2597.0127, 2589.0527,\n",
       "        2581.0925, 2573.1323, 2565.1724, 2557.2122, 2549.2522, 2541.2920,\n",
       "        2533.3320, 2525.3718, 2517.4116, 2509.4517, 2501.4915, 2493.5315,\n",
       "        2485.5713, 2477.6113, 2469.6511, 2461.6909, 2453.7310, 2445.7708,\n",
       "        2437.8108, 2429.8506, 2421.8906, 2413.9304, 2405.9702, 2398.0103],\n",
       "       device='cuda:0')"
      ]
     },
     "execution_count": 186,
     "metadata": {},
     "output_type": "execute_result"
    }
   ],
   "source": [
    "x[0]"
   ]
  },
  {
   "cell_type": "code",
   "execution_count": 187,
   "metadata": {},
   "outputs": [
    {
     "data": {
      "text/plain": [
       "tensor([1125.0094, 1117.5931, 1110.1769, 1102.7606, 1095.3444, 1087.9281,\n",
       "        1080.5118, 1073.0956, 1065.6793, 1058.2631, 1050.8468, 1043.4305,\n",
       "        1036.0143, 1028.5980, 1021.1818, 1013.7656, 1006.3493,  998.9330,\n",
       "         991.5168,  984.1005,  976.6843,  969.2680,  961.8517,  954.4355,\n",
       "         947.0192,  939.6030,  932.1867,  924.7704,  917.3542,  909.9379],\n",
       "       device='cuda:0')"
      ]
     },
     "execution_count": 187,
     "metadata": {},
     "output_type": "execute_result"
    }
   ],
   "source": [
    "y[0]"
   ]
  },
  {
   "cell_type": "code",
   "execution_count": 185,
   "metadata": {},
   "outputs": [
    {
     "data": {
      "text/plain": [
       "tensor([2628.8530, 2620.8931, 2612.9329, 2604.9729, 2597.0127, 2589.0527,\n",
       "        2581.0925, 2573.1323, 2565.1724, 2557.2122, 2549.2522, 2541.2920,\n",
       "        2533.3320, 2525.3718, 2517.4116, 2509.4517, 2501.4915, 2493.5315,\n",
       "        2485.5713, 2477.6113, 2469.6511, 2461.6909, 2453.7310, 2445.7708,\n",
       "        2437.8108, 2429.8506, 2421.8906, 2413.9304, 2405.9702, 2398.0103,\n",
       "        1125.0094, 1117.5931, 1110.1769, 1102.7606, 1095.3444, 1087.9281,\n",
       "        1080.5118, 1073.0956, 1065.6793, 1058.2631, 1050.8468, 1043.4305,\n",
       "        1036.0143, 1028.5980, 1021.1818, 1013.7656, 1006.3493,  998.9330,\n",
       "         991.5168,  984.1005,  976.6843,  969.2680,  961.8517,  954.4355,\n",
       "         947.0192,  939.6030,  932.1867,  924.7704,  917.3542,  909.9379],\n",
       "       device='cuda:0')"
      ]
     },
     "execution_count": 185,
     "metadata": {},
     "output_type": "execute_result"
    }
   ],
   "source": [
    "torch.cat([x,y],dim=1)[0]"
   ]
  },
  {
   "cell_type": "code",
   "execution_count": 191,
   "metadata": {},
   "outputs": [
    {
     "data": {
      "text/plain": [
       "torch.Size([3840, 60])"
      ]
     },
     "execution_count": 191,
     "metadata": {},
     "output_type": "execute_result"
    }
   ],
   "source": [
    "final_pos=torch.zeros(x.shape[0],x.shape[1]*2)\n",
    "final_pos[:,::2]=x\n",
    "final_pos[:,1::2]=y\n",
    "final_pos.shape"
   ]
  },
  {
   "cell_type": "code",
   "execution_count": 194,
   "metadata": {},
   "outputs": [
    {
     "data": {
      "text/plain": [
       "torch.Size([64, 60, 30, 2])"
      ]
     },
     "execution_count": 194,
     "metadata": {},
     "output_type": "execute_result"
    }
   ],
   "source": [
    "physics.avg_velocity_model(test_inp).shape"
   ]
  },
  {
   "cell_type": "code",
   "execution_count": 143,
   "metadata": {
    "tags": []
   },
   "outputs": [
    {
     "data": {
      "text/plain": [
       "torch.Size([64, 60, 1, 2])"
      ]
     },
     "execution_count": 143,
     "metadata": {},
     "output_type": "execute_result"
    }
   ],
   "source": [
    "last_position_idx=position_tensor.shape[2]-1\n",
    "last_position_tensor=torch.tensor([last_position_idx]).to(device)\n",
    "last_pos_tensor=torch.index_select(position_tensor, 2, last_position_tensor)\n",
    "last_pos_tensor.shape"
   ]
  },
  {
   "cell_type": "code",
   "execution_count": 12,
   "metadata": {},
   "outputs": [
    {
     "data": {
      "text/plain": [
       "torch.Size([64, 60, 19, 2])"
      ]
     },
     "execution_count": 12,
     "metadata": {},
     "output_type": "execute_result"
    }
   ],
   "source": [
    "position_tensor.shape"
   ]
  },
  {
   "cell_type": "code",
   "execution_count": 9,
   "metadata": {},
   "outputs": [
    {
     "data": {
      "text/plain": [
       "tensor([2, 3], device='cuda:0')"
      ]
     },
     "execution_count": 9,
     "metadata": {},
     "output_type": "execute_result"
    }
   ],
   "source": [
    "torch.tensor([2,3]).to(device)"
   ]
  },
  {
   "cell_type": "code",
   "execution_count": 128,
   "metadata": {},
   "outputs": [
    {
     "data": {
      "text/plain": [
       "torch.Size([64, 60, 19, 1, 1])"
      ]
     },
     "execution_count": 128,
     "metadata": {},
     "output_type": "execute_result"
    }
   ],
   "source": [
    "x_idx=torch.tensor([0]).to(device)\n",
    "y_idx=torch.tensor([1]).to(device)\n",
    "x_position_tensor=torch.index_select(position_tensor, 3, x_idx)\n",
    "y_position_tensor=torch.index_select(position_tensor, 3, y_idx)\n",
    "x_position_tensor.unsqueeze(3).shape"
   ]
  },
  {
   "cell_type": "code",
   "execution_count": 135,
   "metadata": {},
   "outputs": [
    {
     "data": {
      "text/plain": [
       "(torch.Size([3840, 1]), torch.Size([3840, 1]), torch.Size([1, 30]))"
      ]
     },
     "execution_count": 135,
     "metadata": {},
     "output_type": "execute_result"
    }
   ],
   "source": [
    "time_tensor=torch.FloatTensor([list(range(1,31))]).to(device)\n",
    "# avg_velocity_tensor.reshape(64*60, 2)*time_tensor\n",
    "\n",
    "# torch.dot(avg_velocity_tensor.reshape(64*60, 2)*time_tensor.shape)\n",
    "time_tensor=time_tensor\n",
    "avg_velocity_tensor=avg_velocity_tensor.reshape(64*60,2)\n",
    "# avg_velocity_tensor.shape, time_tensor.shape\n",
    "avg_x_vel_tensor=torch.index_select(avg_velocity_tensor, 1, x_idx)\n",
    "avg_y_vel_tensor=torch.index_select(avg_velocity_tensor, 1, y_idx)\n",
    "avg_x_vel_tensor.shape, avg_y_vel_tensor.shape, time_tensor.shape"
   ]
  },
  {
   "cell_type": "code",
   "execution_count": 142,
   "metadata": {},
   "outputs": [
    {
     "data": {
      "text/plain": [
       "(torch.Size([64, 60, 1, 30]), torch.Size([64, 60, 1, 30]))"
      ]
     },
     "execution_count": 142,
     "metadata": {},
     "output_type": "execute_result"
    }
   ],
   "source": [
    "x_pos_delta_tensor=torch.tensordot(avg_x_vel_tensor, time_tensor, dims=([1],[0])).reshape(64,60,1,30)\n",
    "y_pos_delta_tensor=torch.tensordot(avg_y_vel_tensor, time_tensor, dims=([1],[0])).reshape(64,60,1,30)\n",
    "x_pos_delta_tensor.shape, y_pos_delta_tensor.shape"
   ]
  },
  {
   "cell_type": "code",
   "execution_count": 144,
   "metadata": {},
   "outputs": [
    {
     "data": {
      "text/plain": [
       "(torch.Size([3840, 30]), torch.Size([64, 60, 1, 2]))"
      ]
     },
     "execution_count": 144,
     "metadata": {},
     "output_type": "execute_result"
    }
   ],
   "source": [
    "pos_delta_tensor=torch.tensordot(avg_velocity_tensor, time_tensor, dims=([1],[0]))#[0:2]#.shape\n",
    "pos_delta_tensor.shape, last_pos_tensor.shape"
   ]
  },
  {
   "cell_type": "code",
   "execution_count": 123,
   "metadata": {},
   "outputs": [
    {
     "data": {
      "text/plain": [
       "tensor([[ -15.3764,  -30.7527,  -46.1291,  ..., -430.5380, -445.9144,\n",
       "         -461.2907],\n",
       "        [  -9.5400,  -19.0800,  -28.6201,  ..., -267.1205, -276.6606,\n",
       "         -286.2006],\n",
       "        [ -16.2275,  -32.4550,  -48.6825,  ..., -454.3698, -470.5973,\n",
       "         -486.8248],\n",
       "        ...,\n",
       "        [   0.0000,    0.0000,    0.0000,  ...,    0.0000,    0.0000,\n",
       "            0.0000],\n",
       "        [   0.0000,    0.0000,    0.0000,  ...,    0.0000,    0.0000,\n",
       "            0.0000],\n",
       "        [   0.0000,    0.0000,    0.0000,  ...,    0.0000,    0.0000,\n",
       "            0.0000]], device='cuda:0')"
      ]
     },
     "execution_count": 123,
     "metadata": {},
     "output_type": "execute_result"
    }
   ],
   "source": [
    "x_final_pos=torch.concat([last_post_tensor]*30)"
   ]
  },
  {
   "cell_type": "code",
   "execution_count": null,
   "metadata": {},
   "outputs": [],
   "source": []
  }
 ],
 "metadata": {
  "kernelspec": {
   "display_name": "Python 3",
   "language": "python",
   "name": "python3"
  },
  "language_info": {
   "codemirror_mode": {
    "name": "ipython",
    "version": 3
   },
   "file_extension": ".py",
   "mimetype": "text/x-python",
   "name": "python",
   "nbconvert_exporter": "python",
   "pygments_lexer": "ipython3",
   "version": "3.7.6"
  }
 },
 "nbformat": 4,
 "nbformat_minor": 5
}
