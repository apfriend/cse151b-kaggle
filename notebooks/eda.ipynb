{
 "cells": [
  {
   "cell_type": "markdown",
   "id": "aceb784b-b603-4d35-b14e-f46adf02d296",
   "metadata": {},
   "source": [
    "# CSE 151B Autonomous Vehicle Kaggle Competition EDA\n",
    "\n",
    "Run the provided Jupyter notebook for loading the data. Provide exploratory analysis on thedata and report your findings with texts and figures. Your report should answer the followingquestions at a minimum:\n",
    "\n",
    "- what is the train/test data size, how many dimensions of inputs/outputs\n",
    "- what is the distribution of input positions for all agents (hint: use histogram)\n",
    "- what is the distribution of output positions for all agents (hint: use histogram)\n",
    "- what is the distribution of velocity (magnitude) of all agents and the target agent\n",
    "\n",
    "If you include more exploratory analysis beyond the above questions that provides in- sightsinto the data, you will receive bonus points"
   ]
  },
  {
   "cell_type": "code",
   "execution_count": 1,
   "id": "dac3a1d3-b108-475e-9489-6d9181938b1d",
   "metadata": {
    "tags": []
   },
   "outputs": [],
   "source": [
    "%load_ext autoreload\n",
    "%autoreload 2\n",
    "\n",
    "import os\n",
    "import sys\n",
    "import pandas as pd\n",
    "import torch\n",
    "from torch.utils.data import Dataset, DataLoader\n",
    "import numpy as np\n",
    "import pickle\n",
    "from glob import glob\n",
    "import matplotlib.pyplot as plt\n",
    "import random\n",
    "import multiprocessing\n",
    "from tqdm import tqdm\n",
    "import seaborn as sns\n",
    "\n",
    "sys.path.append(os.path.dirname(os.getcwd()))\n",
    "from run_model import my_collate, my_collate2, ArgoverseDataset"
   ]
  },
  {
   "cell_type": "markdown",
   "id": "2cbccd86-0c4a-4589-81c2-59cf2c05be96",
   "metadata": {},
   "source": [
    "## Load DataSet\n",
    "\n",
    "Use the provided `ArgoverseDataset` PyTorch DataSet class to load data into a dataset, then use the other provided `my_collate` method as a collate function in the PyTorch DataLoader class to be used."
   ]
  },
  {
   "cell_type": "code",
   "execution_count": 2,
   "id": "92a1f596-38b6-4383-a2df-ce15152d1a41",
   "metadata": {},
   "outputs": [],
   "source": [
    "train_path = \"/home/apfriend/ucsd/CURRENT/cse151b/kaggle/data/new_train/new_train\"\n",
    "val_path=\"/home/apfriend/ucsd/CURRENT/cse151b/kaggle/data/new_val_in/new_val_in\"\n",
    "\n",
    "val_dataset=ArgoverseDataset(data_path=val_path)\n",
    "train_dataset=ArgoverseDataset(data_path=train_path)\n",
    "\n",
    "batchsize = 2048\n",
    "\n",
    "#use same number of workers as CPU cores (4)\n",
    "nworkers=multiprocessing.cpu_count()\n",
    "\n",
    "#need different collate function for validation set since it has no `p_out` or `v_out`\n",
    "\n",
    "val_loader = DataLoader(\n",
    "    val_dataset,\n",
    "    batch_size=batchsize, \n",
    "    shuffle = False, \n",
    "    collate_fn=my_collate2, \n",
    "    num_workers=nworkers\n",
    ")\n",
    "\n",
    "train_loader = DataLoader(\n",
    "    train_dataset,\n",
    "    batch_size=batchsize, \n",
    "    shuffle = True, \n",
    "    collate_fn=my_collate, \n",
    "    num_workers=nworkers\n",
    ")"
   ]
  },
  {
   "cell_type": "markdown",
   "id": "f6b8bc68-ccf2-41a2-90e6-2b125c98a998",
   "metadata": {},
   "source": [
    "## Train and Test Set Dimensionality"
   ]
  },
  {
   "cell_type": "markdown",
   "id": "6467eb45-e194-4890-8103-23fdbe198e2a",
   "metadata": {},
   "source": [
    "The dimensions of the training data are $2 \\times \\mathrm{batch\\ size} \\times 60 \\times 19 \\times 4$\n",
    "\n",
    ">There are the input and output data (2)\n",
    "\n",
    ">There are 60 cars for 1.9 seconds at 10Hz (19)\n",
    "\n",
    ">For each input/output (for each car) there are positions, velocities in (x,y) coordinates (last 4)"
   ]
  },
  {
   "cell_type": "code",
   "execution_count": 3,
   "id": "c26d544a-d0af-40ad-9c39-c4f7f049cceb",
   "metadata": {
    "tags": []
   },
   "outputs": [
    {
     "name": "stdout",
     "output_type": "stream",
     "text": [
      "Training set size: 205944\n",
      "Training set dimensions: (2, 4, 60, 19, 4)\n"
     ]
    }
   ],
   "source": [
    "print(\"Training set size: %s\"%(int(len(train_loader))*batchsize))\n",
    "\n",
    "for batch in train_loader:\n",
    "    train_batch=batch\n",
    "    break;\n",
    "    \n",
    "dimensions=(\n",
    "    len(train_batch), \n",
    "    len(train_batch[0]),\n",
    "    len(train_batch[0][0]),\n",
    "    len(train_batch[0][0][0]), \n",
    "    len(train_batch[0][0][0][0])\n",
    ")\n",
    "    \n",
    "print(f\"Training set dimensions: {dimensions}\")"
   ]
  },
  {
   "cell_type": "markdown",
   "id": "7de19f9e-813e-4c02-9cc0-3570882a87e2",
   "metadata": {},
   "source": [
    "The dimensions of the validation data are the same as training data except it does not have an output. $\\mathrm{batch\\ size} \\times 60 \\times 19 \\times 4$\n",
    "\n",
    ">There are 60 cars for 1.9 seconds at 10Hz (19)\n",
    "\n",
    ">For each input and output (each car) there are positions, velocities in (x,y) coordinates (last 4)"
   ]
  },
  {
   "cell_type": "code",
   "execution_count": 4,
   "id": "cbd9e7b2-3c7b-4758-a9cc-9e26e7dca4fb",
   "metadata": {},
   "outputs": [
    {
     "name": "stdout",
     "output_type": "stream",
     "text": [
      "Validation set size: 3200\n",
      "Training set dimensions: (4, 60, 19, 4)\n"
     ]
    }
   ],
   "source": [
    "print(\"Validation set size: %s\"%(int(len(val_loader))*batchsize))\n",
    "\n",
    "\n",
    "for batch in val_loader:\n",
    "    val_batch=batch\n",
    "    break;\n",
    "    \n",
    "dimensions=(\n",
    "    len(val_batch), #batch size\n",
    "    len(val_batch[0]), #number of vehicles\n",
    "    len(val_batch[0][0]) #each time interval,\n",
    "    len(val_batch[0][0][0]) #positions\n",
    ")\n",
    "    \n",
    "print(f\"Training set dimensions: {dimensions}\")"
   ]
  },
  {
   "cell_type": "markdown",
   "id": "47c2798f-6a95-4b44-bed8-33448a23c10c",
   "metadata": {},
   "source": [
    "## Looking at the raw files themselves"
   ]
  },
  {
   "cell_type": "code",
   "execution_count": null,
   "id": "9e18fa9a-56da-485d-ab76-3be4524412b8",
   "metadata": {},
   "outputs": [],
   "source": [
    "train_loader[0]"
   ]
  },
  {
   "cell_type": "code",
   "execution_count": 3,
   "id": "06daaf10-7001-4511-993e-4803b06a774b",
   "metadata": {
    "tags": []
   },
   "outputs": [
    {
     "name": "stderr",
     "output_type": "stream",
     "text": [
      "100%|██████████| 101/101 [41:30<00:00, 24.66s/it]\n"
     ]
    }
   ],
   "source": [
    "train_data_in={}\n",
    "train_data_out={}\n",
    "\n",
    "cols=['x_pos','y_pos','x_vel','y_vel']\n",
    "for col in cols:\n",
    "    train_data_in[col]=[]\n",
    "    train_data_out[col]=[]\n",
    "\n",
    "pd.DataFrame(train_data_in).to_csv(\"in_data.csv\", index=False)\n",
    "pd.DataFrame(train_data_out).to_csv(\"out_data.csv\", index=False)\n",
    "\n",
    "for batch in tqdm(train_loader):\n",
    "    \n",
    "    train_data_in={}\n",
    "    train_data_out={}\n",
    "    for col in cols:\n",
    "        train_data_in[col]=[]\n",
    "        train_data_out[col]=[]\n",
    "    \n",
    "    in_data=batch[0]\n",
    "    out_data=batch[1]\n",
    "    \n",
    "    for scene in in_data:\n",
    "        for car in scene:\n",
    "            for time_data in car:\n",
    "                td=time_data.detach().numpy()\n",
    "                train_data_in['x_pos'].append(td[0])\n",
    "                train_data_in['y_pos'].append(td[1])\n",
    "                train_data_in['x_vel'].append(td[2])\n",
    "                train_data_in['y_vel'].append(td[3])\n",
    "    \n",
    "    for scene in out_data:\n",
    "        for car in scene:\n",
    "            for time_data in car:\n",
    "                td=time_data.detach().numpy()\n",
    "                train_data_out['x_pos'].append(td[0])\n",
    "                train_data_out['y_pos'].append(td[1])\n",
    "                train_data_out['x_vel'].append(td[2])\n",
    "                train_data_out['y_vel'].append(td[3])\n",
    "    \n",
    "#     print(len(train_data['x_pos_in']))\n",
    "#     print(len(train_data['x_pos_out']))\n",
    "    \n",
    "    pd.DataFrame(train_data_in).to_csv(\"in_data.csv\", mode='a', header=False, index=False)\n",
    "    pd.DataFrame(train_data_out).to_csv(\"out_data.csv\", mode='a', header=False, index=False)\n",
    "#     pd.DataFrame(train_data).to_csv(\"train_data.csv\" index=False)"
   ]
  },
  {
   "cell_type": "code",
   "execution_count": 2,
   "id": "aad3d943-ebd9-43df-b208-63ee1925bcce",
   "metadata": {},
   "outputs": [
    {
     "ename": "KeyboardInterrupt",
     "evalue": "",
     "output_type": "error",
     "traceback": [
      "\u001b[0;31m---------------------------------------------------------------------------\u001b[0m",
      "\u001b[0;31mKeyboardInterrupt\u001b[0m                         Traceback (most recent call last)",
      "\u001b[0;32m<ipython-input-2-d4dcf36cf1bc>\u001b[0m in \u001b[0;36m<module>\u001b[0;34m\u001b[0m\n\u001b[1;32m      1\u001b[0m \u001b[0min_data_path\u001b[0m\u001b[0;34m=\u001b[0m\u001b[0;34m'/home/apfriend/ucsd/CURRENT/cse151b/kaggle/data/in_data.csv'\u001b[0m\u001b[0;34m\u001b[0m\u001b[0;34m\u001b[0m\u001b[0m\n\u001b[1;32m      2\u001b[0m \u001b[0;34m\u001b[0m\u001b[0m\n\u001b[0;32m----> 3\u001b[0;31m \u001b[0min_data\u001b[0m\u001b[0;34m=\u001b[0m\u001b[0mnp\u001b[0m\u001b[0;34m.\u001b[0m\u001b[0mgenfromtxt\u001b[0m\u001b[0;34m(\u001b[0m\u001b[0min_data_path\u001b[0m\u001b[0;34m,\u001b[0m \u001b[0mdelimiter\u001b[0m\u001b[0;34m=\u001b[0m\u001b[0;34m','\u001b[0m\u001b[0;34m)\u001b[0m\u001b[0;34m\u001b[0m\u001b[0;34m\u001b[0m\u001b[0m\n\u001b[0m\u001b[1;32m      4\u001b[0m \u001b[0mprint\u001b[0m\u001b[0;34m(\u001b[0m\u001b[0min_data\u001b[0m\u001b[0;34m.\u001b[0m\u001b[0mshape\u001b[0m\u001b[0;34m)\u001b[0m\u001b[0;34m\u001b[0m\u001b[0;34m\u001b[0m\u001b[0m\n\u001b[1;32m      5\u001b[0m \u001b[0min_data\u001b[0m\u001b[0;34m.\u001b[0m\u001b[0mhead\u001b[0m\u001b[0;34m(\u001b[0m\u001b[0;34m)\u001b[0m\u001b[0;34m\u001b[0m\u001b[0;34m\u001b[0m\u001b[0m\n",
      "\u001b[0;32m~/anaconda3/envs/pyt18/lib/python3.8/site-packages/numpy/lib/npyio.py\u001b[0m in \u001b[0;36mgenfromtxt\u001b[0;34m(fname, dtype, comments, delimiter, skip_header, skip_footer, converters, missing_values, filling_values, usecols, names, excludelist, deletechars, replace_space, autostrip, case_sensitive, defaultfmt, unpack, usemask, loose, invalid_raise, max_rows, encoding, like)\u001b[0m\n\u001b[1;32m   2055\u001b[0m \u001b[0;34m\u001b[0m\u001b[0m\n\u001b[1;32m   2056\u001b[0m         \u001b[0;31m# Parse each line\u001b[0m\u001b[0;34m\u001b[0m\u001b[0;34m\u001b[0m\u001b[0;34m\u001b[0m\u001b[0m\n\u001b[0;32m-> 2057\u001b[0;31m         \u001b[0;32mfor\u001b[0m \u001b[0;34m(\u001b[0m\u001b[0mi\u001b[0m\u001b[0;34m,\u001b[0m \u001b[0mline\u001b[0m\u001b[0;34m)\u001b[0m \u001b[0;32min\u001b[0m \u001b[0menumerate\u001b[0m\u001b[0;34m(\u001b[0m\u001b[0mitertools\u001b[0m\u001b[0;34m.\u001b[0m\u001b[0mchain\u001b[0m\u001b[0;34m(\u001b[0m\u001b[0;34m[\u001b[0m\u001b[0mfirst_line\u001b[0m\u001b[0;34m,\u001b[0m \u001b[0;34m]\u001b[0m\u001b[0;34m,\u001b[0m \u001b[0mfhd\u001b[0m\u001b[0;34m)\u001b[0m\u001b[0;34m)\u001b[0m\u001b[0;34m:\u001b[0m\u001b[0;34m\u001b[0m\u001b[0;34m\u001b[0m\u001b[0m\n\u001b[0m\u001b[1;32m   2058\u001b[0m             \u001b[0mvalues\u001b[0m \u001b[0;34m=\u001b[0m \u001b[0msplit_line\u001b[0m\u001b[0;34m(\u001b[0m\u001b[0mline\u001b[0m\u001b[0;34m)\u001b[0m\u001b[0;34m\u001b[0m\u001b[0;34m\u001b[0m\u001b[0m\n\u001b[1;32m   2059\u001b[0m             \u001b[0mnbvalues\u001b[0m \u001b[0;34m=\u001b[0m \u001b[0mlen\u001b[0m\u001b[0;34m(\u001b[0m\u001b[0mvalues\u001b[0m\u001b[0;34m)\u001b[0m\u001b[0;34m\u001b[0m\u001b[0;34m\u001b[0m\u001b[0m\n",
      "\u001b[0;31mKeyboardInterrupt\u001b[0m: "
     ]
    }
   ],
   "source": [
    "in_data_path='/home/apfriend/ucsd/CURRENT/cse151b/kaggle/data/in_data.csv'\n",
    "\n",
    "in_data=np.genfromtxt(in_data_path, delimiter=',')\n",
    "print(in_data.shape)\n",
    "in_data.head()"
   ]
  },
  {
   "cell_type": "code",
   "execution_count": null,
   "id": "b9281084-3fa6-42b5-b58d-38bbdac8d1d8",
   "metadata": {},
   "outputs": [
    {
     "name": "stderr",
     "output_type": "stream",
     "text": [
      "/home/apfriend/anaconda3/envs/pyt18/lib/python3.8/site-packages/seaborn/distributions.py:2551: FutureWarning: `distplot` is a deprecated function and will be removed in a future version. Please adapt your code to use either `displot` (a figure-level function with similar flexibility) or `histplot` (an axes-level function for histograms).\n",
      "  warnings.warn(msg, FutureWarning)\n"
     ]
    }
   ],
   "source": [
    "sns.distplot(indf.x_pos)\n",
    "plt.savefig(\"x_pos_hist.svg\")"
   ]
  },
  {
   "cell_type": "code",
   "execution_count": 5,
   "id": "c0f39e5c-4905-438c-976d-341e75f46948",
   "metadata": {
    "tags": []
   },
   "outputs": [],
   "source": [
    "train_fp=os.path.join(train_path, '1.pkl')\n",
    "with open(train_fp, \"rb\") as file:\n",
    "    train_file=pickle.load(file)\n",
    "# train_file"
   ]
  },
  {
   "cell_type": "code",
   "execution_count": 6,
   "id": "224d2e86-016b-445b-bb9a-269aecd000ff",
   "metadata": {
    "tags": []
   },
   "outputs": [],
   "source": [
    "val_fp=os.path.join(val_path, '12.pkl')\n",
    "with open(val_fp, \"rb\") as file:\n",
    "    val_file=pickle.load(file)\n",
    "# val_file"
   ]
  },
  {
   "cell_type": "markdown",
   "id": "2468c80d-ecd9-4406-bfe4-e48165083474",
   "metadata": {
    "tags": []
   },
   "source": [
    "## Visualize the batch of sequences"
   ]
  },
  {
   "cell_type": "code",
   "execution_count": 12,
   "id": "01e86b22-9b90-4eb2-ad50-52da21a91aae",
   "metadata": {},
   "outputs": [
    {
     "data": {
      "image/png": "[encoded data removed]",
      "text/plain": [
       "<Figure size 1080x216 with 4 Axes>"
      ]
     },
     "metadata": {},
     "output_type": "display_data"
    },
    {
     "data": {
      "image/png": "[encoded data removed]",
      "text/plain": [
       "<Figure size 1080x216 with 4 Axes>"
      ]
     },
     "metadata": {},
     "output_type": "display_data"
    },
    {
     "data": {
      "image/png": "[encoded data removed]",
      "text/plain": [
       "<Figure size 1080x216 with 4 Axes>"
      ]
     },
     "metadata": {},
     "output_type": "display_data"
    },
    {
     "data": {
      "image/png": "[encoded data removed]",
      "text/plain": [
       "<Figure size 1080x216 with 4 Axes>"
      ]
     },
     "metadata": {},
     "output_type": "display_data"
    },
    {
     "data": {
      "image/png": "[encoded data removed]",
      "text/plain": [
       "<Figure size 1080x216 with 4 Axes>"
      ]
     },
     "metadata": {},
     "output_type": "display_data"
    },
    {
     "data": {
      "image/png": "[encoded data removed]",
      "text/plain": [
       "<Figure size 1080x216 with 4 Axes>"
      ]
     },
     "metadata": {},
     "output_type": "display_data"
    },
    {
     "data": {
      "image/png": "[encoded data removed]",
      "text/plain": [
       "<Figure size 1080x216 with 4 Axes>"
      ]
     },
     "metadata": {},
     "output_type": "display_data"
    },
    {
     "data": {
      "image/png": "[encoded data removed]",
      "text/plain": [
       "<Figure size 1080x216 with 4 Axes>"
      ]
     },
     "metadata": {},
     "output_type": "display_data"
    },
    {
     "data": {
      "image/png": "[encoded data removed]",
      "text/plain": [
       "<Figure size 1080x216 with 4 Axes>"
      ]
     },
     "metadata": {},
     "output_type": "display_data"
    },
    {
     "data": {
      "image/png": "[encoded data removed]",
      "text/plain": [
       "<Figure size 1080x216 with 4 Axes>"
      ]
     },
     "metadata": {},
     "output_type": "display_data"
    }
   ],
   "source": [
    "%matplotlib inline\n",
    "\n",
    "agent_id = 0\n",
    "\n",
    "def show_sample_batch(sample_batch, agent_id):\n",
    "    \"\"\"visualize the trajectory for a batch of samples with a random agent\"\"\"\n",
    "    inp, out = sample_batch\n",
    "    batch_sz = inp.size(0)\n",
    "    agent_sz = inp.size(1)\n",
    "    \n",
    "    fig, axs = plt.subplots(1, batch_sz, figsize=(15, 3), facecolor='w', edgecolor='k')\n",
    "    fig.subplots_adjust(hspace = .5, wspace=.001)\n",
    "    axs = axs.ravel()   \n",
    "    for i in range(batch_sz):\n",
    "        axs[i].xaxis.set_ticks([])\n",
    "        axs[i].yaxis.set_ticks([])\n",
    "        \n",
    "        # first two feature dimensions are (x,y) positions\n",
    "        axs[i].scatter(inp[i, agent_id,:,0], inp[i, agent_id,:,1])\n",
    "        axs[i].scatter(out[i, agent_id,:,0], out[i, agent_id,:,1])\n",
    "    \n",
    "    \n",
    "for i_batch, sample_batch in enumerate(train_loader):\n",
    "    inp, out = sample_batch\n",
    "    \"\"\"TODO:\n",
    "      Deep learning model\n",
    "      training routine\n",
    "    \"\"\"\n",
    "    show_sample_batch(sample_batch, agent_id)\n",
    "    if i_batch==9:\n",
    "        break"
   ]
  },
  {
   "cell_type": "code",
   "execution_count": 7,
   "id": "320ebaee-35bf-4e3e-8465-cbd58fa7d9c8",
   "metadata": {
    "collapsed": true,
    "jupyter": {
     "outputs_hidden": true
    },
    "tags": []
   },
   "outputs": [
    {
     "data": {
      "text/plain": [
       "{'city': 'PIT',\n",
       " 'lane': array([[3278.8716, 1968.7596,    0.    ],\n",
       "        [3282.6606, 1972.2533,    0.    ],\n",
       "        [3286.4429, 1975.7545,    0.    ],\n",
       "        [3290.2249, 1979.2559,    0.    ],\n",
       "        [3294.007 , 1982.7572,    0.    ],\n",
       "        [3297.789 , 1986.2584,    0.    ],\n",
       "        [3301.5713, 1989.7598,    0.    ],\n",
       "        [3305.3533, 1993.2611,    0.    ],\n",
       "        [3309.1355, 1996.7623,    0.    ],\n",
       "        [3269.4802, 1967.0625,    0.    ],\n",
       "        [3267.2764, 1965.0217,    0.    ],\n",
       "        [3265.0664, 1962.9877,    0.    ],\n",
       "        [3262.8562, 1960.9536,    0.    ],\n",
       "        [3260.646 , 1958.9197,    0.    ],\n",
       "        [3258.436 , 1956.8856,    0.    ],\n",
       "        [3256.2258, 1954.8517,    0.    ],\n",
       "        [3254.0132, 1952.8207,    0.    ],\n",
       "        [3251.7898, 1950.8013,    0.    ],\n",
       "        [3235.7622, 1935.9915,    0.    ],\n",
       "        [3231.5237, 1932.1249,    0.    ],\n",
       "        [3227.2852, 1928.2582,    0.    ],\n",
       "        [3223.0923, 1924.343 ,    0.    ],\n",
       "        [3218.9045, 1920.4214,    0.    ],\n",
       "        [3214.7097, 1916.5073,    0.    ],\n",
       "        [3210.515 , 1912.5933,    0.    ],\n",
       "        [3206.3198, 1908.6793,    0.    ],\n",
       "        [3202.125 , 1904.7653,    0.    ],\n",
       "        [3257.3713, 1948.8804,    0.    ],\n",
       "        [3259.5886, 1950.9248,    0.    ],\n",
       "        [3261.8032, 1952.972 ,    0.    ],\n",
       "        [3264.018 , 1955.0194,    0.    ],\n",
       "        [3266.2327, 1957.0667,    0.    ],\n",
       "        [3268.4475, 1959.114 ,    0.    ],\n",
       "        [3270.6619, 1961.1615,    0.    ],\n",
       "        [3272.8704, 1963.2156,    0.    ],\n",
       "        [3275.0789, 1965.2697,    0.    ],\n",
       "        [3250.4824, 1949.5826,    0.    ],\n",
       "        [3249.175 , 1948.364 ,    0.    ],\n",
       "        [3247.8677, 1947.1453,    0.    ],\n",
       "        [3246.5603, 1945.9266,    0.    ],\n",
       "        [3245.253 , 1944.7081,    0.    ],\n",
       "        [3243.9443, 1943.4907,    0.    ],\n",
       "        [3242.6338, 1942.2755,    0.    ],\n",
       "        [3241.317 , 1941.0673,    0.    ],\n",
       "        [3240.    , 1939.859 ,    0.    ],\n",
       "        [3241.6833, 1934.2916,    0.    ],\n",
       "        [3243.3665, 1935.8604,    0.    ],\n",
       "        [3245.0498, 1937.4291,    0.    ],\n",
       "        [3246.7332, 1938.9977,    0.    ],\n",
       "        [3248.4153, 1940.5676,    0.    ],\n",
       "        [3250.0972, 1942.1377,    0.    ],\n",
       "        [3251.7793, 1943.7078,    0.    ],\n",
       "        [3253.4612, 1945.2777,    0.    ],\n",
       "        [3255.1433, 1946.8478,    0.    ],\n",
       "        [3209.2793, 1904.4741,    0.    ],\n",
       "        [3213.136 , 1907.9872,    0.    ],\n",
       "        [3216.9924, 1911.5002,    0.    ],\n",
       "        [3220.849 , 1915.0134,    0.    ],\n",
       "        [3224.7056, 1918.5265,    0.    ],\n",
       "        [3228.5376, 1922.0667,    0.    ],\n",
       "        [3232.3584, 1925.6188,    0.    ],\n",
       "        [3236.1792, 1929.1709,    0.    ],\n",
       "        [3240.    , 1932.723 ,    0.    ],\n",
       "        [3301.7441, 1996.9043,    0.    ],\n",
       "        [3297.9888, 1993.4269,    0.    ],\n",
       "        [3294.2334, 1989.9493,    0.    ],\n",
       "        [3290.478 , 1986.4718,    0.    ],\n",
       "        [3286.723 , 1982.9943,    0.    ],\n",
       "        [3282.9675, 1979.5168,    0.    ],\n",
       "        [3279.2122, 1976.0393,    0.    ],\n",
       "        [3275.45  , 1972.5695,    0.    ],\n",
       "        [3271.684 , 1969.1033,    0.    ]], dtype=float32),\n",
       " 'lane_norm': array([[ 3.7926118,  3.4899662,  0.       ],\n",
       "        [ 3.7891939,  3.493656 ,  0.       ],\n",
       "        [ 3.7821107,  3.5013022,  0.       ],\n",
       "        [ 3.7821107,  3.5013022,  0.       ],\n",
       "        [ 3.7821107,  3.5013022,  0.       ],\n",
       "        [ 3.7821107,  3.5013022,  0.       ],\n",
       "        [ 3.7821107,  3.5013022,  0.       ],\n",
       "        [ 3.7821107,  3.5013022,  0.       ],\n",
       "        [ 3.7821107,  3.5013022,  0.       ],\n",
       "        [-2.2038643, -2.0407646,  0.       ],\n",
       "        [-2.2038643, -2.0407646,  0.       ],\n",
       "        [-2.2099981, -2.034115 ,  0.       ],\n",
       "        [-2.2101107, -2.0339932,  0.       ],\n",
       "        [-2.2101107, -2.0339932,  0.       ],\n",
       "        [-2.2101107, -2.0339932,  0.       ],\n",
       "        [-2.2101107, -2.0339932,  0.       ],\n",
       "        [-2.2128086, -2.031011 ,  0.       ],\n",
       "        [-2.2233925, -2.0193133,  0.       ],\n",
       "        [-4.2377634, -3.867525 ,  0.       ],\n",
       "        [-4.2385526, -3.8666508,  0.       ],\n",
       "        [-4.2385526, -3.8666508,  0.       ],\n",
       "        [-4.1928964, -3.915217 ,  0.       ],\n",
       "        [-4.18762  , -3.9216042,  0.       ],\n",
       "        [-4.194902 , -3.9140232,  0.       ],\n",
       "        [-4.194902 , -3.9140232,  0.       ],\n",
       "        [-4.194902 , -3.9140232,  0.       ],\n",
       "        [-4.194902 , -3.9140232,  0.       ],\n",
       "        [ 2.2279737,  2.0326355,  0.       ],\n",
       "        [ 2.21739  ,  2.044333 ,  0.       ],\n",
       "        [ 2.2146919,  2.0473151,  0.       ],\n",
       "        [ 2.2146919,  2.0473151,  0.       ],\n",
       "        [ 2.2146919,  2.0473151,  0.       ],\n",
       "        [ 2.2146919,  2.0473151,  0.       ],\n",
       "        [ 2.2145793,  2.047437 ,  0.       ],\n",
       "        [ 2.2084455,  2.0540864,  0.       ],\n",
       "        [ 2.2084455,  2.0540864,  0.       ],\n",
       "        [-1.3073287, -1.2186704,  0.       ],\n",
       "        [-1.3073287, -1.2186704,  0.       ],\n",
       "        [-1.3073287, -1.2186704,  0.       ],\n",
       "        [-1.3073287, -1.2186704,  0.       ],\n",
       "        [-1.3074168, -1.2185754,  0.       ],\n",
       "        [-1.3085924, -1.217308 ,  0.       ],\n",
       "        [-1.3105348, -1.2151992,  0.       ],\n",
       "        [-1.3169104, -1.2082771,  0.       ],\n",
       "        [-1.3169104, -1.2082771,  0.       ],\n",
       "        [ 1.6832775,  1.5686753,  0.       ],\n",
       "        [ 1.6832775,  1.5686753,  0.       ],\n",
       "        [ 1.6832775,  1.5686753,  0.       ],\n",
       "        [ 1.6832775,  1.5686753,  0.       ],\n",
       "        [ 1.6821018,  1.5699425,  0.       ],\n",
       "        [ 1.6820138,  1.5700375,  0.       ],\n",
       "        [ 1.6820138,  1.5700375,  0.       ],\n",
       "        [ 1.6820138,  1.5700375,  0.       ],\n",
       "        [ 1.6820138,  1.5700375,  0.       ],\n",
       "        [ 3.8565755,  3.5131114,  0.       ],\n",
       "        [ 3.8565755,  3.5131114,  0.       ],\n",
       "        [ 3.8565755,  3.5131114,  0.       ],\n",
       "        [ 3.8565755,  3.5131114,  0.       ],\n",
       "        [ 3.8565755,  3.5131114,  0.       ],\n",
       "        [ 3.8317971,  3.5401535,  0.       ],\n",
       "        [ 3.82084  ,  3.5521119,  0.       ],\n",
       "        [ 3.82084  ,  3.5521119,  0.       ],\n",
       "        [ 3.82084  ,  3.5521119,  0.       ],\n",
       "        [-3.7553015, -3.4775062,  0.       ],\n",
       "        [-3.7553015, -3.4775062,  0.       ],\n",
       "        [-3.7553015, -3.4775062,  0.       ],\n",
       "        [-3.7553015, -3.4775062,  0.       ],\n",
       "        [-3.7553015, -3.4775062,  0.       ],\n",
       "        [-3.7553015, -3.4775062,  0.       ],\n",
       "        [-3.7553015, -3.4775062,  0.       ],\n",
       "        [-3.7623844, -3.4698598,  0.       ],\n",
       "        [-3.7658024, -3.46617  ,  0.       ]], dtype=float32),\n",
       " 'scene_idx': 0,\n",
       " 'agent_id': '00000000-0000-0000-0000-000000000062',\n",
       " 'car_mask': array([[1.],\n",
       "        [1.],\n",
       "        [1.],\n",
       "        [1.],\n",
       "        [1.],\n",
       "        [1.],\n",
       "        [0.],\n",
       "        [0.],\n",
       "        [0.],\n",
       "        [0.],\n",
       "        [0.],\n",
       "        [0.],\n",
       "        [0.],\n",
       "        [0.],\n",
       "        [0.],\n",
       "        [0.],\n",
       "        [0.],\n",
       "        [0.],\n",
       "        [0.],\n",
       "        [0.],\n",
       "        [0.],\n",
       "        [0.],\n",
       "        [0.],\n",
       "        [0.],\n",
       "        [0.],\n",
       "        [0.],\n",
       "        [0.],\n",
       "        [0.],\n",
       "        [0.],\n",
       "        [0.],\n",
       "        [0.],\n",
       "        [0.],\n",
       "        [0.],\n",
       "        [0.],\n",
       "        [0.],\n",
       "        [0.],\n",
       "        [0.],\n",
       "        [0.],\n",
       "        [0.],\n",
       "        [0.],\n",
       "        [0.],\n",
       "        [0.],\n",
       "        [0.],\n",
       "        [0.],\n",
       "        [0.],\n",
       "        [0.],\n",
       "        [0.],\n",
       "        [0.],\n",
       "        [0.],\n",
       "        [0.],\n",
       "        [0.],\n",
       "        [0.],\n",
       "        [0.],\n",
       "        [0.],\n",
       "        [0.],\n",
       "        [0.],\n",
       "        [0.],\n",
       "        [0.],\n",
       "        [0.],\n",
       "        [0.]], dtype=float32),\n",
       " 'p_in': array([[[3277.29638672, 1947.62609863],\n",
       "         [3277.29614258, 1947.62597656],\n",
       "         [3277.29614258, 1947.62585449],\n",
       "         ...,\n",
       "         [3277.29638672, 1947.62561035],\n",
       "         [3277.29638672, 1947.62573242],\n",
       "         [3277.29638672, 1947.62585449]],\n",
       " \n",
       "        [[3277.13671875, 1977.72497559],\n",
       "         [3277.09350586, 1977.68725586],\n",
       "         [3277.22485352, 1977.82250977],\n",
       "         ...,\n",
       "         [3277.07397461, 1977.65368652],\n",
       "         [3277.16162109, 1977.72570801],\n",
       "         [3277.17016602, 1977.72717285]],\n",
       " \n",
       "        [[3232.28955078, 1922.98181152],\n",
       "         [3232.33007812, 1922.80908203],\n",
       "         [3232.28295898, 1923.0201416 ],\n",
       "         ...,\n",
       "         [3232.28857422, 1922.87341309],\n",
       "         [3232.35107422, 1922.92980957],\n",
       "         [3232.2590332 , 1922.96984863]],\n",
       " \n",
       "        ...,\n",
       " \n",
       "        [[   0.        ,    0.        ],\n",
       "         [   0.        ,    0.        ],\n",
       "         [   0.        ,    0.        ],\n",
       "         ...,\n",
       "         [   0.        ,    0.        ],\n",
       "         [   0.        ,    0.        ],\n",
       "         [   0.        ,    0.        ]],\n",
       " \n",
       "        [[   0.        ,    0.        ],\n",
       "         [   0.        ,    0.        ],\n",
       "         [   0.        ,    0.        ],\n",
       "         ...,\n",
       "         [   0.        ,    0.        ],\n",
       "         [   0.        ,    0.        ],\n",
       "         [   0.        ,    0.        ]],\n",
       " \n",
       "        [[   0.        ,    0.        ],\n",
       "         [   0.        ,    0.        ],\n",
       "         [   0.        ,    0.        ],\n",
       "         ...,\n",
       "         [   0.        ,    0.        ],\n",
       "         [   0.        ,    0.        ],\n",
       "         [   0.        ,    0.        ]]]),\n",
       " 'v_in': array([[[-2.74871185e-04, -2.38232431e-04],\n",
       "         [-1.68325368e-03, -3.60875274e-04],\n",
       "         [ 1.27185765e-03, -1.43322884e-03],\n",
       "         ...,\n",
       "         [-4.68495244e-04, -1.28384610e-03],\n",
       "         [ 6.83214806e-04,  1.19478977e-03],\n",
       "         [ 4.27729276e-04,  4.41675016e-04]],\n",
       " \n",
       "        [[ 4.56323892e-01,  2.66867459e-01],\n",
       "         [-4.31315631e-01, -3.78357410e-01],\n",
       "         [ 1.31282473e+00,  1.35330689e+00],\n",
       "         ...,\n",
       "         [-6.44693255e-01, -1.17246592e+00],\n",
       "         [ 8.76227975e-01,  7.19912112e-01],\n",
       "         [ 8.46902654e-02,  1.45877255e-02]],\n",
       " \n",
       "        [[-2.41089724e-02,  1.41239002e-01],\n",
       "         [ 4.04870093e-01, -1.72706997e+00],\n",
       "         [-4.71843183e-01,  2.11047459e+00],\n",
       "         ...,\n",
       "         [-6.15702309e-02,  4.12303656e-01],\n",
       "         [ 6.26155555e-01,  5.63211381e-01],\n",
       "         [-9.20940161e-01,  4.00726646e-01]],\n",
       " \n",
       "        ...,\n",
       " \n",
       "        [[ 0.00000000e+00,  0.00000000e+00],\n",
       "         [ 0.00000000e+00,  0.00000000e+00],\n",
       "         [ 0.00000000e+00,  0.00000000e+00],\n",
       "         ...,\n",
       "         [ 0.00000000e+00,  0.00000000e+00],\n",
       "         [ 0.00000000e+00,  0.00000000e+00],\n",
       "         [ 0.00000000e+00,  0.00000000e+00]],\n",
       " \n",
       "        [[ 0.00000000e+00,  0.00000000e+00],\n",
       "         [ 0.00000000e+00,  0.00000000e+00],\n",
       "         [ 0.00000000e+00,  0.00000000e+00],\n",
       "         ...,\n",
       "         [ 0.00000000e+00,  0.00000000e+00],\n",
       "         [ 0.00000000e+00,  0.00000000e+00],\n",
       "         [ 0.00000000e+00,  0.00000000e+00]],\n",
       " \n",
       "        [[ 0.00000000e+00,  0.00000000e+00],\n",
       "         [ 0.00000000e+00,  0.00000000e+00],\n",
       "         [ 0.00000000e+00,  0.00000000e+00],\n",
       "         ...,\n",
       "         [ 0.00000000e+00,  0.00000000e+00],\n",
       "         [ 0.00000000e+00,  0.00000000e+00],\n",
       "         [ 0.00000000e+00,  0.00000000e+00]]]),\n",
       " 'p_out': array([[[3277.29638672, 1947.62573242],\n",
       "         [3277.29614258, 1947.62548828],\n",
       "         [3277.29589844, 1947.62536621],\n",
       "         ...,\n",
       "         [3277.29541016, 1947.62646484],\n",
       "         [3277.29541016, 1947.62646484],\n",
       "         [3277.29541016, 1947.62670898]],\n",
       " \n",
       "        [[3277.15771484, 1977.7611084 ],\n",
       "         [3277.16625977, 1977.69189453],\n",
       "         [3277.14941406, 1977.75964355],\n",
       "         ...,\n",
       "         [3277.1340332 , 1977.74291992],\n",
       "         [3277.1496582 , 1977.73718262],\n",
       "         [3277.1496582 , 1977.73718262]],\n",
       " \n",
       "        [[3232.32006836, 1922.80334473],\n",
       "         [3232.31762695, 1922.79418945],\n",
       "         [3232.29296875, 1922.82763672],\n",
       "         ...,\n",
       "         [3232.28808594, 1922.85314941],\n",
       "         [3232.29101562, 1922.82666016],\n",
       "         [3232.29101562, 1922.82666016]],\n",
       " \n",
       "        ...,\n",
       " \n",
       "        [[   0.        ,    0.        ],\n",
       "         [   0.        ,    0.        ],\n",
       "         [   0.        ,    0.        ],\n",
       "         ...,\n",
       "         [   0.        ,    0.        ],\n",
       "         [   0.        ,    0.        ],\n",
       "         [   0.        ,    0.        ]],\n",
       " \n",
       "        [[   0.        ,    0.        ],\n",
       "         [   0.        ,    0.        ],\n",
       "         [   0.        ,    0.        ],\n",
       "         ...,\n",
       "         [   0.        ,    0.        ],\n",
       "         [   0.        ,    0.        ],\n",
       "         [   0.        ,    0.        ]],\n",
       " \n",
       "        [[   0.        ,    0.        ],\n",
       "         [   0.        ,    0.        ],\n",
       "         [   0.        ,    0.        ],\n",
       "         ...,\n",
       "         [   0.        ,    0.        ],\n",
       "         [   0.        ,    0.        ],\n",
       "         [   0.        ,    0.        ]]]),\n",
       " 'v_out': array([[[ 2.23074952e-04, -7.17567338e-04],\n",
       "         [-2.14161561e-03, -2.68083508e-03],\n",
       "         [-2.10844958e-03, -1.38447585e-03],\n",
       "         ...,\n",
       "         [-3.12039308e-04,  3.49857635e-03],\n",
       "         [-1.13467422e-05,  8.84994690e-04],\n",
       "         [-7.37932278e-04,  2.20256718e-03]],\n",
       " \n",
       "        [[-1.23664290e-01,  3.38962704e-01],\n",
       "         [ 8.55064988e-02, -6.91424370e-01],\n",
       "         [-1.69878080e-01,  6.77078724e-01],\n",
       "         ...,\n",
       "         [-6.44134939e-01,  2.26514712e-02],\n",
       "         [ 1.56958163e-01, -5.63322864e-02],\n",
       "         [ 0.00000000e+00,  0.00000000e+00]],\n",
       " \n",
       "        [[ 6.11260235e-01, -1.66518033e+00],\n",
       "         [-2.43129265e-02, -9.12000611e-02],\n",
       "         [-2.46453330e-01,  3.33999157e-01],\n",
       "         ...,\n",
       "         [-3.75109762e-01,  3.75737846e-01],\n",
       "         [ 2.91352477e-02, -2.65047491e-01],\n",
       "         [ 0.00000000e+00,  0.00000000e+00]],\n",
       " \n",
       "        ...,\n",
       " \n",
       "        [[ 0.00000000e+00,  0.00000000e+00],\n",
       "         [ 0.00000000e+00,  0.00000000e+00],\n",
       "         [ 0.00000000e+00,  0.00000000e+00],\n",
       "         ...,\n",
       "         [ 0.00000000e+00,  0.00000000e+00],\n",
       "         [ 0.00000000e+00,  0.00000000e+00],\n",
       "         [ 0.00000000e+00,  0.00000000e+00]],\n",
       " \n",
       "        [[ 0.00000000e+00,  0.00000000e+00],\n",
       "         [ 0.00000000e+00,  0.00000000e+00],\n",
       "         [ 0.00000000e+00,  0.00000000e+00],\n",
       "         ...,\n",
       "         [ 0.00000000e+00,  0.00000000e+00],\n",
       "         [ 0.00000000e+00,  0.00000000e+00],\n",
       "         [ 0.00000000e+00,  0.00000000e+00]],\n",
       " \n",
       "        [[ 0.00000000e+00,  0.00000000e+00],\n",
       "         [ 0.00000000e+00,  0.00000000e+00],\n",
       "         [ 0.00000000e+00,  0.00000000e+00],\n",
       "         ...,\n",
       "         [ 0.00000000e+00,  0.00000000e+00],\n",
       "         [ 0.00000000e+00,  0.00000000e+00],\n",
       "         [ 0.00000000e+00,  0.00000000e+00]]]),\n",
       " 'track_id': array([[['00000000-0000-0000-0000-000000000000'],\n",
       "         ['00000000-0000-0000-0000-000000000000'],\n",
       "         ['00000000-0000-0000-0000-000000000000'],\n",
       "         ...,\n",
       "         ['00000000-0000-0000-0000-000000000000'],\n",
       "         ['00000000-0000-0000-0000-000000000000'],\n",
       "         ['00000000-0000-0000-0000-000000000000']],\n",
       " \n",
       "        [['00000000-0000-0000-0000-000000000007'],\n",
       "         ['00000000-0000-0000-0000-000000000007'],\n",
       "         ['00000000-0000-0000-0000-000000000007'],\n",
       "         ...,\n",
       "         ['00000000-0000-0000-0000-000000000007'],\n",
       "         ['00000000-0000-0000-0000-000000000007'],\n",
       "         ['00000000-0000-0000-0000-000000000007']],\n",
       " \n",
       "        [['00000000-0000-0000-0000-000000000009'],\n",
       "         ['00000000-0000-0000-0000-000000000009'],\n",
       "         ['00000000-0000-0000-0000-000000000009'],\n",
       "         ...,\n",
       "         ['00000000-0000-0000-0000-000000000009'],\n",
       "         ['00000000-0000-0000-0000-000000000009'],\n",
       "         ['00000000-0000-0000-0000-000000000009']],\n",
       " \n",
       "        ...,\n",
       " \n",
       "        [['dummy51'],\n",
       "         ['dummy51'],\n",
       "         ['dummy51'],\n",
       "         ...,\n",
       "         ['dummy51'],\n",
       "         ['dummy51'],\n",
       "         ['dummy51']],\n",
       " \n",
       "        [['dummy52'],\n",
       "         ['dummy52'],\n",
       "         ['dummy52'],\n",
       "         ...,\n",
       "         ['dummy52'],\n",
       "         ['dummy52'],\n",
       "         ['dummy52']],\n",
       " \n",
       "        [['dummy53'],\n",
       "         ['dummy53'],\n",
       "         ['dummy53'],\n",
       "         ...,\n",
       "         ['dummy53'],\n",
       "         ['dummy53'],\n",
       "         ['dummy53']]], dtype=object)}"
      ]
     },
     "execution_count": 7,
     "metadata": {},
     "output_type": "execute_result"
    }
   ],
   "source": [
    "train_src=r'data/new_train/new_train'\n",
    "test_src=r'data/new_val_in/new_val_in'\n",
    "fn=r'0.pkl'\n",
    "device='cuda'\n",
    "\n",
    "data0=pd.read_pickle(os.path.join(src,fn))\n",
    "# df0=pd.DataFrame(data0)\n",
    "data0"
   ]
  },
  {
   "cell_type": "code",
   "execution_count": 3,
   "id": "a4803b11-c4bb-43ea-912f-357655b214ae",
   "metadata": {},
   "outputs": [
    {
     "data": {
      "text/plain": [
       "dict_keys(['city', 'lane', 'lane_norm', 'scene_idx', 'agent_id', 'car_mask', 'p_in', 'v_in', 'p_out', 'v_out', 'track_id'])"
      ]
     },
     "execution_count": 3,
     "metadata": {},
     "output_type": "execute_result"
    }
   ],
   "source": [
    "data0.keys()"
   ]
  },
  {
   "cell_type": "code",
   "execution_count": 4,
   "id": "865b0a9d-6c6d-46af-95fd-5bff72785a07",
   "metadata": {
    "collapsed": true,
    "jupyter": {
     "outputs_hidden": true
    },
    "tags": []
   },
   "outputs": [
    {
     "data": {
      "text/plain": [
       "{'lane': (72, 3),\n",
       " 'lane_norm': (72, 3),\n",
       " 'car_mask': (60, 1),\n",
       " 'p_in': (60, 19, 2),\n",
       " 'v_in': (60, 19, 2),\n",
       " 'p_out': (60, 30, 2),\n",
       " 'v_out': (60, 30, 2),\n",
       " 'track_id': (60, 30, 1)}"
      ]
     },
     "execution_count": 4,
     "metadata": {},
     "output_type": "execute_result"
    }
   ],
   "source": [
    "data_keys=['lane',\n",
    "           'lane_norm',\n",
    "           'car_mask',\n",
    "           'p_in',\n",
    "           'v_in',\n",
    "           'p_out',\n",
    "           'v_out',\n",
    "           'track_id']\n",
    "\n",
    "data00=dict(zip(data_keys, [data0[key].shape for key in data_keys]))\n",
    "#df=pd.DataFrame.from_records(data00)\n",
    "data00"
   ]
  },
  {
   "cell_type": "code",
   "execution_count": 5,
   "id": "6e6d75b3-7f3d-492f-bd7d-71f0822194f2",
   "metadata": {
    "collapsed": true,
    "jupyter": {
     "outputs_hidden": true
    },
    "tags": []
   },
   "outputs": [
    {
     "data": {
      "text/plain": [
       "array([[3278.8716, 1968.7596,    0.    ],\n",
       "       [3282.6606, 1972.2533,    0.    ],\n",
       "       [3286.4429, 1975.7545,    0.    ],\n",
       "       [3290.2249, 1979.2559,    0.    ],\n",
       "       [3294.007 , 1982.7572,    0.    ],\n",
       "       [3297.789 , 1986.2584,    0.    ],\n",
       "       [3301.5713, 1989.7598,    0.    ],\n",
       "       [3305.3533, 1993.2611,    0.    ],\n",
       "       [3309.1355, 1996.7623,    0.    ],\n",
       "       [3269.4802, 1967.0625,    0.    ],\n",
       "       [3267.2764, 1965.0217,    0.    ],\n",
       "       [3265.0664, 1962.9877,    0.    ],\n",
       "       [3262.8562, 1960.9536,    0.    ],\n",
       "       [3260.646 , 1958.9197,    0.    ],\n",
       "       [3258.436 , 1956.8856,    0.    ],\n",
       "       [3256.2258, 1954.8517,    0.    ],\n",
       "       [3254.0132, 1952.8207,    0.    ],\n",
       "       [3251.7898, 1950.8013,    0.    ],\n",
       "       [3235.7622, 1935.9915,    0.    ],\n",
       "       [3231.5237, 1932.1249,    0.    ],\n",
       "       [3227.2852, 1928.2582,    0.    ],\n",
       "       [3223.0923, 1924.343 ,    0.    ],\n",
       "       [3218.9045, 1920.4214,    0.    ],\n",
       "       [3214.7097, 1916.5073,    0.    ],\n",
       "       [3210.515 , 1912.5933,    0.    ],\n",
       "       [3206.3198, 1908.6793,    0.    ],\n",
       "       [3202.125 , 1904.7653,    0.    ],\n",
       "       [3257.3713, 1948.8804,    0.    ],\n",
       "       [3259.5886, 1950.9248,    0.    ],\n",
       "       [3261.8032, 1952.972 ,    0.    ],\n",
       "       [3264.018 , 1955.0194,    0.    ],\n",
       "       [3266.2327, 1957.0667,    0.    ],\n",
       "       [3268.4475, 1959.114 ,    0.    ],\n",
       "       [3270.6619, 1961.1615,    0.    ],\n",
       "       [3272.8704, 1963.2156,    0.    ],\n",
       "       [3275.0789, 1965.2697,    0.    ],\n",
       "       [3250.4824, 1949.5826,    0.    ],\n",
       "       [3249.175 , 1948.364 ,    0.    ],\n",
       "       [3247.8677, 1947.1453,    0.    ],\n",
       "       [3246.5603, 1945.9266,    0.    ],\n",
       "       [3245.253 , 1944.7081,    0.    ],\n",
       "       [3243.9443, 1943.4907,    0.    ],\n",
       "       [3242.6338, 1942.2755,    0.    ],\n",
       "       [3241.317 , 1941.0673,    0.    ],\n",
       "       [3240.    , 1939.859 ,    0.    ],\n",
       "       [3241.6833, 1934.2916,    0.    ],\n",
       "       [3243.3665, 1935.8604,    0.    ],\n",
       "       [3245.0498, 1937.4291,    0.    ],\n",
       "       [3246.7332, 1938.9977,    0.    ],\n",
       "       [3248.4153, 1940.5676,    0.    ],\n",
       "       [3250.0972, 1942.1377,    0.    ],\n",
       "       [3251.7793, 1943.7078,    0.    ],\n",
       "       [3253.4612, 1945.2777,    0.    ],\n",
       "       [3255.1433, 1946.8478,    0.    ],\n",
       "       [3209.2793, 1904.4741,    0.    ],\n",
       "       [3213.136 , 1907.9872,    0.    ],\n",
       "       [3216.9924, 1911.5002,    0.    ],\n",
       "       [3220.849 , 1915.0134,    0.    ],\n",
       "       [3224.7056, 1918.5265,    0.    ],\n",
       "       [3228.5376, 1922.0667,    0.    ],\n",
       "       [3232.3584, 1925.6188,    0.    ],\n",
       "       [3236.1792, 1929.1709,    0.    ],\n",
       "       [3240.    , 1932.723 ,    0.    ],\n",
       "       [3301.7441, 1996.9043,    0.    ],\n",
       "       [3297.9888, 1993.4269,    0.    ],\n",
       "       [3294.2334, 1989.9493,    0.    ],\n",
       "       [3290.478 , 1986.4718,    0.    ],\n",
       "       [3286.723 , 1982.9943,    0.    ],\n",
       "       [3282.9675, 1979.5168,    0.    ],\n",
       "       [3279.2122, 1976.0393,    0.    ],\n",
       "       [3275.45  , 1972.5695,    0.    ],\n",
       "       [3271.684 , 1969.1033,    0.    ]], dtype=float32)"
      ]
     },
     "execution_count": 5,
     "metadata": {},
     "output_type": "execute_result"
    }
   ],
   "source": [
    "data0['lane']"
   ]
  },
  {
   "cell_type": "code",
   "execution_count": null,
   "id": "dddd7ea7-464b-4866-a7b5-93b224c47c37",
   "metadata": {},
   "outputs": [],
   "source": [
    "lane_df=pd.DataFrame({\n",
    "    'lane':data0['lane'],\n",
    "    'lane_norm':data0['lane_norm']\n",
    "})\n",
    "lane_df"
   ]
  },
  {
   "cell_type": "code",
   "execution_count": 9,
   "id": "781f5e4b-e52c-46a5-9b06-cc9d555b12df",
   "metadata": {
    "collapsed": true,
    "jupyter": {
     "outputs_hidden": true
    },
    "tags": []
   },
   "outputs": [
    {
     "ename": "ValueError",
     "evalue": "Data must be 1-dimensional",
     "output_type": "error",
     "traceback": [
      "\u001b[0;31m---------------------------------------------------------------------------\u001b[0m",
      "\u001b[0;31mValueError\u001b[0m                                Traceback (most recent call last)",
      "\u001b[0;32m<ipython-input-9-cb36ec243acd>\u001b[0m in \u001b[0;36m<module>\u001b[0;34m\u001b[0m\n\u001b[0;32m----> 1\u001b[0;31m \u001b[0mpd\u001b[0m\u001b[0;34m.\u001b[0m\u001b[0mDataFrame\u001b[0m\u001b[0;34m(\u001b[0m\u001b[0mdata0\u001b[0m\u001b[0;34m,\u001b[0m \u001b[0mindex\u001b[0m\u001b[0;34m=\u001b[0m\u001b[0;34m[\u001b[0m\u001b[0;36m0\u001b[0m\u001b[0;34m]\u001b[0m\u001b[0;34m)\u001b[0m\u001b[0;34m\u001b[0m\u001b[0;34m\u001b[0m\u001b[0m\n\u001b[0m",
      "\u001b[0;32m~/anaconda3/envs/pyt18/lib/python3.8/site-packages/pandas/core/frame.py\u001b[0m in \u001b[0;36m__init__\u001b[0;34m(self, data, index, columns, dtype, copy)\u001b[0m\n\u001b[1;32m    527\u001b[0m \u001b[0;34m\u001b[0m\u001b[0m\n\u001b[1;32m    528\u001b[0m         \u001b[0;32melif\u001b[0m \u001b[0misinstance\u001b[0m\u001b[0;34m(\u001b[0m\u001b[0mdata\u001b[0m\u001b[0;34m,\u001b[0m \u001b[0mdict\u001b[0m\u001b[0;34m)\u001b[0m\u001b[0;34m:\u001b[0m\u001b[0;34m\u001b[0m\u001b[0;34m\u001b[0m\u001b[0m\n\u001b[0;32m--> 529\u001b[0;31m             \u001b[0mmgr\u001b[0m \u001b[0;34m=\u001b[0m \u001b[0minit_dict\u001b[0m\u001b[0;34m(\u001b[0m\u001b[0mdata\u001b[0m\u001b[0;34m,\u001b[0m \u001b[0mindex\u001b[0m\u001b[0;34m,\u001b[0m \u001b[0mcolumns\u001b[0m\u001b[0;34m,\u001b[0m \u001b[0mdtype\u001b[0m\u001b[0;34m=\u001b[0m\u001b[0mdtype\u001b[0m\u001b[0;34m)\u001b[0m\u001b[0;34m\u001b[0m\u001b[0;34m\u001b[0m\u001b[0m\n\u001b[0m\u001b[1;32m    530\u001b[0m         \u001b[0;32melif\u001b[0m \u001b[0misinstance\u001b[0m\u001b[0;34m(\u001b[0m\u001b[0mdata\u001b[0m\u001b[0;34m,\u001b[0m \u001b[0mma\u001b[0m\u001b[0;34m.\u001b[0m\u001b[0mMaskedArray\u001b[0m\u001b[0;34m)\u001b[0m\u001b[0;34m:\u001b[0m\u001b[0;34m\u001b[0m\u001b[0;34m\u001b[0m\u001b[0m\n\u001b[1;32m    531\u001b[0m             \u001b[0;32mimport\u001b[0m \u001b[0mnumpy\u001b[0m\u001b[0;34m.\u001b[0m\u001b[0mma\u001b[0m\u001b[0;34m.\u001b[0m\u001b[0mmrecords\u001b[0m \u001b[0;32mas\u001b[0m \u001b[0mmrecords\u001b[0m\u001b[0;34m\u001b[0m\u001b[0;34m\u001b[0m\u001b[0m\n",
      "\u001b[0;32m~/anaconda3/envs/pyt18/lib/python3.8/site-packages/pandas/core/internals/construction.py\u001b[0m in \u001b[0;36minit_dict\u001b[0;34m(data, index, columns, dtype)\u001b[0m\n\u001b[1;32m    285\u001b[0m             \u001b[0marr\u001b[0m \u001b[0;32mif\u001b[0m \u001b[0;32mnot\u001b[0m \u001b[0mis_datetime64tz_dtype\u001b[0m\u001b[0;34m(\u001b[0m\u001b[0marr\u001b[0m\u001b[0;34m)\u001b[0m \u001b[0;32melse\u001b[0m \u001b[0marr\u001b[0m\u001b[0;34m.\u001b[0m\u001b[0mcopy\u001b[0m\u001b[0;34m(\u001b[0m\u001b[0;34m)\u001b[0m \u001b[0;32mfor\u001b[0m \u001b[0marr\u001b[0m \u001b[0;32min\u001b[0m \u001b[0marrays\u001b[0m\u001b[0;34m\u001b[0m\u001b[0;34m\u001b[0m\u001b[0m\n\u001b[1;32m    286\u001b[0m         ]\n\u001b[0;32m--> 287\u001b[0;31m     \u001b[0;32mreturn\u001b[0m \u001b[0marrays_to_mgr\u001b[0m\u001b[0;34m(\u001b[0m\u001b[0marrays\u001b[0m\u001b[0;34m,\u001b[0m \u001b[0mdata_names\u001b[0m\u001b[0;34m,\u001b[0m \u001b[0mindex\u001b[0m\u001b[0;34m,\u001b[0m \u001b[0mcolumns\u001b[0m\u001b[0;34m,\u001b[0m \u001b[0mdtype\u001b[0m\u001b[0;34m=\u001b[0m\u001b[0mdtype\u001b[0m\u001b[0;34m)\u001b[0m\u001b[0;34m\u001b[0m\u001b[0;34m\u001b[0m\u001b[0m\n\u001b[0m\u001b[1;32m    288\u001b[0m \u001b[0;34m\u001b[0m\u001b[0m\n\u001b[1;32m    289\u001b[0m \u001b[0;34m\u001b[0m\u001b[0m\n",
      "\u001b[0;32m~/anaconda3/envs/pyt18/lib/python3.8/site-packages/pandas/core/internals/construction.py\u001b[0m in \u001b[0;36marrays_to_mgr\u001b[0;34m(arrays, arr_names, index, columns, dtype, verify_integrity)\u001b[0m\n\u001b[1;32m     83\u001b[0m \u001b[0;34m\u001b[0m\u001b[0m\n\u001b[1;32m     84\u001b[0m         \u001b[0;31m# don't force copy because getting jammed in an ndarray anyway\u001b[0m\u001b[0;34m\u001b[0m\u001b[0;34m\u001b[0m\u001b[0;34m\u001b[0m\u001b[0m\n\u001b[0;32m---> 85\u001b[0;31m         \u001b[0marrays\u001b[0m \u001b[0;34m=\u001b[0m \u001b[0m_homogenize\u001b[0m\u001b[0;34m(\u001b[0m\u001b[0marrays\u001b[0m\u001b[0;34m,\u001b[0m \u001b[0mindex\u001b[0m\u001b[0;34m,\u001b[0m \u001b[0mdtype\u001b[0m\u001b[0;34m)\u001b[0m\u001b[0;34m\u001b[0m\u001b[0;34m\u001b[0m\u001b[0m\n\u001b[0m\u001b[1;32m     86\u001b[0m \u001b[0;34m\u001b[0m\u001b[0m\n\u001b[1;32m     87\u001b[0m         \u001b[0mcolumns\u001b[0m \u001b[0;34m=\u001b[0m \u001b[0mensure_index\u001b[0m\u001b[0;34m(\u001b[0m\u001b[0mcolumns\u001b[0m\u001b[0;34m)\u001b[0m\u001b[0;34m\u001b[0m\u001b[0;34m\u001b[0m\u001b[0m\n",
      "\u001b[0;32m~/anaconda3/envs/pyt18/lib/python3.8/site-packages/pandas/core/internals/construction.py\u001b[0m in \u001b[0;36m_homogenize\u001b[0;34m(data, index, dtype)\u001b[0m\n\u001b[1;32m    353\u001b[0m                     \u001b[0mval\u001b[0m \u001b[0;34m=\u001b[0m \u001b[0mdict\u001b[0m\u001b[0;34m(\u001b[0m\u001b[0mval\u001b[0m\u001b[0;34m)\u001b[0m\u001b[0;34m\u001b[0m\u001b[0;34m\u001b[0m\u001b[0m\n\u001b[1;32m    354\u001b[0m                 \u001b[0mval\u001b[0m \u001b[0;34m=\u001b[0m \u001b[0mlib\u001b[0m\u001b[0;34m.\u001b[0m\u001b[0mfast_multiget\u001b[0m\u001b[0;34m(\u001b[0m\u001b[0mval\u001b[0m\u001b[0;34m,\u001b[0m \u001b[0moindex\u001b[0m\u001b[0;34m.\u001b[0m\u001b[0m_values\u001b[0m\u001b[0;34m,\u001b[0m \u001b[0mdefault\u001b[0m\u001b[0;34m=\u001b[0m\u001b[0mnp\u001b[0m\u001b[0;34m.\u001b[0m\u001b[0mnan\u001b[0m\u001b[0;34m)\u001b[0m\u001b[0;34m\u001b[0m\u001b[0;34m\u001b[0m\u001b[0m\n\u001b[0;32m--> 355\u001b[0;31m             val = sanitize_array(\n\u001b[0m\u001b[1;32m    356\u001b[0m                 \u001b[0mval\u001b[0m\u001b[0;34m,\u001b[0m \u001b[0mindex\u001b[0m\u001b[0;34m,\u001b[0m \u001b[0mdtype\u001b[0m\u001b[0;34m=\u001b[0m\u001b[0mdtype\u001b[0m\u001b[0;34m,\u001b[0m \u001b[0mcopy\u001b[0m\u001b[0;34m=\u001b[0m\u001b[0;32mFalse\u001b[0m\u001b[0;34m,\u001b[0m \u001b[0mraise_cast_failure\u001b[0m\u001b[0;34m=\u001b[0m\u001b[0;32mFalse\u001b[0m\u001b[0;34m\u001b[0m\u001b[0;34m\u001b[0m\u001b[0m\n\u001b[1;32m    357\u001b[0m             )\n",
      "\u001b[0;32m~/anaconda3/envs/pyt18/lib/python3.8/site-packages/pandas/core/construction.py\u001b[0m in \u001b[0;36msanitize_array\u001b[0;34m(data, index, dtype, copy, raise_cast_failure)\u001b[0m\n\u001b[1;32m    527\u001b[0m     \u001b[0;32melif\u001b[0m \u001b[0msubarr\u001b[0m\u001b[0;34m.\u001b[0m\u001b[0mndim\u001b[0m \u001b[0;34m>\u001b[0m \u001b[0;36m1\u001b[0m\u001b[0;34m:\u001b[0m\u001b[0;34m\u001b[0m\u001b[0;34m\u001b[0m\u001b[0m\n\u001b[1;32m    528\u001b[0m         \u001b[0;32mif\u001b[0m \u001b[0misinstance\u001b[0m\u001b[0;34m(\u001b[0m\u001b[0mdata\u001b[0m\u001b[0;34m,\u001b[0m \u001b[0mnp\u001b[0m\u001b[0;34m.\u001b[0m\u001b[0mndarray\u001b[0m\u001b[0;34m)\u001b[0m\u001b[0;34m:\u001b[0m\u001b[0;34m\u001b[0m\u001b[0;34m\u001b[0m\u001b[0m\n\u001b[0;32m--> 529\u001b[0;31m             \u001b[0;32mraise\u001b[0m \u001b[0mValueError\u001b[0m\u001b[0;34m(\u001b[0m\u001b[0;34m\"Data must be 1-dimensional\"\u001b[0m\u001b[0;34m)\u001b[0m\u001b[0;34m\u001b[0m\u001b[0;34m\u001b[0m\u001b[0m\n\u001b[0m\u001b[1;32m    530\u001b[0m         \u001b[0;32melse\u001b[0m\u001b[0;34m:\u001b[0m\u001b[0;34m\u001b[0m\u001b[0;34m\u001b[0m\u001b[0m\n\u001b[1;32m    531\u001b[0m             \u001b[0msubarr\u001b[0m \u001b[0;34m=\u001b[0m \u001b[0mcom\u001b[0m\u001b[0;34m.\u001b[0m\u001b[0masarray_tuplesafe\u001b[0m\u001b[0;34m(\u001b[0m\u001b[0mdata\u001b[0m\u001b[0;34m,\u001b[0m \u001b[0mdtype\u001b[0m\u001b[0;34m=\u001b[0m\u001b[0mdtype\u001b[0m\u001b[0;34m)\u001b[0m\u001b[0;34m\u001b[0m\u001b[0;34m\u001b[0m\u001b[0m\n",
      "\u001b[0;31mValueError\u001b[0m: Data must be 1-dimensional"
     ]
    }
   ],
   "source": [
    "pd.DataFrame(data0)"
   ]
  },
  {
   "cell_type": "code",
   "execution_count": 14,
   "id": "f46cd1b0-6a14-4a8a-ad47-de8bbe0fb41f",
   "metadata": {},
   "outputs": [],
   "source": [
    "class ArgoverseDataset(Dataset):\n",
    "    \"\"\"Dataset class for Argoverse\"\"\"\n",
    "    def __init__(self, data_path: str, transform=None):\n",
    "        super(ArgoverseDataset, self).__init__()\n",
    "        self.data_path = data_path\n",
    "        self.transform = transform\n",
    "\n",
    "        self.pkl_list = glob(os.path.join(self.data_path, '*'))\n",
    "        self.pkl_list.sort()\n",
    "        \n",
    "    def __len__(self):\n",
    "        return len(self.pkl_list)\n",
    "\n",
    "    def __getitem__(self, idx):\n",
    "\n",
    "        pkl_path = self.pkl_list[idx]\n",
    "        with open(pkl_path, 'rb') as f:\n",
    "            data = pickle.load(f)\n",
    "            \n",
    "        if self.transform:\n",
    "            data = self.transform(data)\n",
    "                \n",
    "        return data\n",
    "#BATCH LOADER THAT GIVES [4, 1, 19, 2] TENSOR\n",
    "batch_sz = 4\n",
    "\n",
    "def my_collate(batch):\n",
    "    \"\"\" collate lists of samples into batches, create [ batch_sz x seq_len x feature] \"\"\"\n",
    "    inp = [[scene['p_in'][np.where(scene['track_id'][:,0,0] == scene['agent_id'])[0][0]]] for scene in batch]\n",
    "    out = [[scene['p_out'][np.where(scene['track_id'][:,0,0] == scene['agent_id'])[0][0]][0]] for scene in batch]\n",
    "    inp = torch.FloatTensor(inp)\n",
    "    out = torch.FloatTensor(out)\n",
    "    return [inp, out]\n",
    "\n",
    "\n",
    "def my_collate_test(batch):\n",
    "    \"\"\" collate lists of samples into batches, create [ batch_sz x seq_len x feature] \"\"\"\n",
    "    inp = [[scene['p_in'][np.where(scene['track_id'][:,0,0] == scene['agent_id'])[0][0]]] for scene in batch]\n",
    "    out = [[scene['p_in'][np.where(scene['track_id'][:,0,0] == scene['agent_id'])[0][0]]] for scene in batch]\n",
    "    inp = torch.FloatTensor(inp)\n",
    "    out = torch.FloatTensor(out)\n",
    "    return [inp, out]"
   ]
  },
  {
   "cell_type": "code",
   "execution_count": 61,
   "id": "1e142017-072d-46d9-acb8-d03fa6690a45",
   "metadata": {},
   "outputs": [
    {
     "ename": "NameError",
     "evalue": "name 'test_dataset' is not defined",
     "output_type": "error",
     "traceback": [
      "\u001b[0;31m---------------------------------------------------------------------------\u001b[0m",
      "\u001b[0;31mNameError\u001b[0m                                 Traceback (most recent call last)",
      "\u001b[0;32m<ipython-input-61-5a0da601c469>\u001b[0m in \u001b[0;36m<module>\u001b[0;34m\u001b[0m\n\u001b[1;32m     10\u001b[0m \u001b[0;34m\u001b[0m\u001b[0m\n\u001b[1;32m     11\u001b[0m test_loader = DataLoader(\n\u001b[0;32m---> 12\u001b[0;31m     \u001b[0mtest_dataset\u001b[0m\u001b[0;34m,\u001b[0m\u001b[0;34m\u001b[0m\u001b[0;34m\u001b[0m\u001b[0m\n\u001b[0m\u001b[1;32m     13\u001b[0m     \u001b[0mbatch_size\u001b[0m\u001b[0;34m=\u001b[0m\u001b[0mbatch_sz\u001b[0m\u001b[0;34m,\u001b[0m\u001b[0;34m\u001b[0m\u001b[0;34m\u001b[0m\u001b[0m\n\u001b[1;32m     14\u001b[0m     \u001b[0mshuffle\u001b[0m \u001b[0;34m=\u001b[0m \u001b[0;32mFalse\u001b[0m\u001b[0;34m,\u001b[0m\u001b[0;34m\u001b[0m\u001b[0;34m\u001b[0m\u001b[0m\n",
      "\u001b[0;31mNameError\u001b[0m: name 'test_dataset' is not defined"
     ]
    }
   ],
   "source": [
    "#need differnt collate function for validation set since it has no `p_out` or `v_out`\n",
    "\n",
    "# val_loader = DataLoader(\n",
    "#     val_dataset,\n",
    "#     batch_size=batch_sz, \n",
    "#     shuffle = False, \n",
    "#     collate_fn=my_collate, \n",
    "#     num_workers=0\n",
    "# )\n",
    "\n",
    "test_loader = DataLoader(\n",
    "    test_dataset,\n",
    "    batch_size=batch_sz, \n",
    "    shuffle = False, \n",
    "    collate_fn=my_collate_test, \n",
    "    num_workers=0\n",
    ")\n",
    "\n",
    "# intialize a dataset\n",
    "val_dataset = ArgoverseDataset(data_path=train_src)\n",
    "\n",
    "test_dataset = ArgoverseDataset(data_path=test_src)\n",
    "\n",
    "val_dataset, test_dataset, val_loader, test_loader"
   ]
  },
  {
   "cell_type": "code",
   "execution_count": null,
   "id": "e8a9105a-aeee-4d8f-a5cc-a1f6233a8b9c",
   "metadata": {},
   "outputs": [],
   "source": []
  }
 ],
 "metadata": {
  "kernelspec": {
   "display_name": "Python 3",
   "language": "python",
   "name": "python3"
  },
  "language_info": {
   "codemirror_mode": {
    "name": "ipython",
    "version": 3
   },
   "file_extension": ".py",
   "mimetype": "text/x-python",
   "name": "python",
   "nbconvert_exporter": "python",
   "pygments_lexer": "ipython3",
   "version": "3.8.8"
  }
 },
 "nbformat": 4,
 "nbformat_minor": 5
}
