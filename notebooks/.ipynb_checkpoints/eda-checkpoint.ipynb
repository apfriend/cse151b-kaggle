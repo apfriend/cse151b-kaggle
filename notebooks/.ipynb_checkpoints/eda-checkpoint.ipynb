{
 "cells": [
  {
   "cell_type": "markdown",
   "id": "aceb784b-b603-4d35-b14e-f46adf02d296",
   "metadata": {},
   "source": [
    "# CSE 151B Autonomous Vehicle Kaggle Competition EDA\n",
    "\n",
    "Run the provided Jupyter notebook for loading the data. Provide exploratory analysis on thedata and report your findings with texts and figures. Your report should answer the followingquestions at a minimum:\n",
    "\n",
    "- what is the train/test data size, how many dimensions of inputs/outputs\n",
    "- what is the distribution of input positions for all agents (hint: use histogram)\n",
    "- what is the distribution of output positions for all agents (hint: use histogram)\n",
    "- what is the distribution of velocity (magnitude) of all agents and the target agent\n",
    "\n",
    "If you include more exploratory analysis beyond the above questions that provides in- sightsinto the data, you will receive bonus points"
   ]
  },
  {
   "cell_type": "code",
   "execution_count": 17,
   "id": "dac3a1d3-b108-475e-9489-6d9181938b1d",
   "metadata": {
    "tags": []
   },
   "outputs": [
    {
     "name": "stdout",
     "output_type": "stream",
     "text": [
      "The autoreload extension is already loaded. To reload it, use:\n",
      "  %reload_ext autoreload\n"
     ]
    }
   ],
   "source": [
    "%load_ext autoreload\n",
    "%autoreload 2\n",
    "\n",
    "import os\n",
    "import sys\n",
    "import pandas as pd\n",
    "import random\n",
    "import torch\n",
    "from torch.utils.data import Dataset, DataLoader\n",
    "import numpy as np\n",
    "import pickle\n",
    "from glob import glob\n",
    "import matplotlib.pyplot as plt\n",
    "import random\n",
    "import multiprocessing\n",
    "from tqdm import tqdm\n",
    "import seaborn as sns\n",
    "from IPython.display import display\n",
    "\n",
    "sys.path.append(os.path.dirname(os.getcwd()))\n",
    "from run_model import my_collate, my_collate2, ArgoverseDataset, sample_files, dataloader_to_csv"
   ]
  },
  {
   "cell_type": "markdown",
   "id": "2cbccd86-0c4a-4589-81c2-59cf2c05be96",
   "metadata": {},
   "source": [
    "## Load DataSet\n",
    "\n",
    "Use the provided `ArgoverseDataset` PyTorch DataSet class to load data into a dataset, then use the other provided `my_collate` method as a collate function in the PyTorch DataLoader class to be used."
   ]
  },
  {
   "cell_type": "code",
   "execution_count": 2,
   "id": "a93cf1ee-1fd3-4a08-a1a5-85a837d8f0a2",
   "metadata": {},
   "outputs": [],
   "source": [
    "train_path = \"/home/apfriend/ucsd/CURRENT/cse151b/kaggle/data/new_train/new_train\"\n",
    "val_path=\"/home/apfriend/ucsd/CURRENT/cse151b/kaggle/data/new_val_in/new_val_in\""
   ]
  },
  {
   "cell_type": "code",
   "execution_count": 4,
   "id": "92a1f596-38b6-4383-a2df-ce15152d1a41",
   "metadata": {},
   "outputs": [],
   "source": [
    "val_dataset=ArgoverseDataset(data_path=val_path)\n",
    "train_dataset=ArgoverseDataset(data_path=train_path)\n",
    "\n",
    "batchsize = 4\n",
    "\n",
    "#use same number of workers as CPU cores (4)\n",
    "nworkers=multiprocessing.cpu_count()\n",
    "\n",
    "#need different collate function for validation set since it has no `p_out` or `v_out`\n",
    "\n",
    "val_loader = DataLoader(\n",
    "    val_dataset,\n",
    "    batch_size=batchsize, \n",
    "    shuffle = False, \n",
    "    collate_fn=my_collate2, \n",
    "    num_workers=nworkers\n",
    ")\n",
    "\n",
    "train_loader = DataLoader(\n",
    "    train_dataset,\n",
    "    batch_size=batchsize, \n",
    "    shuffle = True, \n",
    "    collate_fn=my_collate, \n",
    "    num_workers=nworkers\n",
    ")"
   ]
  },
  {
   "cell_type": "markdown",
   "id": "f6b8bc68-ccf2-41a2-90e6-2b125c98a998",
   "metadata": {},
   "source": [
    "## Train and Test Set Dimensionality"
   ]
  },
  {
   "cell_type": "markdown",
   "id": "6467eb45-e194-4890-8103-23fdbe198e2a",
   "metadata": {},
   "source": [
    "The dimensions of the training data are $2 \\times \\mathrm{batch\\ size} \\times 60 \\times 19 \\times 4$\n",
    "\n",
    ">There are the input and output data (2)\n",
    "\n",
    ">There are 60 cars for 1.9 seconds at 10Hz (19)\n",
    "\n",
    ">For each input/output (for each car) there are positions, velocities in (x,y) coordinates (last 4)"
   ]
  },
  {
   "cell_type": "code",
   "execution_count": 5,
   "id": "c26d544a-d0af-40ad-9c39-c4f7f049cceb",
   "metadata": {
    "tags": []
   },
   "outputs": [
    {
     "name": "stdout",
     "output_type": "stream",
     "text": [
      "Training set size: 205944\n",
      "Training set dimensions: (2, 4, 60, 19, 4)\n"
     ]
    }
   ],
   "source": [
    "print(\"Training set size: %s\"%(int(len(train_loader))*batchsize))\n",
    "\n",
    "for batch in train_loader:\n",
    "    train_batch=batch#.detach().numpy()\n",
    "    break;\n",
    "    \n",
    "dimensions=(\n",
    "    len(train_batch), \n",
    "    len(train_batch[0]),\n",
    "    len(train_batch[0][0]),\n",
    "    len(train_batch[0][0][0]), \n",
    "    len(train_batch[0][0][0][0])\n",
    ")\n",
    "    \n",
    "print(f\"Training set dimensions: {dimensions}\")"
   ]
  },
  {
   "cell_type": "markdown",
   "id": "7de19f9e-813e-4c02-9cc0-3570882a87e2",
   "metadata": {},
   "source": [
    "The dimensions of the validation data are the same as training data except it does not have an output. $\\mathrm{batch\\ size} \\times 60 \\times 19 \\times 4$\n",
    "\n",
    ">There are 60 cars for 1.9 seconds at 10Hz (19)\n",
    "\n",
    ">For each input and output (each car) there are positions, velocities in (x,y) coordinates (last 4)"
   ]
  },
  {
   "cell_type": "code",
   "execution_count": 6,
   "id": "cbd9e7b2-3c7b-4758-a9cc-9e26e7dca4fb",
   "metadata": {},
   "outputs": [
    {
     "name": "stdout",
     "output_type": "stream",
     "text": [
      "Validation set size: 3200\n",
      "Training set dimensions: (4, 60, 19, 4)\n"
     ]
    }
   ],
   "source": [
    "print(\"Validation set size: %s\"%(int(len(val_loader))*batchsize))\n",
    "\n",
    "\n",
    "for batch in val_loader:\n",
    "    val_batch=batch#.detach().numpy()\n",
    "    break;\n",
    "    \n",
    "dimensions=(\n",
    "    len(val_batch), #batch size\n",
    "    len(val_batch[0]), #number of vehicles\n",
    "    len(val_batch[0][0]), #each time interval,\n",
    "    len(val_batch[0][0][0]) #positions\n",
    ")\n",
    "    \n",
    "print(f\"Training set dimensions: {dimensions}\")"
   ]
  },
  {
   "cell_type": "markdown",
   "id": "44162feb-9713-4d2f-9162-3d9b2d183d7d",
   "metadata": {},
   "source": [
    "### Create a sample set of train values to compute statistics like histogram"
   ]
  },
  {
   "cell_type": "code",
   "execution_count": 7,
   "id": "68305a03-f204-4dc3-991b-81bbe32142e7",
   "metadata": {},
   "outputs": [
    {
     "data": {
      "text/plain": [
       "'/home/apfriend/ucsd/CURRENT/cse151b/kaggle/data/new_train/new_train'"
      ]
     },
     "execution_count": 7,
     "metadata": {},
     "output_type": "execute_result"
    }
   ],
   "source": [
    "train_path"
   ]
  },
  {
   "cell_type": "code",
   "execution_count": 13,
   "id": "aad3d943-ebd9-43df-b208-63ee1925bcce",
   "metadata": {
    "tags": []
   },
   "outputs": [],
   "source": [
    "sample_path='/home/apfriend/ucsd/CURRENT/cse151b/kaggle/data/sample'\n",
    "train_sample_path=os.path.join(sample_path, \"train_sample\")\n",
    "# sample 2000 files of the 205,942 .pkl files\n",
    "sample_size=2000\n",
    "\n",
    "#saving sample files to new directory\n",
    "sample_files(\n",
    "    src=train_path, \n",
    "    dst=train_sample_path, \n",
    "    sample_size=sample_size\n",
    ")\n",
    "\n",
    "#create new DataLoader object from sampled files\n",
    "sample_dataset=ArgoverseDataset(data_path=train_sample_path)\n",
    "\n",
    "#give full permissions to sample data\n",
    "!chmod -R +777 $sample_path\n",
    "\n",
    "\n",
    "sample_out_fn='sample_out.csv'\n",
    "\n",
    "\n",
    "\n"
   ]
  },
  {
   "cell_type": "code",
   "execution_count": 14,
   "id": "9fb83453-7eae-47e3-8007-b663990379bb",
   "metadata": {},
   "outputs": [
    {
     "name": "stderr",
     "output_type": "stream",
     "text": [
      "100%|██████████| 10/10 [00:16<00:00,  1.68s/it]\n"
     ]
    }
   ],
   "source": [
    "batchsize = 200\n",
    "\n",
    "#use same number of workers as CPU cores (4)\n",
    "nworkers=multiprocessing.cpu_count()\n",
    "\n",
    "sample_loader = DataLoader(\n",
    "    sample_dataset,\n",
    "    batch_size=batchsize, \n",
    "    shuffle = True, \n",
    "    collate_fn=my_collate, \n",
    "    num_workers=nworkers\n",
    ")\n",
    "\n",
    "dataloader_to_csv(\n",
    "    data_loader=sample_loader,\n",
    "    dst=sample_path,\n",
    "    in_fn=sample_in_fn,\n",
    "    out_fn=sample_out_fn\n",
    ")"
   ]
  },
  {
   "cell_type": "markdown",
   "id": "626b5a36-fdf8-4f2f-9352-ff9f2e90fcbd",
   "metadata": {},
   "source": [
    "### Histogram of Sample Data"
   ]
  },
  {
   "cell_type": "code",
   "execution_count": 19,
   "id": "b32f99a8-0fce-46fc-ad01-e49f463be3cb",
   "metadata": {},
   "outputs": [
    {
     "data": {
      "text/html": [
       "<div>\n",
       "<style scoped>\n",
       "    .dataframe tbody tr th:only-of-type {\n",
       "        vertical-align: middle;\n",
       "    }\n",
       "\n",
       "    .dataframe tbody tr th {\n",
       "        vertical-align: top;\n",
       "    }\n",
       "\n",
       "    .dataframe thead th {\n",
       "        text-align: right;\n",
       "    }\n",
       "</style>\n",
       "<table border=\"1\" class=\"dataframe\">\n",
       "  <thead>\n",
       "    <tr style=\"text-align: right;\">\n",
       "      <th></th>\n",
       "      <th>x_pos</th>\n",
       "      <th>y_pos</th>\n",
       "      <th>x_vel</th>\n",
       "      <th>y_vel</th>\n",
       "    </tr>\n",
       "  </thead>\n",
       "  <tbody>\n",
       "    <tr>\n",
       "      <th>0</th>\n",
       "      <td>497.181702</td>\n",
       "      <td>3995.872314</td>\n",
       "      <td>0.001405</td>\n",
       "      <td>-0.003492</td>\n",
       "    </tr>\n",
       "    <tr>\n",
       "      <th>1</th>\n",
       "      <td>497.181915</td>\n",
       "      <td>3995.871826</td>\n",
       "      <td>0.002322</td>\n",
       "      <td>-0.005172</td>\n",
       "    </tr>\n",
       "    <tr>\n",
       "      <th>2</th>\n",
       "      <td>497.182190</td>\n",
       "      <td>3995.871826</td>\n",
       "      <td>0.002748</td>\n",
       "      <td>-0.000411</td>\n",
       "    </tr>\n",
       "    <tr>\n",
       "      <th>3</th>\n",
       "      <td>497.182098</td>\n",
       "      <td>3995.871338</td>\n",
       "      <td>-0.001016</td>\n",
       "      <td>-0.004760</td>\n",
       "    </tr>\n",
       "    <tr>\n",
       "      <th>4</th>\n",
       "      <td>497.182343</td>\n",
       "      <td>3995.870850</td>\n",
       "      <td>0.002407</td>\n",
       "      <td>-0.004704</td>\n",
       "    </tr>\n",
       "  </tbody>\n",
       "</table>\n",
       "</div>"
      ],
      "text/plain": [
       "        x_pos        y_pos     x_vel     y_vel\n",
       "0  497.181702  3995.872314  0.001405 -0.003492\n",
       "1  497.181915  3995.871826  0.002322 -0.005172\n",
       "2  497.182190  3995.871826  0.002748 -0.000411\n",
       "3  497.182098  3995.871338 -0.001016 -0.004760\n",
       "4  497.182343  3995.870850  0.002407 -0.004704"
      ]
     },
     "metadata": {},
     "output_type": "display_data"
    },
    {
     "data": {
      "text/html": [
       "<div>\n",
       "<style scoped>\n",
       "    .dataframe tbody tr th:only-of-type {\n",
       "        vertical-align: middle;\n",
       "    }\n",
       "\n",
       "    .dataframe tbody tr th {\n",
       "        vertical-align: top;\n",
       "    }\n",
       "\n",
       "    .dataframe thead th {\n",
       "        text-align: right;\n",
       "    }\n",
       "</style>\n",
       "<table border=\"1\" class=\"dataframe\">\n",
       "  <thead>\n",
       "    <tr style=\"text-align: right;\">\n",
       "      <th></th>\n",
       "      <th>x_pos</th>\n",
       "      <th>y_pos</th>\n",
       "      <th>x_vel</th>\n",
       "      <th>y_vel</th>\n",
       "    </tr>\n",
       "  </thead>\n",
       "  <tbody>\n",
       "    <tr>\n",
       "      <th>0</th>\n",
       "      <td>497.184174</td>\n",
       "      <td>3995.864746</td>\n",
       "      <td>0.003756</td>\n",
       "      <td>0.000095</td>\n",
       "    </tr>\n",
       "    <tr>\n",
       "      <th>1</th>\n",
       "      <td>497.184113</td>\n",
       "      <td>3995.863770</td>\n",
       "      <td>-0.000717</td>\n",
       "      <td>-0.010065</td>\n",
       "    </tr>\n",
       "    <tr>\n",
       "      <th>2</th>\n",
       "      <td>497.184326</td>\n",
       "      <td>3995.862549</td>\n",
       "      <td>0.001965</td>\n",
       "      <td>-0.011957</td>\n",
       "    </tr>\n",
       "    <tr>\n",
       "      <th>3</th>\n",
       "      <td>497.184631</td>\n",
       "      <td>3995.862549</td>\n",
       "      <td>0.003233</td>\n",
       "      <td>0.000564</td>\n",
       "    </tr>\n",
       "    <tr>\n",
       "      <th>4</th>\n",
       "      <td>497.184570</td>\n",
       "      <td>3995.861816</td>\n",
       "      <td>-0.000612</td>\n",
       "      <td>-0.007035</td>\n",
       "    </tr>\n",
       "  </tbody>\n",
       "</table>\n",
       "</div>"
      ],
      "text/plain": [
       "        x_pos        y_pos     x_vel     y_vel\n",
       "0  497.184174  3995.864746  0.003756  0.000095\n",
       "1  497.184113  3995.863770 -0.000717 -0.010065\n",
       "2  497.184326  3995.862549  0.001965 -0.011957\n",
       "3  497.184631  3995.862549  0.003233  0.000564\n",
       "4  497.184570  3995.861816 -0.000612 -0.007035"
      ]
     },
     "execution_count": 19,
     "metadata": {},
     "output_type": "execute_result"
    }
   ],
   "source": [
    "sample_in_fp=os.path.join(sample_path, \"sample_in.csv\")\n",
    "sample_out_fp=os.path.join(sample_path, \"sample_out.csv\")\n",
    "\n",
    "sample_in_df=pd.read_csv(sample_in_fp)\n",
    "sample_out_df=pd.read_csv(sample_out_fp)\n",
    "\n",
    "display(sample_in_df.head())\n",
    "sample_out_df.head()"
   ]
  },
  {
   "cell_type": "code",
   "execution_count": 22,
   "id": "1005a67b-5aae-4078-bc12-d2422259f6d7",
   "metadata": {},
   "outputs": [
    {
     "data": {
      "text/html": [
       "<div>\n",
       "<style scoped>\n",
       "    .dataframe tbody tr th:only-of-type {\n",
       "        vertical-align: middle;\n",
       "    }\n",
       "\n",
       "    .dataframe tbody tr th {\n",
       "        vertical-align: top;\n",
       "    }\n",
       "\n",
       "    .dataframe thead th {\n",
       "        text-align: right;\n",
       "    }\n",
       "</style>\n",
       "<table border=\"1\" class=\"dataframe\">\n",
       "  <thead>\n",
       "    <tr style=\"text-align: right;\">\n",
       "      <th></th>\n",
       "      <th>x_pos</th>\n",
       "      <th>y_pos</th>\n",
       "      <th>x_vel</th>\n",
       "      <th>y_vel</th>\n",
       "    </tr>\n",
       "  </thead>\n",
       "  <tbody>\n",
       "    <tr>\n",
       "      <th>count</th>\n",
       "      <td>2.280000e+06</td>\n",
       "      <td>2.280000e+06</td>\n",
       "      <td>2.280000e+06</td>\n",
       "      <td>2.280000e+06</td>\n",
       "    </tr>\n",
       "    <tr>\n",
       "      <th>mean</th>\n",
       "      <td>2.108387e+02</td>\n",
       "      <td>3.245734e+02</td>\n",
       "      <td>3.604328e-02</td>\n",
       "      <td>-1.889331e-02</td>\n",
       "    </tr>\n",
       "    <tr>\n",
       "      <th>std</th>\n",
       "      <td>7.032012e+02</td>\n",
       "      <td>8.485306e+02</td>\n",
       "      <td>1.749104e+00</td>\n",
       "      <td>2.185653e+00</td>\n",
       "    </tr>\n",
       "    <tr>\n",
       "      <th>min</th>\n",
       "      <td>0.000000e+00</td>\n",
       "      <td>0.000000e+00</td>\n",
       "      <td>-1.144689e+02</td>\n",
       "      <td>-1.688118e+02</td>\n",
       "    </tr>\n",
       "    <tr>\n",
       "      <th>25%</th>\n",
       "      <td>0.000000e+00</td>\n",
       "      <td>0.000000e+00</td>\n",
       "      <td>0.000000e+00</td>\n",
       "      <td>0.000000e+00</td>\n",
       "    </tr>\n",
       "    <tr>\n",
       "      <th>50%</th>\n",
       "      <td>0.000000e+00</td>\n",
       "      <td>0.000000e+00</td>\n",
       "      <td>0.000000e+00</td>\n",
       "      <td>0.000000e+00</td>\n",
       "    </tr>\n",
       "    <tr>\n",
       "      <th>75%</th>\n",
       "      <td>0.000000e+00</td>\n",
       "      <td>0.000000e+00</td>\n",
       "      <td>0.000000e+00</td>\n",
       "      <td>0.000000e+00</td>\n",
       "    </tr>\n",
       "    <tr>\n",
       "      <th>max</th>\n",
       "      <td>4.735943e+03</td>\n",
       "      <td>4.092156e+03</td>\n",
       "      <td>7.909621e+01</td>\n",
       "      <td>1.461265e+02</td>\n",
       "    </tr>\n",
       "  </tbody>\n",
       "</table>\n",
       "</div>"
      ],
      "text/plain": [
       "              x_pos         y_pos         x_vel         y_vel\n",
       "count  2.280000e+06  2.280000e+06  2.280000e+06  2.280000e+06\n",
       "mean   2.108387e+02  3.245734e+02  3.604328e-02 -1.889331e-02\n",
       "std    7.032012e+02  8.485306e+02  1.749104e+00  2.185653e+00\n",
       "min    0.000000e+00  0.000000e+00 -1.144689e+02 -1.688118e+02\n",
       "25%    0.000000e+00  0.000000e+00  0.000000e+00  0.000000e+00\n",
       "50%    0.000000e+00  0.000000e+00  0.000000e+00  0.000000e+00\n",
       "75%    0.000000e+00  0.000000e+00  0.000000e+00  0.000000e+00\n",
       "max    4.735943e+03  4.092156e+03  7.909621e+01  1.461265e+02"
      ]
     },
     "execution_count": 22,
     "metadata": {},
     "output_type": "execute_result"
    }
   ],
   "source": [
    "sample_in_df.describe()"
   ]
  },
  {
   "cell_type": "code",
   "execution_count": 23,
   "id": "e0911b36-4208-4baa-a27c-e27db630cf6a",
   "metadata": {},
   "outputs": [
    {
     "data": {
      "text/html": [
       "<div>\n",
       "<style scoped>\n",
       "    .dataframe tbody tr th:only-of-type {\n",
       "        vertical-align: middle;\n",
       "    }\n",
       "\n",
       "    .dataframe tbody tr th {\n",
       "        vertical-align: top;\n",
       "    }\n",
       "\n",
       "    .dataframe thead th {\n",
       "        text-align: right;\n",
       "    }\n",
       "</style>\n",
       "<table border=\"1\" class=\"dataframe\">\n",
       "  <thead>\n",
       "    <tr style=\"text-align: right;\">\n",
       "      <th></th>\n",
       "      <th>x_pos</th>\n",
       "      <th>y_pos</th>\n",
       "      <th>x_vel</th>\n",
       "      <th>y_vel</th>\n",
       "    </tr>\n",
       "  </thead>\n",
       "  <tbody>\n",
       "    <tr>\n",
       "      <th>count</th>\n",
       "      <td>3.600000e+06</td>\n",
       "      <td>3.600000e+06</td>\n",
       "      <td>3.600000e+06</td>\n",
       "      <td>3.600000e+06</td>\n",
       "    </tr>\n",
       "    <tr>\n",
       "      <th>mean</th>\n",
       "      <td>2.109253e+02</td>\n",
       "      <td>3.245277e+02</td>\n",
       "      <td>3.481067e-02</td>\n",
       "      <td>-1.777745e-02</td>\n",
       "    </tr>\n",
       "    <tr>\n",
       "      <th>std</th>\n",
       "      <td>7.034579e+02</td>\n",
       "      <td>8.483126e+02</td>\n",
       "      <td>1.797118e+00</td>\n",
       "      <td>2.223628e+00</td>\n",
       "    </tr>\n",
       "    <tr>\n",
       "      <th>min</th>\n",
       "      <td>0.000000e+00</td>\n",
       "      <td>0.000000e+00</td>\n",
       "      <td>-1.008539e+02</td>\n",
       "      <td>-1.215008e+02</td>\n",
       "    </tr>\n",
       "    <tr>\n",
       "      <th>25%</th>\n",
       "      <td>0.000000e+00</td>\n",
       "      <td>0.000000e+00</td>\n",
       "      <td>0.000000e+00</td>\n",
       "      <td>0.000000e+00</td>\n",
       "    </tr>\n",
       "    <tr>\n",
       "      <th>50%</th>\n",
       "      <td>0.000000e+00</td>\n",
       "      <td>0.000000e+00</td>\n",
       "      <td>0.000000e+00</td>\n",
       "      <td>0.000000e+00</td>\n",
       "    </tr>\n",
       "    <tr>\n",
       "      <th>75%</th>\n",
       "      <td>0.000000e+00</td>\n",
       "      <td>0.000000e+00</td>\n",
       "      <td>0.000000e+00</td>\n",
       "      <td>0.000000e+00</td>\n",
       "    </tr>\n",
       "    <tr>\n",
       "      <th>max</th>\n",
       "      <td>4.736574e+03</td>\n",
       "      <td>4.092117e+03</td>\n",
       "      <td>8.774132e+01</td>\n",
       "      <td>1.484342e+02</td>\n",
       "    </tr>\n",
       "  </tbody>\n",
       "</table>\n",
       "</div>"
      ],
      "text/plain": [
       "              x_pos         y_pos         x_vel         y_vel\n",
       "count  3.600000e+06  3.600000e+06  3.600000e+06  3.600000e+06\n",
       "mean   2.109253e+02  3.245277e+02  3.481067e-02 -1.777745e-02\n",
       "std    7.034579e+02  8.483126e+02  1.797118e+00  2.223628e+00\n",
       "min    0.000000e+00  0.000000e+00 -1.008539e+02 -1.215008e+02\n",
       "25%    0.000000e+00  0.000000e+00  0.000000e+00  0.000000e+00\n",
       "50%    0.000000e+00  0.000000e+00  0.000000e+00  0.000000e+00\n",
       "75%    0.000000e+00  0.000000e+00  0.000000e+00  0.000000e+00\n",
       "max    4.736574e+03  4.092117e+03  8.774132e+01  1.484342e+02"
      ]
     },
     "execution_count": 23,
     "metadata": {},
     "output_type": "execute_result"
    }
   ],
   "source": [
    "sample_out_df.describe()"
   ]
  },
  {
   "cell_type": "code",
   "execution_count": 51,
   "id": "0aeb36e3-c8b4-4374-9455-f8ae03a79a1a",
   "metadata": {},
   "outputs": [
    {
     "data": {
      "application/vnd.jupyter.widget-view+json": {
       "model_id": "503d3927fe124793b087be2a0517a7a1",
       "version_major": 2,
       "version_minor": 0
      },
      "text/plain": [
       "Canvas(toolbar=Toolbar(toolitems=[('Home', 'Reset original view', 'home', 'home'), ('Back', 'Back to previous …"
      ]
     },
     "metadata": {},
     "output_type": "display_data"
    }
   ],
   "source": [
    "%matplotlib widget\n",
    "\n",
    "#set font of all images\n",
    "font = {'family' : 'DejaVu Sans',\n",
    "        'weight' : 'bold',\n",
    "        'size'   : 14}\n",
    "\n",
    "plt.rc('font', **font)\n",
    "\n",
    "save_path=os.path.join(fig_path, \"sample-in-position-hist.pdf\")\n",
    "\n",
    "num_bins=30\n",
    "\n",
    "fig, axs=plt.subplots(1,2, figsize=(16,8))\n",
    "fig.suptitle(\"Distribution of Input Positions\")\n",
    "fig.patch.set_facecolor(\"white\")\n",
    "\n",
    "axs[0].hist(\n",
    "    x=sample_in_df.x_pos,\n",
    "    bins=num_bins    \n",
    ")\n",
    "axs[1].hist(\n",
    "    x=sample_in_df.y_pos,\n",
    "    bins=num_bins    \n",
    ")\n",
    "\n",
    "axs[0].set_title(\"X-Coordinate Input Positions\")\n",
    "axs[1].set_title(\"Y-Coordinate Input Positions\")\n",
    "fig.savefig(save_path)\n",
    "fig.show();"
   ]
  },
  {
   "cell_type": "code",
   "execution_count": 52,
   "id": "4cf9fd0b-1515-4e25-88ea-7e15c928ae26",
   "metadata": {},
   "outputs": [
    {
     "data": {
      "application/vnd.jupyter.widget-view+json": {
       "model_id": "3b2c2ea07ef84b22959e2be3089aa4c1",
       "version_major": 2,
       "version_minor": 0
      },
      "text/plain": [
       "Canvas(toolbar=Toolbar(toolitems=[('Home', 'Reset original view', 'home', 'home'), ('Back', 'Back to previous …"
      ]
     },
     "metadata": {},
     "output_type": "display_data"
    }
   ],
   "source": [
    "save_path=os.path.join(fig_path, \"sample-out-position-hist.pdf\")\n",
    "\n",
    "num_bins=30\n",
    "\n",
    "fig, axs=plt.subplots(1,2, figsize=(16,8))\n",
    "fig.suptitle(\"Distribution of Output Positions\")\n",
    "fig.patch.set_facecolor(\"white\")\n",
    "\n",
    "axs[0].hist(\n",
    "    x=sample_out_df.x_pos,\n",
    "    bins=num_bins    \n",
    ")\n",
    "axs[1].hist(\n",
    "    x=sample_out_df.y_pos,\n",
    "    bins=num_bins    \n",
    ")\n",
    "\n",
    "axs[0].set_title(\"X-Coordinate Output Positions\")\n",
    "axs[1].set_title(\"Y-Coordinate Output Positions\")\n",
    "fig.savefig(save_path)\n",
    "fig.show();"
   ]
  },
  {
   "cell_type": "code",
   "execution_count": 53,
   "id": "6b161b2c-ddd5-4f53-9f40-77b37621ab4b",
   "metadata": {},
   "outputs": [
    {
     "data": {
      "application/vnd.jupyter.widget-view+json": {
       "model_id": "13c477a60c9a4971924689696dbbcd1d",
       "version_major": 2,
       "version_minor": 0
      },
      "text/plain": [
       "Canvas(toolbar=Toolbar(toolitems=[('Home', 'Reset original view', 'home', 'home'), ('Back', 'Back to previous …"
      ]
     },
     "metadata": {},
     "output_type": "display_data"
    }
   ],
   "source": [
    "save_path=os.path.join(fig_path, \"sample-in-velocity-hist.pdf\")\n",
    "\n",
    "num_bins=30\n",
    "\n",
    "fig, axs=plt.subplots(1,2, figsize=(16,8))\n",
    "fig.suptitle(\"Distribution of Input Velocities\")\n",
    "fig.patch.set_facecolor(\"white\")\n",
    "\n",
    "axs[0].hist(\n",
    "    x=sample_in_df.x_vel,\n",
    "    bins=num_bins    \n",
    ")\n",
    "axs[1].hist(\n",
    "    x=sample_in_df.y_vel,\n",
    "    bins=num_bins    \n",
    ")\n",
    "\n",
    "axs[0].set_title(\"X-Coordinate Input Velocities\")\n",
    "axs[1].set_title(\"Y-Coordinate Input Velocities\")\n",
    "fig.savefig(save_path)\n",
    "fig.show();"
   ]
  },
  {
   "cell_type": "code",
   "execution_count": 54,
   "id": "304ddcb7-429f-47e6-80f9-e521cf66fe8a",
   "metadata": {},
   "outputs": [
    {
     "data": {
      "application/vnd.jupyter.widget-view+json": {
       "model_id": "6a349e5a175b47468e3635832f1bec69",
       "version_major": 2,
       "version_minor": 0
      },
      "text/plain": [
       "Canvas(toolbar=Toolbar(toolitems=[('Home', 'Reset original view', 'home', 'home'), ('Back', 'Back to previous …"
      ]
     },
     "metadata": {},
     "output_type": "display_data"
    }
   ],
   "source": [
    "save_path=os.path.join(fig_path, \"sample-out-velocity-hist.pdf\")\n",
    "\n",
    "num_bins=30\n",
    "\n",
    "fig, axs=plt.subplots(1,2, figsize=(16,8))\n",
    "fig.suptitle(\"Distribution of Output Velocities\")\n",
    "fig.patch.set_facecolor(\"white\")\n",
    "\n",
    "axs[0].hist(\n",
    "    x=sample_out_df.x_vel,\n",
    "    bins=num_bins    \n",
    ")\n",
    "axs[1].hist(\n",
    "    x=sample_out_df.y_vel,\n",
    "    bins=num_bins    \n",
    ")\n",
    "\n",
    "axs[0].set_title(\"X-Coordinate Output Velocities\")\n",
    "axs[1].set_title(\"Y-Coordinate Output Velocities\")\n",
    "fig.savefig(save_path)\n",
    "fig.show();"
   ]
  },
  {
   "cell_type": "code",
   "execution_count": 57,
   "id": "03f97687-5b74-4e32-a0e3-d1b732aa95bd",
   "metadata": {},
   "outputs": [
    {
     "data": {
      "application/vnd.jupyter.widget-view+json": {
       "model_id": "7a454e3af4e2493c8b5fb933622c7569",
       "version_major": 2,
       "version_minor": 0
      },
      "text/plain": [
       "Canvas(toolbar=Toolbar(toolitems=[('Home', 'Reset original view', 'home', 'home'), ('Back', 'Back to previous …"
      ]
     },
     "metadata": {},
     "output_type": "display_data"
    }
   ],
   "source": [
    "save_path=os.path.join(fig_path, \"sample-in-velocity-magnitude-hist.pdf\")\n",
    "\n",
    "num_bins=30\n",
    "\n",
    "fig, axs=plt.subplots(1,2, figsize=(16,8))\n",
    "fig.suptitle(\"Distribution of Input Velocitiy Magnitudes\")\n",
    "fig.patch.set_facecolor(\"white\")\n",
    "\n",
    "axs[0].hist(\n",
    "    x=sample_in_df.x_vel.abs(),\n",
    "    bins=num_bins    \n",
    ")\n",
    "axs[1].hist(\n",
    "    x=sample_in_df.y_vel.abs(),\n",
    "    bins=num_bins    \n",
    ")\n",
    "\n",
    "axs[0].set_title(\"X-Coordinate Input Velocitiy Magnitudes\")\n",
    "axs[1].set_title(\"Y-Coordinate Input Velocitiy Magnitudes\")\n",
    "fig.savefig(save_path)\n",
    "fig.show();"
   ]
  },
  {
   "cell_type": "code",
   "execution_count": 58,
   "id": "010820df-40e8-482e-ae5b-364b4c20e647",
   "metadata": {},
   "outputs": [
    {
     "data": {
      "application/vnd.jupyter.widget-view+json": {
       "model_id": "d533a56720ec455fb1badbdace35d74d",
       "version_major": 2,
       "version_minor": 0
      },
      "text/plain": [
       "Canvas(toolbar=Toolbar(toolitems=[('Home', 'Reset original view', 'home', 'home'), ('Back', 'Back to previous …"
      ]
     },
     "metadata": {},
     "output_type": "display_data"
    }
   ],
   "source": [
    "save_path=os.path.join(fig_path, \"sample-out-velocity-magnitude-hist.pdf\")\n",
    "\n",
    "num_bins=30\n",
    "\n",
    "fig, axs=plt.subplots(1,2, figsize=(16,8))\n",
    "fig.suptitle(\"Distribution of Output Velocitiy Magnitudes\")\n",
    "fig.patch.set_facecolor(\"white\")\n",
    "\n",
    "axs[0].hist(\n",
    "    x=sample_out_df.x_vel.abs(),\n",
    "    bins=num_bins    \n",
    ")\n",
    "axs[1].hist(\n",
    "    x=sample_out_df.y_vel.abs(),\n",
    "    bins=num_bins    \n",
    ")\n",
    "\n",
    "axs[0].set_title(\"X-Coordinate Output Velocitiy Magnitudes\")\n",
    "axs[1].set_title(\"Y-Coordinate Output Velocitiy Magnitudes\")\n",
    "fig.savefig(save_path)\n",
    "fig.show();"
   ]
  },
  {
   "cell_type": "markdown",
   "id": "47c2798f-6a95-4b44-bed8-33448a23c10c",
   "metadata": {},
   "source": [
    "## Looking at the raw files themselves"
   ]
  },
  {
   "cell_type": "code",
   "execution_count": null,
   "id": "9e18fa9a-56da-485d-ab76-3be4524412b8",
   "metadata": {},
   "outputs": [],
   "source": [
    "train_loader[0]"
   ]
  },
  {
   "cell_type": "code",
   "execution_count": null,
   "id": "06daaf10-7001-4511-993e-4803b06a774b",
   "metadata": {
    "tags": []
   },
   "outputs": [],
   "source": [
    "train_data_in={}\n",
    "train_data_out={}\n",
    "\n",
    "cols=['x_pos','y_pos','x_vel','y_vel']\n",
    "for col in cols:\n",
    "    train_data_in[col]=[]\n",
    "    train_data_out[col]=[]\n",
    "\n",
    "pd.DataFrame(train_data_in).to_csv(\"in_data.csv\", index=False)\n",
    "pd.DataFrame(train_data_out).to_csv(\"out_data.csv\", index=False)\n",
    "\n",
    "for batch in tqdm(train_loader):\n",
    "    \n",
    "    train_data_in={}\n",
    "    train_data_out={}\n",
    "    for col in cols:\n",
    "        train_data_in[col]=[]\n",
    "        train_data_out[col]=[]\n",
    "    \n",
    "    in_data=batch[0].detach().numpy()\n",
    "    out_data=batch[1].detach.numpy()\n",
    "    \n",
    "    for scene in in_data:\n",
    "        for car in scene:\n",
    "            for time_data in car:\n",
    "#                 td=time_data.detach().numpy()\n",
    "                train_data_in['x_pos'].append(time_data[0])\n",
    "                train_data_in['y_pos'].append(time_data[1])\n",
    "                train_data_in['x_vel'].append(time_data[2])\n",
    "                train_data_in['y_vel'].append(time_data[3])\n",
    "    \n",
    "    for scene in out_data:\n",
    "        for car in scene:\n",
    "            for time_data in car:\n",
    "#                 td=time_data.detach().numpy()\n",
    "                train_data_out['x_pos'].append(time_data[0])\n",
    "                train_data_out['y_pos'].append(time_data[1])\n",
    "                train_data_out['x_vel'].append(time_data[2])\n",
    "                train_data_out['y_vel'].append(time_data[3])\n",
    "    \n",
    "#     print(len(train_data['x_pos_in']))\n",
    "#     print(len(train_data['x_pos_out']))\n",
    "    \n",
    "    pd.DataFrame(train_data_in).to_csv(\"in_data.csv\", mode='a', header=False, index=False)\n",
    "    pd.DataFrame(train_data_out).to_csv(\"out_data.csv\", mode='a', header=False, index=False)\n",
    "#     pd.DataFrame(train_data).to_csv(\"train_data.csv\" index=False)"
   ]
  },
  {
   "cell_type": "code",
   "execution_count": null,
   "id": "f36d2dd4-d660-4824-b939-eb55932bfdb3",
   "metadata": {},
   "outputs": [],
   "source": []
  },
  {
   "cell_type": "code",
   "execution_count": null,
   "id": "b9281084-3fa6-42b5-b58d-38bbdac8d1d8",
   "metadata": {},
   "outputs": [],
   "source": [
    "sns.distplot(indf.x_pos)\n",
    "plt.savefig(\"x_pos_hist.svg\")"
   ]
  },
  {
   "cell_type": "code",
   "execution_count": null,
   "id": "c0f39e5c-4905-438c-976d-341e75f46948",
   "metadata": {
    "tags": []
   },
   "outputs": [],
   "source": [
    "train_fp=os.path.join(train_path, '1.pkl')\n",
    "with open(train_fp, \"rb\") as file:\n",
    "    train_file=pickle.load(file)\n",
    "# train_file"
   ]
  },
  {
   "cell_type": "code",
   "execution_count": null,
   "id": "224d2e86-016b-445b-bb9a-269aecd000ff",
   "metadata": {
    "tags": []
   },
   "outputs": [],
   "source": [
    "val_fp=os.path.join(val_path, '12.pkl')\n",
    "with open(val_fp, \"rb\") as file:\n",
    "    val_file=pickle.load(file)\n",
    "# val_file"
   ]
  },
  {
   "cell_type": "markdown",
   "id": "2468c80d-ecd9-4406-bfe4-e48165083474",
   "metadata": {
    "tags": []
   },
   "source": [
    "## Visualize the batch of sequences"
   ]
  },
  {
   "cell_type": "code",
   "execution_count": 63,
   "id": "01e86b22-9b90-4eb2-ad50-52da21a91aae",
   "metadata": {
    "tags": []
   },
   "outputs": [
    {
     "ename": "FileNotFoundError",
     "evalue": "[Errno 2] No such file or directory: '/home/apfriend/ucsd/CURRENT/cse151b/kaggle/data/latex/figures/scatter-plot0.pdf'",
     "output_type": "error",
     "traceback": [
      "\u001b[0;31m---------------------------------------------------------------------------\u001b[0m",
      "\u001b[0;31mFileNotFoundError\u001b[0m                         Traceback (most recent call last)",
      "\u001b[0;32m<ipython-input-63-16d5f9334630>\u001b[0m in \u001b[0;36m<module>\u001b[0;34m\u001b[0m\n\u001b[1;32m     29\u001b[0m       \u001b[0mtraining\u001b[0m \u001b[0mroutine\u001b[0m\u001b[0;34m\u001b[0m\u001b[0;34m\u001b[0m\u001b[0m\n\u001b[1;32m     30\u001b[0m     \"\"\"\n\u001b[0;32m---> 31\u001b[0;31m     \u001b[0mshow_sample_batch\u001b[0m\u001b[0;34m(\u001b[0m\u001b[0msample_batch\u001b[0m\u001b[0;34m,\u001b[0m \u001b[0magent_id\u001b[0m\u001b[0;34m,\u001b[0m \u001b[0msave_path\u001b[0m\u001b[0;34m,\u001b[0m \u001b[0mi_batch\u001b[0m\u001b[0;34m)\u001b[0m\u001b[0;34m\u001b[0m\u001b[0;34m\u001b[0m\u001b[0m\n\u001b[0m\u001b[1;32m     32\u001b[0m     \u001b[0;32mif\u001b[0m \u001b[0mi_batch\u001b[0m\u001b[0;34m==\u001b[0m\u001b[0;36m9\u001b[0m\u001b[0;34m:\u001b[0m\u001b[0;34m\u001b[0m\u001b[0;34m\u001b[0m\u001b[0m\n\u001b[1;32m     33\u001b[0m         \u001b[0;32mbreak\u001b[0m\u001b[0;34m\u001b[0m\u001b[0;34m\u001b[0m\u001b[0m\n",
      "\u001b[0;32m<ipython-input-63-16d5f9334630>\u001b[0m in \u001b[0;36mshow_sample_batch\u001b[0;34m(sample_batch, agent_id, path, num_batch)\u001b[0m\n\u001b[1;32m     20\u001b[0m         \u001b[0maxs\u001b[0m\u001b[0;34m[\u001b[0m\u001b[0mi\u001b[0m\u001b[0;34m]\u001b[0m\u001b[0;34m.\u001b[0m\u001b[0mscatter\u001b[0m\u001b[0;34m(\u001b[0m\u001b[0mout\u001b[0m\u001b[0;34m[\u001b[0m\u001b[0mi\u001b[0m\u001b[0;34m,\u001b[0m \u001b[0magent_id\u001b[0m\u001b[0;34m,\u001b[0m\u001b[0;34m:\u001b[0m\u001b[0;34m,\u001b[0m\u001b[0;36m0\u001b[0m\u001b[0;34m]\u001b[0m\u001b[0;34m,\u001b[0m \u001b[0mout\u001b[0m\u001b[0;34m[\u001b[0m\u001b[0mi\u001b[0m\u001b[0;34m,\u001b[0m \u001b[0magent_id\u001b[0m\u001b[0;34m,\u001b[0m\u001b[0;34m:\u001b[0m\u001b[0;34m,\u001b[0m\u001b[0;36m1\u001b[0m\u001b[0;34m]\u001b[0m\u001b[0;34m)\u001b[0m\u001b[0;34m\u001b[0m\u001b[0;34m\u001b[0m\u001b[0m\n\u001b[1;32m     21\u001b[0m     \u001b[0mfn\u001b[0m\u001b[0;34m=\u001b[0m\u001b[0mos\u001b[0m\u001b[0;34m.\u001b[0m\u001b[0mpath\u001b[0m\u001b[0;34m.\u001b[0m\u001b[0mjoin\u001b[0m\u001b[0;34m(\u001b[0m\u001b[0mpath\u001b[0m\u001b[0;34m,\u001b[0m \u001b[0;34m\"scatter-plot%i.pdf\"\u001b[0m\u001b[0;34m%\u001b[0m\u001b[0mnum_batch\u001b[0m\u001b[0;34m)\u001b[0m\u001b[0;34m\u001b[0m\u001b[0;34m\u001b[0m\u001b[0m\n\u001b[0;32m---> 22\u001b[0;31m     \u001b[0mfig\u001b[0m\u001b[0;34m.\u001b[0m\u001b[0msavefig\u001b[0m\u001b[0;34m(\u001b[0m\u001b[0mfn\u001b[0m\u001b[0;34m)\u001b[0m\u001b[0;34m\u001b[0m\u001b[0;34m\u001b[0m\u001b[0m\n\u001b[0m\u001b[1;32m     23\u001b[0m \u001b[0;34m\u001b[0m\u001b[0m\n\u001b[1;32m     24\u001b[0m \u001b[0msave_path\u001b[0m\u001b[0;34m=\u001b[0m\u001b[0;34m'/home/apfriend/ucsd/CURRENT/cse151b/kaggle/data/latex/figures'\u001b[0m\u001b[0;34m\u001b[0m\u001b[0;34m\u001b[0m\u001b[0m\n",
      "\u001b[0;32m~/anaconda3/envs/pyt18/lib/python3.8/site-packages/matplotlib/figure.py\u001b[0m in \u001b[0;36msavefig\u001b[0;34m(self, fname, transparent, **kwargs)\u001b[0m\n\u001b[1;32m   2309\u001b[0m                 \u001b[0mpatch\u001b[0m\u001b[0;34m.\u001b[0m\u001b[0mset_edgecolor\u001b[0m\u001b[0;34m(\u001b[0m\u001b[0;34m'none'\u001b[0m\u001b[0;34m)\u001b[0m\u001b[0;34m\u001b[0m\u001b[0;34m\u001b[0m\u001b[0m\n\u001b[1;32m   2310\u001b[0m \u001b[0;34m\u001b[0m\u001b[0m\n\u001b[0;32m-> 2311\u001b[0;31m         \u001b[0mself\u001b[0m\u001b[0;34m.\u001b[0m\u001b[0mcanvas\u001b[0m\u001b[0;34m.\u001b[0m\u001b[0mprint_figure\u001b[0m\u001b[0;34m(\u001b[0m\u001b[0mfname\u001b[0m\u001b[0;34m,\u001b[0m \u001b[0;34m**\u001b[0m\u001b[0mkwargs\u001b[0m\u001b[0;34m)\u001b[0m\u001b[0;34m\u001b[0m\u001b[0;34m\u001b[0m\u001b[0m\n\u001b[0m\u001b[1;32m   2312\u001b[0m \u001b[0;34m\u001b[0m\u001b[0m\n\u001b[1;32m   2313\u001b[0m         \u001b[0;32mif\u001b[0m \u001b[0mtransparent\u001b[0m\u001b[0;34m:\u001b[0m\u001b[0;34m\u001b[0m\u001b[0;34m\u001b[0m\u001b[0m\n",
      "\u001b[0;32m~/anaconda3/envs/pyt18/lib/python3.8/site-packages/matplotlib/backend_bases.py\u001b[0m in \u001b[0;36mprint_figure\u001b[0;34m(self, filename, dpi, facecolor, edgecolor, orientation, format, bbox_inches, pad_inches, bbox_extra_artists, backend, **kwargs)\u001b[0m\n\u001b[1;32m   2208\u001b[0m \u001b[0;34m\u001b[0m\u001b[0m\n\u001b[1;32m   2209\u001b[0m             \u001b[0;32mtry\u001b[0m\u001b[0;34m:\u001b[0m\u001b[0;34m\u001b[0m\u001b[0;34m\u001b[0m\u001b[0m\n\u001b[0;32m-> 2210\u001b[0;31m                 result = print_method(\n\u001b[0m\u001b[1;32m   2211\u001b[0m                     \u001b[0mfilename\u001b[0m\u001b[0;34m,\u001b[0m\u001b[0;34m\u001b[0m\u001b[0;34m\u001b[0m\u001b[0m\n\u001b[1;32m   2212\u001b[0m                     \u001b[0mdpi\u001b[0m\u001b[0;34m=\u001b[0m\u001b[0mdpi\u001b[0m\u001b[0;34m,\u001b[0m\u001b[0;34m\u001b[0m\u001b[0;34m\u001b[0m\u001b[0m\n",
      "\u001b[0;32m~/anaconda3/envs/pyt18/lib/python3.8/site-packages/matplotlib/backend_bases.py\u001b[0m in \u001b[0;36mwrapper\u001b[0;34m(*args, **kwargs)\u001b[0m\n\u001b[1;32m   1637\u001b[0m             \u001b[0mkwargs\u001b[0m\u001b[0;34m.\u001b[0m\u001b[0mpop\u001b[0m\u001b[0;34m(\u001b[0m\u001b[0marg\u001b[0m\u001b[0;34m)\u001b[0m\u001b[0;34m\u001b[0m\u001b[0;34m\u001b[0m\u001b[0m\n\u001b[1;32m   1638\u001b[0m \u001b[0;34m\u001b[0m\u001b[0m\n\u001b[0;32m-> 1639\u001b[0;31m         \u001b[0;32mreturn\u001b[0m \u001b[0mfunc\u001b[0m\u001b[0;34m(\u001b[0m\u001b[0;34m*\u001b[0m\u001b[0margs\u001b[0m\u001b[0;34m,\u001b[0m \u001b[0;34m**\u001b[0m\u001b[0mkwargs\u001b[0m\u001b[0;34m)\u001b[0m\u001b[0;34m\u001b[0m\u001b[0;34m\u001b[0m\u001b[0m\n\u001b[0m\u001b[1;32m   1640\u001b[0m \u001b[0;34m\u001b[0m\u001b[0m\n\u001b[1;32m   1641\u001b[0m     \u001b[0;32mreturn\u001b[0m \u001b[0mwrapper\u001b[0m\u001b[0;34m\u001b[0m\u001b[0;34m\u001b[0m\u001b[0m\n",
      "\u001b[0;32m~/anaconda3/envs/pyt18/lib/python3.8/site-packages/matplotlib/backends/backend_pdf.py\u001b[0m in \u001b[0;36mprint_pdf\u001b[0;34m(self, filename, dpi, bbox_inches_restore, metadata)\u001b[0m\n\u001b[1;32m   2584\u001b[0m             \u001b[0mfile\u001b[0m \u001b[0;34m=\u001b[0m \u001b[0mfilename\u001b[0m\u001b[0;34m.\u001b[0m\u001b[0m_file\u001b[0m\u001b[0;34m\u001b[0m\u001b[0;34m\u001b[0m\u001b[0m\n\u001b[1;32m   2585\u001b[0m         \u001b[0;32melse\u001b[0m\u001b[0;34m:\u001b[0m\u001b[0;34m\u001b[0m\u001b[0;34m\u001b[0m\u001b[0m\n\u001b[0;32m-> 2586\u001b[0;31m             \u001b[0mfile\u001b[0m \u001b[0;34m=\u001b[0m \u001b[0mPdfFile\u001b[0m\u001b[0;34m(\u001b[0m\u001b[0mfilename\u001b[0m\u001b[0;34m,\u001b[0m \u001b[0mmetadata\u001b[0m\u001b[0;34m=\u001b[0m\u001b[0mmetadata\u001b[0m\u001b[0;34m)\u001b[0m\u001b[0;34m\u001b[0m\u001b[0;34m\u001b[0m\u001b[0m\n\u001b[0m\u001b[1;32m   2587\u001b[0m         \u001b[0;32mtry\u001b[0m\u001b[0;34m:\u001b[0m\u001b[0;34m\u001b[0m\u001b[0;34m\u001b[0m\u001b[0m\n\u001b[1;32m   2588\u001b[0m             \u001b[0mfile\u001b[0m\u001b[0;34m.\u001b[0m\u001b[0mnewPage\u001b[0m\u001b[0;34m(\u001b[0m\u001b[0mwidth\u001b[0m\u001b[0;34m,\u001b[0m \u001b[0mheight\u001b[0m\u001b[0;34m)\u001b[0m\u001b[0;34m\u001b[0m\u001b[0;34m\u001b[0m\u001b[0m\n",
      "\u001b[0;32m~/anaconda3/envs/pyt18/lib/python3.8/site-packages/matplotlib/backends/backend_pdf.py\u001b[0m in \u001b[0;36m__init__\u001b[0;34m(self, filename, metadata)\u001b[0m\n\u001b[1;32m    560\u001b[0m         \u001b[0mself\u001b[0m\u001b[0;34m.\u001b[0m\u001b[0moriginal_file_like\u001b[0m \u001b[0;34m=\u001b[0m \u001b[0;32mNone\u001b[0m\u001b[0;34m\u001b[0m\u001b[0;34m\u001b[0m\u001b[0m\n\u001b[1;32m    561\u001b[0m         \u001b[0mself\u001b[0m\u001b[0;34m.\u001b[0m\u001b[0mtell_base\u001b[0m \u001b[0;34m=\u001b[0m \u001b[0;36m0\u001b[0m\u001b[0;34m\u001b[0m\u001b[0;34m\u001b[0m\u001b[0m\n\u001b[0;32m--> 562\u001b[0;31m         \u001b[0mfh\u001b[0m\u001b[0;34m,\u001b[0m \u001b[0mopened\u001b[0m \u001b[0;34m=\u001b[0m \u001b[0mcbook\u001b[0m\u001b[0;34m.\u001b[0m\u001b[0mto_filehandle\u001b[0m\u001b[0;34m(\u001b[0m\u001b[0mfilename\u001b[0m\u001b[0;34m,\u001b[0m \u001b[0;34m\"wb\"\u001b[0m\u001b[0;34m,\u001b[0m \u001b[0mreturn_opened\u001b[0m\u001b[0;34m=\u001b[0m\u001b[0;32mTrue\u001b[0m\u001b[0;34m)\u001b[0m\u001b[0;34m\u001b[0m\u001b[0;34m\u001b[0m\u001b[0m\n\u001b[0m\u001b[1;32m    563\u001b[0m         \u001b[0;32mif\u001b[0m \u001b[0;32mnot\u001b[0m \u001b[0mopened\u001b[0m\u001b[0;34m:\u001b[0m\u001b[0;34m\u001b[0m\u001b[0;34m\u001b[0m\u001b[0m\n\u001b[1;32m    564\u001b[0m             \u001b[0;32mtry\u001b[0m\u001b[0;34m:\u001b[0m\u001b[0;34m\u001b[0m\u001b[0;34m\u001b[0m\u001b[0m\n",
      "\u001b[0;32m~/anaconda3/envs/pyt18/lib/python3.8/site-packages/matplotlib/cbook/__init__.py\u001b[0m in \u001b[0;36mto_filehandle\u001b[0;34m(fname, flag, return_opened, encoding)\u001b[0m\n\u001b[1;32m    406\u001b[0m             \u001b[0mfh\u001b[0m \u001b[0;34m=\u001b[0m \u001b[0mbz2\u001b[0m\u001b[0;34m.\u001b[0m\u001b[0mBZ2File\u001b[0m\u001b[0;34m(\u001b[0m\u001b[0mfname\u001b[0m\u001b[0;34m,\u001b[0m \u001b[0mflag\u001b[0m\u001b[0;34m)\u001b[0m\u001b[0;34m\u001b[0m\u001b[0;34m\u001b[0m\u001b[0m\n\u001b[1;32m    407\u001b[0m         \u001b[0;32melse\u001b[0m\u001b[0;34m:\u001b[0m\u001b[0;34m\u001b[0m\u001b[0;34m\u001b[0m\u001b[0m\n\u001b[0;32m--> 408\u001b[0;31m             \u001b[0mfh\u001b[0m \u001b[0;34m=\u001b[0m \u001b[0mopen\u001b[0m\u001b[0;34m(\u001b[0m\u001b[0mfname\u001b[0m\u001b[0;34m,\u001b[0m \u001b[0mflag\u001b[0m\u001b[0;34m,\u001b[0m \u001b[0mencoding\u001b[0m\u001b[0;34m=\u001b[0m\u001b[0mencoding\u001b[0m\u001b[0;34m)\u001b[0m\u001b[0;34m\u001b[0m\u001b[0;34m\u001b[0m\u001b[0m\n\u001b[0m\u001b[1;32m    409\u001b[0m         \u001b[0mopened\u001b[0m \u001b[0;34m=\u001b[0m \u001b[0;32mTrue\u001b[0m\u001b[0;34m\u001b[0m\u001b[0;34m\u001b[0m\u001b[0m\n\u001b[1;32m    410\u001b[0m     \u001b[0;32melif\u001b[0m \u001b[0mhasattr\u001b[0m\u001b[0;34m(\u001b[0m\u001b[0mfname\u001b[0m\u001b[0;34m,\u001b[0m \u001b[0;34m'seek'\u001b[0m\u001b[0;34m)\u001b[0m\u001b[0;34m:\u001b[0m\u001b[0;34m\u001b[0m\u001b[0;34m\u001b[0m\u001b[0m\n",
      "\u001b[0;31mFileNotFoundError\u001b[0m: [Errno 2] No such file or directory: '/home/apfriend/ucsd/CURRENT/cse151b/kaggle/data/latex/figures/scatter-plot0.pdf'"
     ]
    },
    {
     "data": {
      "image/png": "[encoded data removed]",
      "text/plain": [
       "<Figure size 1080x216 with 4 Axes>"
      ]
     },
     "metadata": {},
     "output_type": "display_data"
    }
   ],
   "source": [
    "%matplotlib inline\n",
    "\n",
    "agent_id = 0\n",
    "\n",
    "def show_sample_batch(sample_batch, agent_id, path, num_batch):\n",
    "    \"\"\"visualize the trajectory for a batch of samples with a random agent\"\"\"\n",
    "    inp, out = sample_batch\n",
    "    batch_sz = inp.size(0)\n",
    "    agent_sz = inp.size(1)\n",
    "    \n",
    "    fig, axs = plt.subplots(1, batch_sz, figsize=(15, 3), facecolor='w', edgecolor='k')\n",
    "    fig.subplots_adjust(hspace = .5, wspace=.001)\n",
    "    axs = axs.ravel()   \n",
    "    for i in range(batch_sz):\n",
    "        axs[i].xaxis.set_ticks([])\n",
    "        axs[i].yaxis.set_ticks([])\n",
    "        \n",
    "        # first two feature dimensions are (x,y) positions\n",
    "        axs[i].scatter(inp[i, agent_id,:,0], inp[i, agent_id,:,1])\n",
    "        axs[i].scatter(out[i, agent_id,:,0], out[i, agent_id,:,1])\n",
    "    fn=os.path.join(path, \"scatter-plot%i.pdf\"%num_batch)\n",
    "    fig.savefig(fn)\n",
    "    \n",
    "save_path='/home/apfriend/ucsd/CURRENT/cse151b/kaggle/latex/figures'\n",
    "for i_batch, sample_batch in enumerate(train_loader):\n",
    "    inp, out = sample_batch\n",
    "    \"\"\"TODO:\n",
    "      Deep learning model\n",
    "      training routine\n",
    "    \"\"\"\n",
    "    show_sample_batch(sample_batch, agent_id, save_path, i_batch)\n",
    "    if i_batch==9:\n",
    "        break"
   ]
  },
  {
   "cell_type": "code",
   "execution_count": 62,
   "id": "a5535d63-ac61-4473-acf5-8c9b591ea5c5",
   "metadata": {},
   "outputs": [
    {
     "data": {
      "application/vnd.jupyter.widget-view+json": {
       "model_id": "d5721a4574c347d682a82c2b5ccc3f86",
       "version_major": 2,
       "version_minor": 0
      },
      "text/plain": [
       "Canvas(toolbar=Toolbar(toolitems=[('Home', 'Reset original view', 'home', 'home'), ('Back', 'Back to previous …"
      ]
     },
     "metadata": {},
     "output_type": "display_data"
    },
    {
     "name": "stdout",
     "output_type": "stream",
     "text": [
      "(2, 60)\n"
     ]
    },
    {
     "ename": "TypeError",
     "evalue": "list indices must be integers or slices, not tuple",
     "output_type": "error",
     "traceback": [
      "\u001b[0;31m---------------------------------------------------------------------------\u001b[0m",
      "\u001b[0;31mTypeError\u001b[0m                                 Traceback (most recent call last)",
      "\u001b[0;32m<ipython-input-62-cfb80af5a47b>\u001b[0m in \u001b[0;36m<module>\u001b[0;34m\u001b[0m\n\u001b[1;32m     42\u001b[0m       \u001b[0mtraining\u001b[0m \u001b[0mroutine\u001b[0m\u001b[0;34m\u001b[0m\u001b[0;34m\u001b[0m\u001b[0m\n\u001b[1;32m     43\u001b[0m     \"\"\"\n\u001b[0;32m---> 44\u001b[0;31m     \u001b[0mshow_sample_batch2\u001b[0m\u001b[0;34m(\u001b[0m\u001b[0msample_batch\u001b[0m\u001b[0;34m,\u001b[0m \u001b[0magent_id\u001b[0m\u001b[0;34m)\u001b[0m\u001b[0;34m\u001b[0m\u001b[0;34m\u001b[0m\u001b[0m\n\u001b[0m\u001b[1;32m     45\u001b[0m     \u001b[0;32mif\u001b[0m \u001b[0mi_batch\u001b[0m\u001b[0;34m==\u001b[0m\u001b[0;36m9\u001b[0m\u001b[0;34m:\u001b[0m\u001b[0;34m\u001b[0m\u001b[0;34m\u001b[0m\u001b[0m\n\u001b[1;32m     46\u001b[0m         \u001b[0;32mbreak\u001b[0m\u001b[0;34m\u001b[0m\u001b[0;34m\u001b[0m\u001b[0m\n",
      "\u001b[0;32m<ipython-input-62-cfb80af5a47b>\u001b[0m in \u001b[0;36mshow_sample_batch2\u001b[0;34m(sample_batches, agent_id)\u001b[0m\n\u001b[1;32m     33\u001b[0m \u001b[0;34m\u001b[0m\u001b[0m\n\u001b[1;32m     34\u001b[0m             \u001b[0;31m# first two feature dimensions are (x,y) positions\u001b[0m\u001b[0;34m\u001b[0m\u001b[0;34m\u001b[0m\u001b[0;34m\u001b[0m\u001b[0m\n\u001b[0;32m---> 35\u001b[0;31m             \u001b[0maxs\u001b[0m\u001b[0;34m[\u001b[0m\u001b[0mi\u001b[0m\u001b[0;34m,\u001b[0m\u001b[0mj\u001b[0m\u001b[0;34m]\u001b[0m\u001b[0;34m.\u001b[0m\u001b[0mscatter\u001b[0m\u001b[0;34m(\u001b[0m\u001b[0minp\u001b[0m\u001b[0;34m[\u001b[0m\u001b[0mi\u001b[0m\u001b[0;34m,\u001b[0m \u001b[0magent_id\u001b[0m\u001b[0;34m,\u001b[0m\u001b[0;34m:\u001b[0m\u001b[0;34m,\u001b[0m\u001b[0;36m0\u001b[0m\u001b[0;34m]\u001b[0m\u001b[0;34m,\u001b[0m \u001b[0minp\u001b[0m\u001b[0;34m[\u001b[0m\u001b[0mi\u001b[0m\u001b[0;34m,\u001b[0m \u001b[0magent_id\u001b[0m\u001b[0;34m,\u001b[0m\u001b[0;34m:\u001b[0m\u001b[0;34m,\u001b[0m\u001b[0;36m1\u001b[0m\u001b[0;34m]\u001b[0m\u001b[0;34m)\u001b[0m\u001b[0;34m\u001b[0m\u001b[0;34m\u001b[0m\u001b[0m\n\u001b[0m\u001b[1;32m     36\u001b[0m             \u001b[0maxs\u001b[0m\u001b[0;34m[\u001b[0m\u001b[0mi\u001b[0m\u001b[0;34m,\u001b[0m\u001b[0mj\u001b[0m\u001b[0;34m]\u001b[0m\u001b[0;34m.\u001b[0m\u001b[0mscatter\u001b[0m\u001b[0;34m(\u001b[0m\u001b[0mout\u001b[0m\u001b[0;34m[\u001b[0m\u001b[0mi\u001b[0m\u001b[0;34m,\u001b[0m \u001b[0magent_id\u001b[0m\u001b[0;34m,\u001b[0m\u001b[0;34m:\u001b[0m\u001b[0;34m,\u001b[0m\u001b[0;36m0\u001b[0m\u001b[0;34m]\u001b[0m\u001b[0;34m,\u001b[0m \u001b[0mout\u001b[0m\u001b[0;34m[\u001b[0m\u001b[0mi\u001b[0m\u001b[0;34m,\u001b[0m \u001b[0magent_id\u001b[0m\u001b[0;34m,\u001b[0m\u001b[0;34m:\u001b[0m\u001b[0;34m,\u001b[0m\u001b[0;36m1\u001b[0m\u001b[0;34m]\u001b[0m\u001b[0;34m)\u001b[0m\u001b[0;34m\u001b[0m\u001b[0;34m\u001b[0m\u001b[0m\n\u001b[1;32m     37\u001b[0m \u001b[0;34m\u001b[0m\u001b[0m\n",
      "\u001b[0;31mTypeError\u001b[0m: list indices must be integers or slices, not tuple"
     ]
    }
   ],
   "source": [
    "%matplotlib widget\n",
    "\n",
    "agent_id = 0\n",
    "\n",
    "def show_sample_batch2(sample_batches, agent_id):\n",
    "    \"\"\"visualize the trajectory for a batch of samples with a random agent\"\"\"\n",
    "    inp=[sample_batch[0] for sample_batch in sample_batches]\n",
    "    out=[sample_batch[1] for sample_batch in sample_batches]\n",
    "    \n",
    "    batch_sz = inp[0].size(0)\n",
    "    agent_sz = inp[0].size(1)\n",
    "    \n",
    "    num_batches=len(sample_batches)\n",
    "    \n",
    "    fig_size_x=15\n",
    "    \n",
    "    fig, axs = plt.subplots(\n",
    "        num_batches, \n",
    "        batch_sz, \n",
    "        figsize=(fig_size_x, num_batches*fig_size_x), \n",
    "        facecolor='w', \n",
    "        edgecolor='k'\n",
    "    )\n",
    "    \n",
    "    fig.subplots_adjust(hspace = .5, wspace=.001)\n",
    "    \n",
    "    print(axs.shape)\n",
    "#     axs = axs.ravel()\n",
    "    for j in range(len(axs)):\n",
    "        for i in range(batch_sz):\n",
    "            axs[i,j].xaxis.set_ticks([])\n",
    "            axs[i,j].yaxis.set_ticks([])\n",
    "\n",
    "            # first two feature dimensions are (x,y) positions\n",
    "            axs[i,j].scatter(inp[i, agent_id,:,0], inp[i, agent_id,:,1])\n",
    "            axs[i,j].scatter(out[i, agent_id,:,0], out[i, agent_id,:,1])\n",
    "            \n",
    "for i_batch, sample_batch in enumerate(train_loader):\n",
    "    inp, out = sample_batch\n",
    "    \"\"\"TODO:\n",
    "      Deep learning model\n",
    "      training routine\n",
    "    \"\"\"\n",
    "    show_sample_batch2(sample_batch, agent_id)\n",
    "    if i_batch==9:\n",
    "        break"
   ]
  },
  {
   "cell_type": "code",
   "execution_count": null,
   "id": "320ebaee-35bf-4e3e-8465-cbd58fa7d9c8",
   "metadata": {
    "tags": []
   },
   "outputs": [],
   "source": [
    "train_src=r'data/new_train/new_train'\n",
    "test_src=r'data/new_val_in/new_val_in'\n",
    "fn=r'0.pkl'\n",
    "device='cuda'\n",
    "\n",
    "data0=pd.read_pickle(os.path.join(src,fn))\n",
    "# df0=pd.DataFrame(data0)\n",
    "data0"
   ]
  },
  {
   "cell_type": "code",
   "execution_count": null,
   "id": "a4803b11-c4bb-43ea-912f-357655b214ae",
   "metadata": {},
   "outputs": [],
   "source": [
    "data0.keys()"
   ]
  },
  {
   "cell_type": "code",
   "execution_count": null,
   "id": "865b0a9d-6c6d-46af-95fd-5bff72785a07",
   "metadata": {
    "tags": []
   },
   "outputs": [],
   "source": [
    "data_keys=['lane',\n",
    "           'lane_norm',\n",
    "           'car_mask',\n",
    "           'p_in',\n",
    "           'v_in',\n",
    "           'p_out',\n",
    "           'v_out',\n",
    "           'track_id']\n",
    "\n",
    "data00=dict(zip(data_keys, [data0[key].shape for key in data_keys]))\n",
    "#df=pd.DataFrame.from_records(data00)\n",
    "data00"
   ]
  },
  {
   "cell_type": "code",
   "execution_count": null,
   "id": "6e6d75b3-7f3d-492f-bd7d-71f0822194f2",
   "metadata": {
    "tags": []
   },
   "outputs": [],
   "source": [
    "data0['lane']"
   ]
  },
  {
   "cell_type": "code",
   "execution_count": null,
   "id": "dddd7ea7-464b-4866-a7b5-93b224c47c37",
   "metadata": {},
   "outputs": [],
   "source": [
    "lane_df=pd.DataFrame({\n",
    "    'lane':data0['lane'],\n",
    "    'lane_norm':data0['lane_norm']\n",
    "})\n",
    "lane_df"
   ]
  },
  {
   "cell_type": "code",
   "execution_count": null,
   "id": "781f5e4b-e52c-46a5-9b06-cc9d555b12df",
   "metadata": {
    "tags": []
   },
   "outputs": [],
   "source": [
    "pd.DataFrame(data0)"
   ]
  },
  {
   "cell_type": "code",
   "execution_count": null,
   "id": "f46cd1b0-6a14-4a8a-ad47-de8bbe0fb41f",
   "metadata": {},
   "outputs": [],
   "source": [
    "class ArgoverseDataset(Dataset):\n",
    "    \"\"\"Dataset class for Argoverse\"\"\"\n",
    "    def __init__(self, data_path: str, transform=None):\n",
    "        super(ArgoverseDataset, self).__init__()\n",
    "        self.data_path = data_path\n",
    "        self.transform = transform\n",
    "\n",
    "        self.pkl_list = glob(os.path.join(self.data_path, '*'))\n",
    "        self.pkl_list.sort()\n",
    "        \n",
    "    def __len__(self):\n",
    "        return len(self.pkl_list)\n",
    "\n",
    "    def __getitem__(self, idx):\n",
    "\n",
    "        pkl_path = self.pkl_list[idx]\n",
    "        with open(pkl_path, 'rb') as f:\n",
    "            data = pickle.load(f)\n",
    "            \n",
    "        if self.transform:\n",
    "            data = self.transform(data)\n",
    "                \n",
    "        return data\n",
    "#BATCH LOADER THAT GIVES [4, 1, 19, 2] TENSOR\n",
    "batch_sz = 4\n",
    "\n",
    "def my_collate(batch):\n",
    "    \"\"\" collate lists of samples into batches, create [ batch_sz x seq_len x feature] \"\"\"\n",
    "    inp = [[scene['p_in'][np.where(scene['track_id'][:,0,0] == scene['agent_id'])[0][0]]] for scene in batch]\n",
    "    out = [[scene['p_out'][np.where(scene['track_id'][:,0,0] == scene['agent_id'])[0][0]][0]] for scene in batch]\n",
    "    inp = torch.FloatTensor(inp)\n",
    "    out = torch.FloatTensor(out)\n",
    "    return [inp, out]\n",
    "\n",
    "\n",
    "def my_collate_test(batch):\n",
    "    \"\"\" collate lists of samples into batches, create [ batch_sz x seq_len x feature] \"\"\"\n",
    "    inp = [[scene['p_in'][np.where(scene['track_id'][:,0,0] == scene['agent_id'])[0][0]]] for scene in batch]\n",
    "    out = [[scene['p_in'][np.where(scene['track_id'][:,0,0] == scene['agent_id'])[0][0]]] for scene in batch]\n",
    "    inp = torch.FloatTensor(inp)\n",
    "    out = torch.FloatTensor(out)\n",
    "    return [inp, out]"
   ]
  },
  {
   "cell_type": "code",
   "execution_count": null,
   "id": "1e142017-072d-46d9-acb8-d03fa6690a45",
   "metadata": {},
   "outputs": [],
   "source": [
    "#need differnt collate function for validation set since it has no `p_out` or `v_out`\n",
    "\n",
    "# val_loader = DataLoader(\n",
    "#     val_dataset,\n",
    "#     batch_size=batch_sz, \n",
    "#     shuffle = False, \n",
    "#     collate_fn=my_collate, \n",
    "#     num_workers=0\n",
    "# )\n",
    "\n",
    "test_loader = DataLoader(\n",
    "    test_dataset,\n",
    "    batch_size=batch_sz, \n",
    "    shuffle = False, \n",
    "    collate_fn=my_collate_test, \n",
    "    num_workers=0\n",
    ")\n",
    "\n",
    "# intialize a dataset\n",
    "val_dataset = ArgoverseDataset(data_path=train_src)\n",
    "\n",
    "test_dataset = ArgoverseDataset(data_path=test_src)\n",
    "\n",
    "val_dataset, test_dataset, val_loader, test_loader"
   ]
  },
  {
   "cell_type": "code",
   "execution_count": null,
   "id": "e8a9105a-aeee-4d8f-a5cc-a1f6233a8b9c",
   "metadata": {},
   "outputs": [],
   "source": []
  }
 ],
 "metadata": {
  "kernelspec": {
   "display_name": "Python 3",
   "language": "python",
   "name": "python3"
  },
  "language_info": {
   "codemirror_mode": {
    "name": "ipython",
    "version": 3
   },
   "file_extension": ".py",
   "mimetype": "text/x-python",
   "name": "python",
   "nbconvert_exporter": "python",
   "pygments_lexer": "ipython3",
   "version": "3.8.8"
  }
 },
 "nbformat": 4,
 "nbformat_minor": 5
}
