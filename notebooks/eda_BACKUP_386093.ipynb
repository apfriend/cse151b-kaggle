{
 "cells": [
  {
   "cell_type": "markdown",
   "id": "f1706482",
   "metadata": {},
   "source": [
    "# CSE 151B Autonomous Vehicle Kaggle Competition EDA\n",
    "\n",
    "Run the provided Jupyter notebook for loading the data. Provide exploratory analysis on thedata and report your findings with texts and figures. Your report should answer the followingquestions at a minimum:\n",
    "\n",
    "- what is the train/test data size, how many dimensions of inputs/outputs\n",
    "- what is the distribution of input positions for all agents (hint: use histogram)\n",
    "- what is the distribution of output positions for all agents (hint: use histogram)\n",
    "- what is the distribution of velocity (magnitude) of all agents and the target agent\n",
    "\n",
    "If you include more exploratory analysis beyond the above questions that provides in- sightsinto the data, you will receive bonus points"
   ]
  },
  {
   "cell_type": "code",
   "execution_count": 1,
   "id": "9565d5e2",
   "metadata": {},
   "outputs": [],
   "source": [
    "%load_ext autoreload\n",
    "%autoreload 2"
   ]
  },
  {
   "cell_type": "code",
   "execution_count": 2,
   "id": "3a486335",
   "metadata": {
    "tags": []
   },
   "outputs": [],
   "source": [
    "import os\n",
    "import sys\n",
    "import pandas as pd\n",
    "import random\n",
    "import torch\n",
    "from torch.utils.data import Dataset, DataLoader\n",
    "import numpy as np\n",
    "import pickle\n",
    "from glob import glob\n",
    "import matplotlib.pyplot as plt\n",
    "import random\n",
    "import multiprocessing\n",
    "from tqdm import tqdm\n",
    "import seaborn as sns\n",
    "from IPython.display import display"
   ]
  },
  {
   "cell_type": "code",
   "execution_count": 6,
   "id": "60f5e944",
   "metadata": {},
   "outputs": [
    {
     "ename": "ModuleNotFoundError",
     "evalue": "No module named 'run_model'",
     "output_type": "error",
     "traceback": [
      "\u001b[0;31m---------------------------------------------------------------------------\u001b[0m",
      "\u001b[0;31mModuleNotFoundError\u001b[0m                       Traceback (most recent call last)",
      "\u001b[0;32m<ipython-input-6-1417118ef6a2>\u001b[0m in \u001b[0;36m<module>\u001b[0;34m\u001b[0m\n\u001b[1;32m      2\u001b[0m \u001b[0;31m# from run_model import my_collate, my_collate2, ArgoverseDataset, sample_files, dataloader_to_csv\u001b[0m\u001b[0;34m\u001b[0m\u001b[0;34m\u001b[0m\u001b[0;34m\u001b[0m\u001b[0m\n\u001b[1;32m      3\u001b[0m \u001b[0;32mfrom\u001b[0m \u001b[0msrc\u001b[0m\u001b[0;34m.\u001b[0m\u001b[0mArgoverseDataset\u001b[0m \u001b[0;32mimport\u001b[0m \u001b[0mArgoverseDataset\u001b[0m\u001b[0;34m\u001b[0m\u001b[0;34m\u001b[0m\u001b[0m\n\u001b[0;32m----> 4\u001b[0;31m \u001b[0;32mfrom\u001b[0m \u001b[0msrc\u001b[0m\u001b[0;34m.\u001b[0m\u001b[0mutility\u001b[0m \u001b[0;32mimport\u001b[0m \u001b[0mcollate_train\u001b[0m\u001b[0;34m,\u001b[0m \u001b[0mcollate_val\u001b[0m\u001b[0;34m,\u001b[0m \u001b[0msample_files\u001b[0m\u001b[0;34m,\u001b[0m \u001b[0mdataloader_to_csv\u001b[0m\u001b[0;34m\u001b[0m\u001b[0;34m\u001b[0m\u001b[0m\n\u001b[0m",
      "\u001b[0;32m/media/apfriend/sabrent/ucsd/classes/cse151b/kaggle/src/utility.py\u001b[0m in \u001b[0;36m<module>\u001b[0;34m\u001b[0m\n\u001b[1;32m     16\u001b[0m \u001b[0;32mfrom\u001b[0m \u001b[0mIPython\u001b[0m\u001b[0;34m.\u001b[0m\u001b[0mdisplay\u001b[0m \u001b[0;32mimport\u001b[0m \u001b[0mdisplay\u001b[0m\u001b[0;34m\u001b[0m\u001b[0;34m\u001b[0m\u001b[0m\n\u001b[1;32m     17\u001b[0m \u001b[0;31m#####LOCAL SCRIPTS#####\u001b[0m\u001b[0;34m\u001b[0m\u001b[0;34m\u001b[0m\u001b[0;34m\u001b[0m\u001b[0m\n\u001b[0;32m---> 18\u001b[0;31m \u001b[0;32mimport\u001b[0m \u001b[0mrun_model\u001b[0m\u001b[0;34m\u001b[0m\u001b[0;34m\u001b[0m\u001b[0m\n\u001b[0m\u001b[1;32m     19\u001b[0m \u001b[0;32mimport\u001b[0m \u001b[0mload_data\u001b[0m\u001b[0;34m\u001b[0m\u001b[0;34m\u001b[0m\u001b[0m\n\u001b[1;32m     20\u001b[0m \u001b[0;32mimport\u001b[0m \u001b[0mmodels\u001b[0m\u001b[0;34m.\u001b[0m\u001b[0mphysics\u001b[0m \u001b[0;32mas\u001b[0m \u001b[0mphysics\u001b[0m\u001b[0;34m\u001b[0m\u001b[0;34m\u001b[0m\u001b[0m\n",
      "\u001b[0;31mModuleNotFoundError\u001b[0m: No module named 'run_model'"
     ]
    }
   ],
   "source": [
    "sys.path.append(os.path.dirname(os.getcwd()))\n",
    "# from run_model import my_collate, my_collate2, ArgoverseDataset, sample_files, dataloader_to_csv\n",
    "from src.ArgoverseDataset import ArgoverseDataset\n",
    "from src.utility import collate_train, collate_val, sample_files, dataloader_to_csv"
   ]
  },
  {
   "cell_type": "markdown",
   "id": "f0e6774c",
   "metadata": {},
   "source": [
    "## Load DataSet\n",
    "\n",
    "Use the provided `ArgoverseDataset` PyTorch DataSet class to load data into a dataset, then use the other provided `my_collate` method as a collate function in the PyTorch DataLoader class to be used."
   ]
  },
  {
   "cell_type": "code",
   "execution_count": null,
   "id": "00c2eb9f",
   "metadata": {},
   "outputs": [],
   "source": [
    "train_path = \"/home/apfriend/ucsd/CURRENT/cse151b/kaggle/data/new_train/new_train\"\n",
    "val_path=\"/home/apfriend/ucsd/CURRENT/cse151b/kaggle/data/new_val_in/new_val_in\""
   ]
  },
  {
   "cell_type": "code",
   "execution_count": 4,
   "id": "c0946b70",
   "metadata": {},
   "outputs": [
    {
     "ename": "NameError",
     "evalue": "name 'val_path' is not defined",
     "output_type": "error",
     "traceback": [
      "\u001b[0;31m---------------------------------------------------------------------------\u001b[0m",
      "\u001b[0;31mNameError\u001b[0m                                 Traceback (most recent call last)",
      "\u001b[0;32m<ipython-input-4-9a1546f4ec2c>\u001b[0m in \u001b[0;36m<module>\u001b[0;34m\u001b[0m\n\u001b[0;32m----> 1\u001b[0;31m \u001b[0mval_dataset\u001b[0m\u001b[0;34m=\u001b[0m\u001b[0mArgoverseDataset\u001b[0m\u001b[0;34m(\u001b[0m\u001b[0mdata_path\u001b[0m\u001b[0;34m=\u001b[0m\u001b[0mval_path\u001b[0m\u001b[0;34m)\u001b[0m\u001b[0;34m\u001b[0m\u001b[0;34m\u001b[0m\u001b[0m\n\u001b[0m\u001b[1;32m      2\u001b[0m \u001b[0mtrain_dataset\u001b[0m\u001b[0;34m=\u001b[0m\u001b[0mArgoverseDataset\u001b[0m\u001b[0;34m(\u001b[0m\u001b[0mdata_path\u001b[0m\u001b[0;34m=\u001b[0m\u001b[0mtrain_path\u001b[0m\u001b[0;34m)\u001b[0m\u001b[0;34m\u001b[0m\u001b[0;34m\u001b[0m\u001b[0m\n\u001b[1;32m      3\u001b[0m \u001b[0;34m\u001b[0m\u001b[0m\n\u001b[1;32m      4\u001b[0m \u001b[0mbatchsize\u001b[0m \u001b[0;34m=\u001b[0m \u001b[0;36m4\u001b[0m\u001b[0;34m\u001b[0m\u001b[0;34m\u001b[0m\u001b[0m\n\u001b[1;32m      5\u001b[0m \u001b[0;34m\u001b[0m\u001b[0m\n",
      "\u001b[0;31mNameError\u001b[0m: name 'val_path' is not defined"
     ]
    }
   ],
   "source": [
    "val_dataset=ArgoverseDataset(data_path=val_path)\n",
    "train_dataset=ArgoverseDataset(data_path=train_path)\n",
    "\n",
    "batchsize = 4\n",
    "\n",
    "#use same number of workers as CPU cores (4)\n",
    "nworkers=multiprocessing.cpu_count()\n",
    "\n",
    "#need different collate function for validation set since it has no `p_out` or `v_out`\n",
    "\n",
    "val_loader = DataLoader(\n",
    "    val_dataset,\n",
    "    batch_size=batchsize, \n",
    "    shuffle = False, \n",
    "    collate_fn=my_collate2, \n",
    "    num_workers=nworkers\n",
    ")\n",
    "\n",
    "train_loader = DataLoader(\n",
    "    train_dataset,\n",
    "    batch_size=batchsize, \n",
    "    shuffle = True, \n",
    "    collate_fn=my_collate, \n",
    "    num_workers=nworkers\n",
    ")"
   ]
  },
  {
   "cell_type": "markdown",
   "id": "0215b655",
   "metadata": {},
   "source": [
    "## Train and Test Set Dimensionality"
   ]
  },
  {
   "cell_type": "markdown",
   "id": "3438ef60",
   "metadata": {},
   "source": [
    "The dimensions of the training data are $2 \\times \\mathrm{batch\\ size} \\times 60 \\times 19 \\times 4$\n",
    "\n",
    ">There are the input and output data (2)\n",
    "\n",
    ">There are 60 cars for 1.9 seconds at 10Hz (19)\n",
    "\n",
    ">For each input/output (for each car) there are positions, velocities in (x,y) coordinates (last 4)"
   ]
  },
  {
   "cell_type": "code",
   "execution_count": 5,
   "id": "e4a28461",
   "metadata": {
    "tags": []
   },
   "outputs": [
    {
     "name": "stdout",
     "output_type": "stream",
     "text": [
      "Training set size: 205944\n",
      "Training set dimensions: (2, 4, 60, 19, 4)\n"
     ]
    }
   ],
   "source": [
    "print(\"Training set size: %s\"%(int(len(train_loader))*batchsize))\n",
    "\n",
    "for batch in train_loader:\n",
    "    train_batch=batch#.detach().numpy()\n",
    "    break;\n",
    "    \n",
    "dimensions=(\n",
    "    len(train_batch), \n",
    "    len(train_batch[0]),\n",
    "    len(train_batch[0][0]),\n",
    "    len(train_batch[0][0][0]), \n",
    "    len(train_batch[0][0][0][0])\n",
    ")\n",
    "    \n",
    "print(f\"Training set dimensions: {dimensions}\")"
   ]
  },
  {
   "cell_type": "markdown",
   "id": "ed08642a",
   "metadata": {},
   "source": [
    "The dimensions of the validation data are the same as training data except it does not have an output. $\\mathrm{batch\\ size} \\times 60 \\times 19 \\times 4$\n",
    "\n",
    ">There are 60 cars for 1.9 seconds at 10Hz (19)\n",
    "\n",
    ">For each input and output (each car) there are positions, velocities in (x,y) coordinates (last 4)"
   ]
  },
  {
   "cell_type": "code",
   "execution_count": 6,
   "id": "4122cbb0",
   "metadata": {},
   "outputs": [
    {
     "name": "stdout",
     "output_type": "stream",
     "text": [
      "Validation set size: 3200\n",
      "Training set dimensions: (4, 60, 19, 4)\n"
     ]
    }
   ],
   "source": [
    "print(\"Validation set size: %s\"%(int(len(val_loader))*batchsize))\n",
    "\n",
    "\n",
    "for batch in val_loader:\n",
    "    val_batch=batch#.detach().numpy()\n",
    "    break;\n",
    "    \n",
    "dimensions=(\n",
    "    len(val_batch), #batch size\n",
    "    len(val_batch[0]), #number of vehicles\n",
    "    len(val_batch[0][0]), #each time interval,\n",
    "    len(val_batch[0][0][0]) #positions\n",
    ")\n",
    "    \n",
    "print(f\"Training set dimensions: {dimensions}\")"
   ]
  },
  {
   "cell_type": "markdown",
   "id": "0f3a8703",
   "metadata": {},
   "source": [
    "### Create a sample set of train values to compute statistics like histogram"
   ]
  },
  {
   "cell_type": "code",
   "execution_count": 7,
   "id": "e893e33e",
   "metadata": {},
   "outputs": [
    {
     "data": {
      "text/plain": [
       "'/home/apfriend/ucsd/CURRENT/cse151b/kaggle/data/new_train/new_train'"
      ]
     },
     "execution_count": 7,
     "metadata": {},
     "output_type": "execute_result"
    }
   ],
   "source": [
    "train_path"
   ]
  },
  {
   "cell_type": "code",
   "execution_count": 13,
   "id": "3325e71b",
   "metadata": {
    "tags": []
   },
   "outputs": [],
   "source": [
    "sample_path='/home/apfriend/ucsd/CURRENT/cse151b/kaggle/data/sample'\n",
    "train_sample_path=os.path.join(sample_path, \"train_sample\")\n",
    "# sample 2000 files of the 205,942 .pkl files\n",
    "sample_size=2000\n",
    "\n",
    "#saving sample files to new directory\n",
    "sample_files(\n",
    "    src=train_path, \n",
    "    dst=train_sample_path, \n",
    "    sample_size=sample_size\n",
    ")\n",
    "\n",
    "#create new DataLoader object from sampled files\n",
    "sample_dataset=ArgoverseDataset(data_path=train_sample_path)\n",
    "\n",
    "#give full permissions to sample data\n",
    "!chmod -R +777 $sample_path\n",
    "\n",
    "\n",
    "sample_out_fn='sample_out.csv'\n",
    "\n",
    "\n",
    "\n"
   ]
  },
  {
   "cell_type": "code",
   "execution_count": 14,
   "id": "0769dc02",
   "metadata": {},
   "outputs": [
    {
     "name": "stderr",
     "output_type": "stream",
     "text": [
      "100%|██████████| 10/10 [00:16<00:00,  1.68s/it]\n"
     ]
    }
   ],
   "source": [
    "batchsize = 200\n",
    "\n",
    "#use same number of workers as CPU cores (4)\n",
    "nworkers=multiprocessing.cpu_count()\n",
    "\n",
    "sample_loader = DataLoader(\n",
    "    sample_dataset,\n",
    "    batch_size=batchsize, \n",
    "    shuffle = True, \n",
    "    collate_fn=my_collate, \n",
    "    num_workers=nworkers\n",
    ")\n",
    "\n",
    "dataloader_to_csv(\n",
    "    data_loader=sample_loader,\n",
    "    dst=sample_path,\n",
    "    in_fn=sample_in_fn,\n",
    "    out_fn=sample_out_fn\n",
    ")"
   ]
  },
  {
   "cell_type": "markdown",
   "id": "da3b8c01",
   "metadata": {},
   "source": [
    "### Histogram of Sample Data"
   ]
  },
  {
   "cell_type": "code",
   "execution_count": 19,
   "id": "890477af",
   "metadata": {},
   "outputs": [
    {
     "data": {
      "text/html": [
       "<div>\n",
       "<style scoped>\n",
       "    .dataframe tbody tr th:only-of-type {\n",
       "        vertical-align: middle;\n",
       "    }\n",
       "\n",
       "    .dataframe tbody tr th {\n",
       "        vertical-align: top;\n",
       "    }\n",
       "\n",
       "    .dataframe thead th {\n",
       "        text-align: right;\n",
       "    }\n",
       "</style>\n",
       "<table border=\"1\" class=\"dataframe\">\n",
       "  <thead>\n",
       "    <tr style=\"text-align: right;\">\n",
       "      <th></th>\n",
       "      <th>x_pos</th>\n",
       "      <th>y_pos</th>\n",
       "      <th>x_vel</th>\n",
       "      <th>y_vel</th>\n",
       "    </tr>\n",
       "  </thead>\n",
       "  <tbody>\n",
       "    <tr>\n",
       "      <th>0</th>\n",
       "      <td>497.181702</td>\n",
       "      <td>3995.872314</td>\n",
       "      <td>0.001405</td>\n",
       "      <td>-0.003492</td>\n",
       "    </tr>\n",
       "    <tr>\n",
       "      <th>1</th>\n",
       "      <td>497.181915</td>\n",
       "      <td>3995.871826</td>\n",
       "      <td>0.002322</td>\n",
       "      <td>-0.005172</td>\n",
       "    </tr>\n",
       "    <tr>\n",
       "      <th>2</th>\n",
       "      <td>497.182190</td>\n",
       "      <td>3995.871826</td>\n",
       "      <td>0.002748</td>\n",
       "      <td>-0.000411</td>\n",
       "    </tr>\n",
       "    <tr>\n",
       "      <th>3</th>\n",
       "      <td>497.182098</td>\n",
       "      <td>3995.871338</td>\n",
       "      <td>-0.001016</td>\n",
       "      <td>-0.004760</td>\n",
       "    </tr>\n",
       "    <tr>\n",
       "      <th>4</th>\n",
       "      <td>497.182343</td>\n",
       "      <td>3995.870850</td>\n",
       "      <td>0.002407</td>\n",
       "      <td>-0.004704</td>\n",
       "    </tr>\n",
       "  </tbody>\n",
       "</table>\n",
       "</div>"
      ],
      "text/plain": [
       "        x_pos        y_pos     x_vel     y_vel\n",
       "0  497.181702  3995.872314  0.001405 -0.003492\n",
       "1  497.181915  3995.871826  0.002322 -0.005172\n",
       "2  497.182190  3995.871826  0.002748 -0.000411\n",
       "3  497.182098  3995.871338 -0.001016 -0.004760\n",
       "4  497.182343  3995.870850  0.002407 -0.004704"
      ]
     },
     "metadata": {},
     "output_type": "display_data"
    },
    {
     "data": {
      "text/html": [
       "<div>\n",
       "<style scoped>\n",
       "    .dataframe tbody tr th:only-of-type {\n",
       "        vertical-align: middle;\n",
       "    }\n",
       "\n",
       "    .dataframe tbody tr th {\n",
       "        vertical-align: top;\n",
       "    }\n",
       "\n",
       "    .dataframe thead th {\n",
       "        text-align: right;\n",
       "    }\n",
       "</style>\n",
       "<table border=\"1\" class=\"dataframe\">\n",
       "  <thead>\n",
       "    <tr style=\"text-align: right;\">\n",
       "      <th></th>\n",
       "      <th>x_pos</th>\n",
       "      <th>y_pos</th>\n",
       "      <th>x_vel</th>\n",
       "      <th>y_vel</th>\n",
       "    </tr>\n",
       "  </thead>\n",
       "  <tbody>\n",
       "    <tr>\n",
       "      <th>0</th>\n",
       "      <td>497.184174</td>\n",
       "      <td>3995.864746</td>\n",
       "      <td>0.003756</td>\n",
       "      <td>0.000095</td>\n",
       "    </tr>\n",
       "    <tr>\n",
       "      <th>1</th>\n",
       "      <td>497.184113</td>\n",
       "      <td>3995.863770</td>\n",
       "      <td>-0.000717</td>\n",
       "      <td>-0.010065</td>\n",
       "    </tr>\n",
       "    <tr>\n",
       "      <th>2</th>\n",
       "      <td>497.184326</td>\n",
       "      <td>3995.862549</td>\n",
       "      <td>0.001965</td>\n",
       "      <td>-0.011957</td>\n",
       "    </tr>\n",
       "    <tr>\n",
       "      <th>3</th>\n",
       "      <td>497.184631</td>\n",
       "      <td>3995.862549</td>\n",
       "      <td>0.003233</td>\n",
       "      <td>0.000564</td>\n",
       "    </tr>\n",
       "    <tr>\n",
       "      <th>4</th>\n",
       "      <td>497.184570</td>\n",
       "      <td>3995.861816</td>\n",
       "      <td>-0.000612</td>\n",
       "      <td>-0.007035</td>\n",
       "    </tr>\n",
       "  </tbody>\n",
       "</table>\n",
       "</div>"
      ],
      "text/plain": [
       "        x_pos        y_pos     x_vel     y_vel\n",
       "0  497.184174  3995.864746  0.003756  0.000095\n",
       "1  497.184113  3995.863770 -0.000717 -0.010065\n",
       "2  497.184326  3995.862549  0.001965 -0.011957\n",
       "3  497.184631  3995.862549  0.003233  0.000564\n",
       "4  497.184570  3995.861816 -0.000612 -0.007035"
      ]
     },
     "execution_count": 19,
     "metadata": {},
     "output_type": "execute_result"
    }
   ],
   "source": [
    "sample_in_fp=os.path.join(sample_path, \"sample_in.csv\")\n",
    "sample_out_fp=os.path.join(sample_path, \"sample_out.csv\")\n",
    "\n",
    "sample_in_df=pd.read_csv(sample_in_fp)\n",
    "sample_out_df=pd.read_csv(sample_out_fp)\n",
    "\n",
    "display(sample_in_df.head())\n",
    "sample_out_df.head()"
   ]
  },
  {
   "cell_type": "code",
   "execution_count": 22,
   "id": "ae911fa1",
   "metadata": {},
   "outputs": [
    {
     "data": {
      "text/html": [
       "<div>\n",
       "<style scoped>\n",
       "    .dataframe tbody tr th:only-of-type {\n",
       "        vertical-align: middle;\n",
       "    }\n",
       "\n",
       "    .dataframe tbody tr th {\n",
       "        vertical-align: top;\n",
       "    }\n",
       "\n",
       "    .dataframe thead th {\n",
       "        text-align: right;\n",
       "    }\n",
       "</style>\n",
       "<table border=\"1\" class=\"dataframe\">\n",
       "  <thead>\n",
       "    <tr style=\"text-align: right;\">\n",
       "      <th></th>\n",
       "      <th>x_pos</th>\n",
       "      <th>y_pos</th>\n",
       "      <th>x_vel</th>\n",
       "      <th>y_vel</th>\n",
       "    </tr>\n",
       "  </thead>\n",
       "  <tbody>\n",
       "    <tr>\n",
       "      <th>count</th>\n",
       "      <td>2.280000e+06</td>\n",
       "      <td>2.280000e+06</td>\n",
       "      <td>2.280000e+06</td>\n",
       "      <td>2.280000e+06</td>\n",
       "    </tr>\n",
       "    <tr>\n",
       "      <th>mean</th>\n",
       "      <td>2.108387e+02</td>\n",
       "      <td>3.245734e+02</td>\n",
       "      <td>3.604328e-02</td>\n",
       "      <td>-1.889331e-02</td>\n",
       "    </tr>\n",
       "    <tr>\n",
       "      <th>std</th>\n",
       "      <td>7.032012e+02</td>\n",
       "      <td>8.485306e+02</td>\n",
       "      <td>1.749104e+00</td>\n",
       "      <td>2.185653e+00</td>\n",
       "    </tr>\n",
       "    <tr>\n",
       "      <th>min</th>\n",
       "      <td>0.000000e+00</td>\n",
       "      <td>0.000000e+00</td>\n",
       "      <td>-1.144689e+02</td>\n",
       "      <td>-1.688118e+02</td>\n",
       "    </tr>\n",
       "    <tr>\n",
       "      <th>25%</th>\n",
       "      <td>0.000000e+00</td>\n",
       "      <td>0.000000e+00</td>\n",
       "      <td>0.000000e+00</td>\n",
       "      <td>0.000000e+00</td>\n",
       "    </tr>\n",
       "    <tr>\n",
       "      <th>50%</th>\n",
       "      <td>0.000000e+00</td>\n",
       "      <td>0.000000e+00</td>\n",
       "      <td>0.000000e+00</td>\n",
       "      <td>0.000000e+00</td>\n",
       "    </tr>\n",
       "    <tr>\n",
       "      <th>75%</th>\n",
       "      <td>0.000000e+00</td>\n",
       "      <td>0.000000e+00</td>\n",
       "      <td>0.000000e+00</td>\n",
       "      <td>0.000000e+00</td>\n",
       "    </tr>\n",
       "    <tr>\n",
       "      <th>max</th>\n",
       "      <td>4.735943e+03</td>\n",
       "      <td>4.092156e+03</td>\n",
       "      <td>7.909621e+01</td>\n",
       "      <td>1.461265e+02</td>\n",
       "    </tr>\n",
       "  </tbody>\n",
       "</table>\n",
       "</div>"
      ],
      "text/plain": [
       "              x_pos         y_pos         x_vel         y_vel\n",
       "count  2.280000e+06  2.280000e+06  2.280000e+06  2.280000e+06\n",
       "mean   2.108387e+02  3.245734e+02  3.604328e-02 -1.889331e-02\n",
       "std    7.032012e+02  8.485306e+02  1.749104e+00  2.185653e+00\n",
       "min    0.000000e+00  0.000000e+00 -1.144689e+02 -1.688118e+02\n",
       "25%    0.000000e+00  0.000000e+00  0.000000e+00  0.000000e+00\n",
       "50%    0.000000e+00  0.000000e+00  0.000000e+00  0.000000e+00\n",
       "75%    0.000000e+00  0.000000e+00  0.000000e+00  0.000000e+00\n",
       "max    4.735943e+03  4.092156e+03  7.909621e+01  1.461265e+02"
      ]
     },
     "execution_count": 22,
     "metadata": {},
     "output_type": "execute_result"
    }
   ],
   "source": [
    "sample_in_df.describe()"
   ]
  },
  {
   "cell_type": "code",
   "execution_count": 23,
   "id": "a3aa70d0",
   "metadata": {},
   "outputs": [
    {
     "data": {
      "text/html": [
       "<div>\n",
       "<style scoped>\n",
       "    .dataframe tbody tr th:only-of-type {\n",
       "        vertical-align: middle;\n",
       "    }\n",
       "\n",
       "    .dataframe tbody tr th {\n",
       "        vertical-align: top;\n",
       "    }\n",
       "\n",
       "    .dataframe thead th {\n",
       "        text-align: right;\n",
       "    }\n",
       "</style>\n",
       "<table border=\"1\" class=\"dataframe\">\n",
       "  <thead>\n",
       "    <tr style=\"text-align: right;\">\n",
       "      <th></th>\n",
       "      <th>x_pos</th>\n",
       "      <th>y_pos</th>\n",
       "      <th>x_vel</th>\n",
       "      <th>y_vel</th>\n",
       "    </tr>\n",
       "  </thead>\n",
       "  <tbody>\n",
       "    <tr>\n",
       "      <th>count</th>\n",
       "      <td>3.600000e+06</td>\n",
       "      <td>3.600000e+06</td>\n",
       "      <td>3.600000e+06</td>\n",
       "      <td>3.600000e+06</td>\n",
       "    </tr>\n",
       "    <tr>\n",
       "      <th>mean</th>\n",
       "      <td>2.109253e+02</td>\n",
       "      <td>3.245277e+02</td>\n",
       "      <td>3.481067e-02</td>\n",
       "      <td>-1.777745e-02</td>\n",
       "    </tr>\n",
       "    <tr>\n",
       "      <th>std</th>\n",
       "      <td>7.034579e+02</td>\n",
       "      <td>8.483126e+02</td>\n",
       "      <td>1.797118e+00</td>\n",
       "      <td>2.223628e+00</td>\n",
       "    </tr>\n",
       "    <tr>\n",
       "      <th>min</th>\n",
       "      <td>0.000000e+00</td>\n",
       "      <td>0.000000e+00</td>\n",
       "      <td>-1.008539e+02</td>\n",
       "      <td>-1.215008e+02</td>\n",
       "    </tr>\n",
       "    <tr>\n",
       "      <th>25%</th>\n",
       "      <td>0.000000e+00</td>\n",
       "      <td>0.000000e+00</td>\n",
       "      <td>0.000000e+00</td>\n",
       "      <td>0.000000e+00</td>\n",
       "    </tr>\n",
       "    <tr>\n",
       "      <th>50%</th>\n",
       "      <td>0.000000e+00</td>\n",
       "      <td>0.000000e+00</td>\n",
       "      <td>0.000000e+00</td>\n",
       "      <td>0.000000e+00</td>\n",
       "    </tr>\n",
       "    <tr>\n",
       "      <th>75%</th>\n",
       "      <td>0.000000e+00</td>\n",
       "      <td>0.000000e+00</td>\n",
       "      <td>0.000000e+00</td>\n",
       "      <td>0.000000e+00</td>\n",
       "    </tr>\n",
       "    <tr>\n",
       "      <th>max</th>\n",
       "      <td>4.736574e+03</td>\n",
       "      <td>4.092117e+03</td>\n",
       "      <td>8.774132e+01</td>\n",
       "      <td>1.484342e+02</td>\n",
       "    </tr>\n",
       "  </tbody>\n",
       "</table>\n",
       "</div>"
      ],
      "text/plain": [
       "              x_pos         y_pos         x_vel         y_vel\n",
       "count  3.600000e+06  3.600000e+06  3.600000e+06  3.600000e+06\n",
       "mean   2.109253e+02  3.245277e+02  3.481067e-02 -1.777745e-02\n",
       "std    7.034579e+02  8.483126e+02  1.797118e+00  2.223628e+00\n",
       "min    0.000000e+00  0.000000e+00 -1.008539e+02 -1.215008e+02\n",
       "25%    0.000000e+00  0.000000e+00  0.000000e+00  0.000000e+00\n",
       "50%    0.000000e+00  0.000000e+00  0.000000e+00  0.000000e+00\n",
       "75%    0.000000e+00  0.000000e+00  0.000000e+00  0.000000e+00\n",
       "max    4.736574e+03  4.092117e+03  8.774132e+01  1.484342e+02"
      ]
     },
     "execution_count": 23,
     "metadata": {},
     "output_type": "execute_result"
    }
   ],
   "source": [
    "sample_out_df.describe()"
   ]
  },
  {
   "cell_type": "code",
   "execution_count": 51,
   "id": "93fe05bf",
   "metadata": {},
   "outputs": [
    {
     "data": {
      "application/vnd.jupyter.widget-view+json": {
       "model_id": "503d3927fe124793b087be2a0517a7a1",
       "version_major": 2,
       "version_minor": 0
      },
      "text/plain": [
       "Canvas(toolbar=Toolbar(toolitems=[('Home', 'Reset original view', 'home', 'home'), ('Back', 'Back to previous …"
      ]
     },
     "metadata": {},
     "output_type": "display_data"
    }
   ],
   "source": [
    "%matplotlib widget\n",
    "\n",
    "#set font of all images\n",
    "font = {'family' : 'DejaVu Sans',\n",
    "        'weight' : 'bold',\n",
    "        'size'   : 14}\n",
    "\n",
    "plt.rc('font', **font)\n",
    "\n",
    "save_path=os.path.join(fig_path, \"sample-in-position-hist.pdf\")\n",
    "\n",
    "num_bins=30\n",
    "\n",
    "fig, axs=plt.subplots(1,2, figsize=(16,8))\n",
    "fig.suptitle(\"Distribution of Input Positions\")\n",
    "fig.patch.set_facecolor(\"white\")\n",
    "\n",
    "axs[0].hist(\n",
    "    x=sample_in_df.x_pos,\n",
    "    bins=num_bins    \n",
    ")\n",
    "axs[1].hist(\n",
    "    x=sample_in_df.y_pos,\n",
    "    bins=num_bins    \n",
    ")\n",
    "\n",
    "axs[0].set_title(\"X-Coordinate Input Positions\")\n",
    "axs[1].set_title(\"Y-Coordinate Input Positions\")\n",
    "fig.savefig(save_path)\n",
    "fig.show();"
   ]
  },
  {
   "cell_type": "code",
   "execution_count": 52,
   "id": "5b822b0e",
   "metadata": {},
   "outputs": [
    {
     "data": {
      "application/vnd.jupyter.widget-view+json": {
       "model_id": "3b2c2ea07ef84b22959e2be3089aa4c1",
       "version_major": 2,
       "version_minor": 0
      },
      "text/plain": [
       "Canvas(toolbar=Toolbar(toolitems=[('Home', 'Reset original view', 'home', 'home'), ('Back', 'Back to previous …"
      ]
     },
     "metadata": {},
     "output_type": "display_data"
    }
   ],
   "source": [
    "save_path=os.path.join(fig_path, \"sample-out-position-hist.pdf\")\n",
    "\n",
    "num_bins=30\n",
    "\n",
    "fig, axs=plt.subplots(1,2, figsize=(16,8))\n",
    "fig.suptitle(\"Distribution of Output Positions\")\n",
    "fig.patch.set_facecolor(\"white\")\n",
    "\n",
    "axs[0].hist(\n",
    "    x=sample_out_df.x_pos,\n",
    "    bins=num_bins    \n",
    ")\n",
    "axs[1].hist(\n",
    "    x=sample_out_df.y_pos,\n",
    "    bins=num_bins    \n",
    ")\n",
    "\n",
    "axs[0].set_title(\"X-Coordinate Output Positions\")\n",
    "axs[1].set_title(\"Y-Coordinate Output Positions\")\n",
    "fig.savefig(save_path)\n",
    "fig.show();"
   ]
  },
  {
   "cell_type": "code",
   "execution_count": 53,
   "id": "db7bc320",
   "metadata": {},
   "outputs": [
    {
     "data": {
      "application/vnd.jupyter.widget-view+json": {
       "model_id": "13c477a60c9a4971924689696dbbcd1d",
       "version_major": 2,
       "version_minor": 0
      },
      "text/plain": [
       "Canvas(toolbar=Toolbar(toolitems=[('Home', 'Reset original view', 'home', 'home'), ('Back', 'Back to previous …"
      ]
     },
     "metadata": {},
     "output_type": "display_data"
    }
   ],
   "source": [
    "save_path=os.path.join(fig_path, \"sample-in-velocity-hist.pdf\")\n",
    "\n",
    "num_bins=30\n",
    "\n",
    "fig, axs=plt.subplots(1,2, figsize=(16,8))\n",
    "fig.suptitle(\"Distribution of Input Velocities\")\n",
    "fig.patch.set_facecolor(\"white\")\n",
    "\n",
    "axs[0].hist(\n",
    "    x=sample_in_df.x_vel,\n",
    "    bins=num_bins    \n",
    ")\n",
    "axs[1].hist(\n",
    "    x=sample_in_df.y_vel,\n",
    "    bins=num_bins    \n",
    ")\n",
    "\n",
    "axs[0].set_title(\"X-Coordinate Input Velocities\")\n",
    "axs[1].set_title(\"Y-Coordinate Input Velocities\")\n",
    "fig.savefig(save_path)\n",
    "fig.show();"
   ]
  },
  {
   "cell_type": "code",
   "execution_count": 54,
   "id": "6745f5c4",
   "metadata": {},
   "outputs": [
    {
     "data": {
      "application/vnd.jupyter.widget-view+json": {
       "model_id": "6a349e5a175b47468e3635832f1bec69",
       "version_major": 2,
       "version_minor": 0
      },
      "text/plain": [
       "Canvas(toolbar=Toolbar(toolitems=[('Home', 'Reset original view', 'home', 'home'), ('Back', 'Back to previous …"
      ]
     },
     "metadata": {},
     "output_type": "display_data"
    }
   ],
   "source": [
    "save_path=os.path.join(fig_path, \"sample-out-velocity-hist.pdf\")\n",
    "\n",
    "num_bins=30\n",
    "\n",
    "fig, axs=plt.subplots(1,2, figsize=(16,8))\n",
    "fig.suptitle(\"Distribution of Output Velocities\")\n",
    "fig.patch.set_facecolor(\"white\")\n",
    "\n",
    "axs[0].hist(\n",
    "    x=sample_out_df.x_vel,\n",
    "    bins=num_bins    \n",
    ")\n",
    "axs[1].hist(\n",
    "    x=sample_out_df.y_vel,\n",
    "    bins=num_bins    \n",
    ")\n",
    "\n",
    "axs[0].set_title(\"X-Coordinate Output Velocities\")\n",
    "axs[1].set_title(\"Y-Coordinate Output Velocities\")\n",
    "fig.savefig(save_path)\n",
    "fig.show();"
   ]
  },
  {
   "cell_type": "code",
   "execution_count": 57,
   "id": "09fb55d6",
   "metadata": {},
   "outputs": [
    {
     "data": {
      "application/vnd.jupyter.widget-view+json": {
       "model_id": "7a454e3af4e2493c8b5fb933622c7569",
       "version_major": 2,
       "version_minor": 0
      },
      "text/plain": [
       "Canvas(toolbar=Toolbar(toolitems=[('Home', 'Reset original view', 'home', 'home'), ('Back', 'Back to previous …"
      ]
     },
     "metadata": {},
     "output_type": "display_data"
    }
   ],
   "source": [
    "save_path=os.path.join(fig_path, \"sample-in-velocity-magnitude-hist.pdf\")\n",
    "\n",
    "num_bins=30\n",
    "\n",
    "fig, axs=plt.subplots(1,2, figsize=(16,8))\n",
    "fig.suptitle(\"Distribution of Input Velocitiy Magnitudes\")\n",
    "fig.patch.set_facecolor(\"white\")\n",
    "\n",
    "axs[0].hist(\n",
    "    x=sample_in_df.x_vel.abs(),\n",
    "    bins=num_bins    \n",
    ")\n",
    "axs[1].hist(\n",
    "    x=sample_in_df.y_vel.abs(),\n",
    "    bins=num_bins    \n",
    ")\n",
    "\n",
    "axs[0].set_title(\"X-Coordinate Input Velocitiy Magnitudes\")\n",
    "axs[1].set_title(\"Y-Coordinate Input Velocitiy Magnitudes\")\n",
    "fig.savefig(save_path)\n",
    "fig.show();"
   ]
  },
  {
   "cell_type": "code",
   "execution_count": 58,
   "id": "9b164cde",
   "metadata": {},
   "outputs": [
    {
     "data": {
      "application/vnd.jupyter.widget-view+json": {
       "model_id": "d533a56720ec455fb1badbdace35d74d",
       "version_major": 2,
       "version_minor": 0
      },
      "text/plain": [
       "Canvas(toolbar=Toolbar(toolitems=[('Home', 'Reset original view', 'home', 'home'), ('Back', 'Back to previous …"
      ]
     },
     "metadata": {},
     "output_type": "display_data"
    }
   ],
   "source": [
    "save_path=os.path.join(fig_path, \"sample-out-velocity-magnitude-hist.pdf\")\n",
    "\n",
    "num_bins=30\n",
    "\n",
    "fig, axs=plt.subplots(1,2, figsize=(16,8))\n",
    "fig.suptitle(\"Distribution of Output Velocitiy Magnitudes\")\n",
    "fig.patch.set_facecolor(\"white\")\n",
    "\n",
    "axs[0].hist(\n",
    "    x=sample_out_df.x_vel.abs(),\n",
    "    bins=num_bins    \n",
    ")\n",
    "axs[1].hist(\n",
    "    x=sample_out_df.y_vel.abs(),\n",
    "    bins=num_bins    \n",
    ")\n",
    "\n",
    "axs[0].set_title(\"X-Coordinate Output Velocitiy Magnitudes\")\n",
    "axs[1].set_title(\"Y-Coordinate Output Velocitiy Magnitudes\")\n",
    "fig.savefig(save_path)\n",
    "fig.show();"
   ]
  },
  {
   "cell_type": "markdown",
   "id": "ebb1c783",
   "metadata": {},
   "source": [
    "## Looking at the raw files themselves"
   ]
  },
  {
   "cell_type": "code",
   "execution_count": null,
   "id": "edbf0e45",
   "metadata": {},
   "outputs": [],
   "source": [
    "train_loader[0]"
   ]
  },
  {
   "cell_type": "code",
   "execution_count": null,
   "id": "2abf995e",
   "metadata": {
    "tags": []
   },
   "outputs": [],
   "source": [
    "train_data_in={}\n",
    "train_data_out={}\n",
    "\n",
    "cols=['x_pos','y_pos','x_vel','y_vel']\n",
    "for col in cols:\n",
    "    train_data_in[col]=[]\n",
    "    train_data_out[col]=[]\n",
    "\n",
    "pd.DataFrame(train_data_in).to_csv(\"in_data.csv\", index=False)\n",
    "pd.DataFrame(train_data_out).to_csv(\"out_data.csv\", index=False)\n",
    "\n",
    "for batch in tqdm(train_loader):\n",
    "    \n",
    "    train_data_in={}\n",
    "    train_data_out={}\n",
    "    for col in cols:\n",
    "        train_data_in[col]=[]\n",
    "        train_data_out[col]=[]\n",
    "    \n",
    "    in_data=batch[0].detach().numpy()\n",
    "    out_data=batch[1].detach.numpy()\n",
    "    \n",
    "    for scene in in_data:\n",
    "        for car in scene:\n",
    "            for time_data in car:\n",
    "#                 td=time_data.detach().numpy()\n",
    "                train_data_in['x_pos'].append(time_data[0])\n",
    "                train_data_in['y_pos'].append(time_data[1])\n",
    "                train_data_in['x_vel'].append(time_data[2])\n",
    "                train_data_in['y_vel'].append(time_data[3])\n",
    "    \n",
    "    for scene in out_data:\n",
    "        for car in scene:\n",
    "            for time_data in car:\n",
    "#                 td=time_data.detach().numpy()\n",
    "                train_data_out['x_pos'].append(time_data[0])\n",
    "                train_data_out['y_pos'].append(time_data[1])\n",
    "                train_data_out['x_vel'].append(time_data[2])\n",
    "                train_data_out['y_vel'].append(time_data[3])\n",
    "    \n",
    "#     print(len(train_data['x_pos_in']))\n",
    "#     print(len(train_data['x_pos_out']))\n",
    "    \n",
    "    pd.DataFrame(train_data_in).to_csv(\"in_data.csv\", mode='a', header=False, index=False)\n",
    "    pd.DataFrame(train_data_out).to_csv(\"out_data.csv\", mode='a', header=False, index=False)\n",
    "#     pd.DataFrame(train_data).to_csv(\"train_data.csv\" index=False)"
   ]
  },
  {
   "cell_type": "code",
   "execution_count": null,
   "id": "71c35aed",
   "metadata": {},
   "outputs": [],
   "source": []
  },
  {
   "cell_type": "code",
   "execution_count": null,
   "id": "d53e1a11",
   "metadata": {},
   "outputs": [],
   "source": [
    "sns.distplot(indf.x_pos)\n",
    "plt.savefig(\"x_pos_hist.svg\")"
   ]
  },
  {
   "cell_type": "code",
   "execution_count": null,
   "id": "ef867567",
   "metadata": {
    "tags": []
   },
   "outputs": [],
   "source": [
    "train_fp=os.path.join(train_path, '1.pkl')\n",
    "with open(train_fp, \"rb\") as file:\n",
    "    train_file=pickle.load(file)\n",
    "# train_file"
   ]
  },
  {
   "cell_type": "code",
   "execution_count": 66,
   "id": "be816b29",
   "metadata": {
    "tags": []
   },
   "outputs": [
    {
     "data": {
      "text/plain": [
       "dict_keys(['city', 'lane', 'lane_norm', 'scene_idx', 'agent_id', 'car_mask', 'p_in', 'v_in', 'track_id'])"
      ]
     },
     "execution_count": 66,
     "metadata": {},
     "output_type": "execute_result"
    }
   ],
   "source": [
    "val_fp=os.path.join(val_path, '12.pkl')\n",
    "with open(val_fp, \"rb\") as file:\n",
    "    val_file=pickle.load(file)\n",
    "val_file.keys()"
   ]
  },
  {
   "cell_type": "code",
   "execution_count": 67,
   "id": "0bde886f",
   "metadata": {},
   "outputs": [
    {
     "data": {
      "text/plain": [
       "12"
      ]
     },
     "execution_count": 67,
     "metadata": {},
     "output_type": "execute_result"
    }
   ],
   "source": [
    "val_file[\"scene_idx\"]"
   ]
  },
  {
   "cell_type": "markdown",
   "id": "cebd0339",
   "metadata": {
    "tags": []
   },
   "source": [
    "## Visualize the batch of sequences"
   ]
  },
  {
   "cell_type": "code",
   "execution_count": 64,
   "id": "c8f03ca9",
   "metadata": {
    "tags": []
   },
   "outputs": [
    {
     "data": {
      "image/png": "[encoded data removed]",
      "text/plain": [
       "<Figure size 1080x216 with 4 Axes>"
      ]
     },
     "metadata": {},
     "output_type": "display_data"
    },
    {
     "data": {
      "image/png": "[encoded data removed]",
      "text/plain": [
       "<Figure size 1080x216 with 4 Axes>"
      ]
     },
     "metadata": {},
     "output_type": "display_data"
    },
    {
     "data": {
      "image/png": "[encoded data removed]",
      "text/plain": [
       "<Figure size 1080x216 with 4 Axes>"
      ]
     },
     "metadata": {},
     "output_type": "display_data"
    },
    {
     "data": {
      "image/png": "[encoded data removed]",
      "text/plain": [
       "<Figure size 1080x216 with 4 Axes>"
      ]
     },
     "metadata": {},
     "output_type": "display_data"
    },
    {
     "data": {
      "image/png": "[encoded data removed]",
      "text/plain": [
       "<Figure size 1080x216 with 4 Axes>"
      ]
     },
     "metadata": {},
     "output_type": "display_data"
    },
    {
     "data": {
      "image/png": "[encoded data removed]",
      "text/plain": [
       "<Figure size 1080x216 with 4 Axes>"
      ]
     },
     "metadata": {},
     "output_type": "display_data"
    },
    {
     "data": {
      "image/png": "[encoded data removed]",
      "text/plain": [
       "<Figure size 1080x216 with 4 Axes>"
      ]
     },
     "metadata": {},
     "output_type": "display_data"
    },
    {
     "data": {
      "image/png": "[encoded data removed]",
      "text/plain": [
       "<Figure size 1080x216 with 4 Axes>"
      ]
     },
     "metadata": {},
     "output_type": "display_data"
    },
    {
     "data": {
      "image/png": "[encoded data removed]",
      "text/plain": [
       "<Figure size 1080x216 with 4 Axes>"
      ]
     },
     "metadata": {},
     "output_type": "display_data"
    },
    {
     "data": {
      "image/png": "[encoded data removed]",
      "text/plain": [
       "<Figure size 1080x216 with 4 Axes>"
      ]
     },
     "metadata": {},
     "output_type": "display_data"
    }
   ],
   "source": [
    "%matplotlib inline\n",
    "\n",
    "agent_id = 0\n",
    "\n",
    "def show_sample_batch(sample_batch, agent_id, path, num_batch):\n",
    "    \"\"\"visualize the trajectory for a batch of samples with a random agent\"\"\"\n",
    "    inp, out = sample_batch\n",
    "    batch_sz = inp.size(0)\n",
    "    agent_sz = inp.size(1)\n",
    "    \n",
    "    fig, axs = plt.subplots(1, batch_sz, figsize=(15, 3), facecolor='w', edgecolor='k')\n",
    "    fig.subplots_adjust(hspace = .5, wspace=.001)\n",
    "    axs = axs.ravel()   \n",
    "    for i in range(batch_sz):\n",
    "        axs[i].xaxis.set_ticks([])\n",
    "        axs[i].yaxis.set_ticks([])\n",
    "        \n",
    "        # first two feature dimensions are (x,y) positions\n",
    "        axs[i].scatter(inp[i, agent_id,:,0], inp[i, agent_id,:,1])\n",
    "        axs[i].scatter(out[i, agent_id,:,0], out[i, agent_id,:,1])\n",
    "    fn=os.path.join(path, \"scatter-plot%i.pdf\"%num_batch)\n",
    "    fig.savefig(fn)\n",
    "    \n",
    "save_path='/home/apfriend/ucsd/CURRENT/cse151b/kaggle/latex/figures'\n",
    "for i_batch, sample_batch in enumerate(train_loader):\n",
    "    inp, out = sample_batch\n",
    "    \"\"\"TODO:\n",
    "      Deep learning model\n",
    "      training routine\n",
    "    \"\"\"\n",
    "    show_sample_batch(sample_batch, agent_id, save_path, i_batch)\n",
    "    if i_batch==9:\n",
    "        break"
   ]
  },
  {
   "cell_type": "code",
   "execution_count": 62,
   "id": "b3aaa27f",
   "metadata": {},
   "outputs": [
    {
     "data": {
      "application/vnd.jupyter.widget-view+json": {
       "model_id": "d5721a4574c347d682a82c2b5ccc3f86",
       "version_major": 2,
       "version_minor": 0
      },
      "text/plain": [
       "Canvas(toolbar=Toolbar(toolitems=[('Home', 'Reset original view', 'home', 'home'), ('Back', 'Back to previous …"
      ]
     },
     "metadata": {},
     "output_type": "display_data"
    },
    {
     "name": "stdout",
     "output_type": "stream",
     "text": [
      "(2, 60)\n"
     ]
    },
    {
     "ename": "TypeError",
     "evalue": "list indices must be integers or slices, not tuple",
     "output_type": "error",
     "traceback": [
      "\u001b[0;31m---------------------------------------------------------------------------\u001b[0m",
      "\u001b[0;31mTypeError\u001b[0m                                 Traceback (most recent call last)",
      "\u001b[0;32m<ipython-input-62-cfb80af5a47b>\u001b[0m in \u001b[0;36m<module>\u001b[0;34m\u001b[0m\n\u001b[1;32m     42\u001b[0m       \u001b[0mtraining\u001b[0m \u001b[0mroutine\u001b[0m\u001b[0;34m\u001b[0m\u001b[0;34m\u001b[0m\u001b[0m\n\u001b[1;32m     43\u001b[0m     \"\"\"\n\u001b[0;32m---> 44\u001b[0;31m     \u001b[0mshow_sample_batch2\u001b[0m\u001b[0;34m(\u001b[0m\u001b[0msample_batch\u001b[0m\u001b[0;34m,\u001b[0m \u001b[0magent_id\u001b[0m\u001b[0;34m)\u001b[0m\u001b[0;34m\u001b[0m\u001b[0;34m\u001b[0m\u001b[0m\n\u001b[0m\u001b[1;32m     45\u001b[0m     \u001b[0;32mif\u001b[0m \u001b[0mi_batch\u001b[0m\u001b[0;34m==\u001b[0m\u001b[0;36m9\u001b[0m\u001b[0;34m:\u001b[0m\u001b[0;34m\u001b[0m\u001b[0;34m\u001b[0m\u001b[0m\n\u001b[1;32m     46\u001b[0m         \u001b[0;32mbreak\u001b[0m\u001b[0;34m\u001b[0m\u001b[0;34m\u001b[0m\u001b[0m\n",
      "\u001b[0;32m<ipython-input-62-cfb80af5a47b>\u001b[0m in \u001b[0;36mshow_sample_batch2\u001b[0;34m(sample_batches, agent_id)\u001b[0m\n\u001b[1;32m     33\u001b[0m \u001b[0;34m\u001b[0m\u001b[0m\n\u001b[1;32m     34\u001b[0m             \u001b[0;31m# first two feature dimensions are (x,y) positions\u001b[0m\u001b[0;34m\u001b[0m\u001b[0;34m\u001b[0m\u001b[0;34m\u001b[0m\u001b[0m\n\u001b[0;32m---> 35\u001b[0;31m             \u001b[0maxs\u001b[0m\u001b[0;34m[\u001b[0m\u001b[0mi\u001b[0m\u001b[0;34m,\u001b[0m\u001b[0mj\u001b[0m\u001b[0;34m]\u001b[0m\u001b[0;34m.\u001b[0m\u001b[0mscatter\u001b[0m\u001b[0;34m(\u001b[0m\u001b[0minp\u001b[0m\u001b[0;34m[\u001b[0m\u001b[0mi\u001b[0m\u001b[0;34m,\u001b[0m \u001b[0magent_id\u001b[0m\u001b[0;34m,\u001b[0m\u001b[0;34m:\u001b[0m\u001b[0;34m,\u001b[0m\u001b[0;36m0\u001b[0m\u001b[0;34m]\u001b[0m\u001b[0;34m,\u001b[0m \u001b[0minp\u001b[0m\u001b[0;34m[\u001b[0m\u001b[0mi\u001b[0m\u001b[0;34m,\u001b[0m \u001b[0magent_id\u001b[0m\u001b[0;34m,\u001b[0m\u001b[0;34m:\u001b[0m\u001b[0;34m,\u001b[0m\u001b[0;36m1\u001b[0m\u001b[0;34m]\u001b[0m\u001b[0;34m)\u001b[0m\u001b[0;34m\u001b[0m\u001b[0;34m\u001b[0m\u001b[0m\n\u001b[0m\u001b[1;32m     36\u001b[0m             \u001b[0maxs\u001b[0m\u001b[0;34m[\u001b[0m\u001b[0mi\u001b[0m\u001b[0;34m,\u001b[0m\u001b[0mj\u001b[0m\u001b[0;34m]\u001b[0m\u001b[0;34m.\u001b[0m\u001b[0mscatter\u001b[0m\u001b[0;34m(\u001b[0m\u001b[0mout\u001b[0m\u001b[0;34m[\u001b[0m\u001b[0mi\u001b[0m\u001b[0;34m,\u001b[0m \u001b[0magent_id\u001b[0m\u001b[0;34m,\u001b[0m\u001b[0;34m:\u001b[0m\u001b[0;34m,\u001b[0m\u001b[0;36m0\u001b[0m\u001b[0;34m]\u001b[0m\u001b[0;34m,\u001b[0m \u001b[0mout\u001b[0m\u001b[0;34m[\u001b[0m\u001b[0mi\u001b[0m\u001b[0;34m,\u001b[0m \u001b[0magent_id\u001b[0m\u001b[0;34m,\u001b[0m\u001b[0;34m:\u001b[0m\u001b[0;34m,\u001b[0m\u001b[0;36m1\u001b[0m\u001b[0;34m]\u001b[0m\u001b[0;34m)\u001b[0m\u001b[0;34m\u001b[0m\u001b[0;34m\u001b[0m\u001b[0m\n\u001b[1;32m     37\u001b[0m \u001b[0;34m\u001b[0m\u001b[0m\n",
      "\u001b[0;31mTypeError\u001b[0m: list indices must be integers or slices, not tuple"
     ]
    }
   ],
   "source": [
    "%matplotlib widget\n",
    "\n",
    "agent_id = 0\n",
    "\n",
    "def show_sample_batch2(sample_batches, agent_id):\n",
    "    \"\"\"visualize the trajectory for a batch of samples with a random agent\"\"\"\n",
    "    inp=[sample_batch[0] for sample_batch in sample_batches]\n",
    "    out=[sample_batch[1] for sample_batch in sample_batches]\n",
    "    \n",
    "    batch_sz = inp[0].size(0)\n",
    "    agent_sz = inp[0].size(1)\n",
    "    \n",
    "    num_batches=len(sample_batches)\n",
    "    \n",
    "    fig_size_x=15\n",
    "    \n",
    "    fig, axs = plt.subplots(\n",
    "        num_batches, \n",
    "        batch_sz, \n",
    "        figsize=(fig_size_x, num_batches*fig_size_x), \n",
    "        facecolor='w', \n",
    "        edgecolor='k'\n",
    "    )\n",
    "    \n",
    "    fig.subplots_adjust(hspace = .5, wspace=.001)\n",
    "    \n",
    "    print(axs.shape)\n",
    "#     axs = axs.ravel()\n",
    "    for j in range(len(axs)):\n",
    "        for i in range(batch_sz):\n",
    "            axs[i,j].xaxis.set_ticks([])\n",
    "            axs[i,j].yaxis.set_ticks([])\n",
    "\n",
    "            # first two feature dimensions are (x,y) positions\n",
    "            axs[i,j].scatter(inp[i, agent_id,:,0], inp[i, agent_id,:,1])\n",
    "            axs[i,j].scatter(out[i, agent_id,:,0], out[i, agent_id,:,1])\n",
    "            \n",
    "for i_batch, sample_batch in enumerate(train_loader):\n",
    "    inp, out = sample_batch\n",
    "    \"\"\"TODO:\n",
    "      Deep learning model\n",
    "      training routine\n",
    "    \"\"\"\n",
    "    show_sample_batch2(sample_batch, agent_id)\n",
    "    if i_batch==9:\n",
    "        break"
   ]
  },
  {
   "cell_type": "code",
   "execution_count": null,
   "id": "469e0dee",
   "metadata": {
    "tags": []
   },
   "outputs": [],
   "source": [
    "train_src=r'data/new_train/new_train'\n",
    "test_src=r'data/new_val_in/new_val_in'\n",
    "fn=r'0.pkl'\n",
    "device='cuda'\n",
    "\n",
    "data0=pd.read_pickle(os.path.join(src,fn))\n",
    "# df0=pd.DataFrame(data0)\n",
    "data0"
   ]
  },
  {
   "cell_type": "code",
   "execution_count": null,
   "id": "f7d9da2e",
   "metadata": {},
   "outputs": [],
   "source": [
    "data0.keys()"
   ]
  },
  {
   "cell_type": "code",
   "execution_count": null,
   "id": "bbf7750a",
   "metadata": {
    "tags": []
   },
   "outputs": [],
   "source": [
    "data_keys=['lane',\n",
    "           'lane_norm',\n",
    "           'car_mask',\n",
    "           'p_in',\n",
    "           'v_in',\n",
    "           'p_out',\n",
    "           'v_out',\n",
    "           'track_id']\n",
    "\n",
    "data00=dict(zip(data_keys, [data0[key].shape for key in data_keys]))\n",
    "#df=pd.DataFrame.from_records(data00)\n",
    "data00"
   ]
  },
  {
   "cell_type": "code",
   "execution_count": null,
   "id": "fede95bc",
   "metadata": {
    "tags": []
   },
   "outputs": [],
   "source": [
    "data0['lane']"
   ]
  },
  {
   "cell_type": "code",
   "execution_count": null,
   "id": "e4a36f5c",
   "metadata": {},
   "outputs": [],
   "source": [
    "lane_df=pd.DataFrame({\n",
    "    'lane':data0['lane'],\n",
    "    'lane_norm':data0['lane_norm']\n",
    "})\n",
    "lane_df"
   ]
  },
  {
   "cell_type": "code",
   "execution_count": null,
   "id": "d176df2f",
   "metadata": {
    "tags": []
   },
   "outputs": [],
   "source": [
    "pd.DataFrame(data0)"
   ]
  },
  {
   "cell_type": "code",
   "execution_count": null,
   "id": "660bd369",
   "metadata": {},
   "outputs": [],
   "source": [
    "class ArgoverseDataset(Dataset):\n",
    "    \"\"\"Dataset class for Argoverse\"\"\"\n",
    "    def __init__(self, data_path: str, transform=None):\n",
    "        super(ArgoverseDataset, self).__init__()\n",
    "        self.data_path = data_path\n",
    "        self.transform = transform\n",
    "\n",
    "        self.pkl_list = glob(os.path.join(self.data_path, '*'))\n",
    "        self.pkl_list.sort()\n",
    "        \n",
    "    def __len__(self):\n",
    "        return len(self.pkl_list)\n",
    "\n",
    "    def __getitem__(self, idx):\n",
    "\n",
    "        pkl_path = self.pkl_list[idx]\n",
    "        with open(pkl_path, 'rb') as f:\n",
    "            data = pickle.load(f)\n",
    "            \n",
    "        if self.transform:\n",
    "            data = self.transform(data)\n",
    "                \n",
    "        return data\n",
    "#BATCH LOADER THAT GIVES [4, 1, 19, 2] TENSOR\n",
    "batch_sz = 4\n",
    "\n",
    "def my_collate(batch):\n",
    "    \"\"\" collate lists of samples into batches, create [ batch_sz x seq_len x feature] \"\"\"\n",
    "    inp = [[scene['p_in'][np.where(scene['track_id'][:,0,0] == scene['agent_id'])[0][0]]] for scene in batch]\n",
    "    out = [[scene['p_out'][np.where(scene['track_id'][:,0,0] == scene['agent_id'])[0][0]][0]] for scene in batch]\n",
    "    inp = torch.FloatTensor(inp)\n",
    "    out = torch.FloatTensor(out)\n",
    "    return [inp, out]\n",
    "\n",
    "\n",
    "def my_collate_test(batch):\n",
    "    \"\"\" collate lists of samples into batches, create [ batch_sz x seq_len x feature] \"\"\"\n",
    "    inp = [[scene['p_in'][np.where(scene['track_id'][:,0,0] == scene['agent_id'])[0][0]]] for scene in batch]\n",
    "    out = [[scene['p_in'][np.where(scene['track_id'][:,0,0] == scene['agent_id'])[0][0]]] for scene in batch]\n",
    "    inp = torch.FloatTensor(inp)\n",
    "    out = torch.FloatTensor(out)\n",
    "    return [inp, out]"
   ]
  },
  {
   "cell_type": "code",
   "execution_count": null,
   "id": "ff6a1576",
   "metadata": {},
   "outputs": [],
   "source": [
    "#need differnt collate function for validation set since it has no `p_out` or `v_out`\n",
    "\n",
    "# val_loader = DataLoader(\n",
    "#     val_dataset,\n",
    "#     batch_size=batch_sz, \n",
    "#     shuffle = False, \n",
    "#     collate_fn=my_collate, \n",
    "#     num_workers=0\n",
    "# )\n",
    "\n",
    "test_loader = DataLoader(\n",
    "    test_dataset,\n",
    "    batch_size=batch_sz, \n",
    "    shuffle = False, \n",
    "    collate_fn=my_collate_test, \n",
    "    num_workers=0\n",
    ")\n",
    "\n",
    "# intialize a dataset\n",
    "val_dataset = ArgoverseDataset(data_path=train_src)\n",
    "\n",
    "test_dataset = ArgoverseDataset(data_path=test_src)\n",
    "\n",
    "val_dataset, test_dataset, val_loader, test_loader"
   ]
  },
  {
   "cell_type": "code",
   "execution_count": null,
   "id": "d5fc0dcd",
   "metadata": {},
   "outputs": [],
   "source": []
  }
 ],
 "metadata": {
  "kernelspec": {
   "display_name": "Python 3",
   "language": "python",
   "name": "python3"
  },
  "language_info": {
   "codemirror_mode": {
    "name": "ipython",
    "version": 3
   },
   "file_extension": ".py",
   "mimetype": "text/x-python",
   "name": "python",
   "nbconvert_exporter": "python",
   "pygments_lexer": "ipython3",
   "version": "3.8.10"
  }
 },
 "nbformat": 4,
 "nbformat_minor": 5
}
