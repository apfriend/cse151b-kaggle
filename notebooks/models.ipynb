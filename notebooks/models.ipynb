{
 "cells": [
  {
   "cell_type": "markdown",
   "id": "2e6a7fb5-cb88-46b7-a65f-54bf999234f2",
   "metadata": {},
   "source": [
    "# Test Models"
   ]
  },
  {
   "cell_type": "code",
   "execution_count": 1,
   "id": "cd46d5c9-3629-4b6e-b3ee-75c7921448c6",
   "metadata": {},
   "outputs": [],
   "source": [
    "%load_ext autoreload\n",
    "%autoreload 2"
   ]
  },
  {
   "cell_type": "code",
   "execution_count": 2,
   "id": "1366d063-977d-482f-975d-464bb8958c6b",
   "metadata": {},
   "outputs": [],
   "source": [
    "%matplotlib widget\n",
    "\n",
    "import os\n",
    "import sys\n",
    "import pandas as pd\n",
    "import random\n",
    "import torch\n",
    "from torch.utils.data import Dataset, DataLoader\n",
    "import numpy as np\n",
    "import pickle\n",
    "from glob import glob\n",
    "import matplotlib.pyplot as plt\n",
    "import random\n",
    "import multiprocessing\n",
    "from tqdm import tqdm\n",
    "import seaborn as sns\n",
    "from IPython.display import display\n",
    "\n",
    "if os.path.dirname(os.getcwd()) not in sys.path:\n",
    "    sys.path.append(os.path.dirname(os.getcwd()))\n",
    "import src.util_functions as utils\n",
    "import src.models.lstm as lstm\n",
    "from src.models import linear\n",
    "from src.ArgoverseDataset import ArgoverseDataset"
   ]
  },
  {
   "cell_type": "markdown",
   "id": "0dd58a34-80ac-4793-b347-2832eb0087eb",
   "metadata": {},
   "source": [
    "# Setting Parameters for all models\n",
    "\n",
    "Parameters like data paths, number of workders, and device are to be used for all models"
   ]
  },
  {
   "cell_type": "code",
   "execution_count": 3,
   "id": "6c4ce291-dd31-4d7b-86cc-1df70951ec7a",
   "metadata": {},
   "outputs": [],
   "source": [
    "device='cuda'\n",
    "train_path='/home/apfriend/ucsd/CURRENT/cse151b/kaggle/data/new_train/new_train'\n",
    "val_path='/home/apfriend/ucsd/CURRENT/cse151b/kaggle/data/new_val_in/new_val_in'\n",
    "out_path='/home/apfriend/ucsd/CURRENT/cse151b/kaggle/data/save-data'\n",
    "fig_path='/home/apfriend/ucsd/CURRENT/cse151b/kaggle/latex/figures/train-loss'\n",
    "os.makedirs(out_path, exist_ok=True)\n",
    "os.makedirs(fig_path, exist_ok=True)\n",
    "\n",
    "num_workers=multiprocessing.cpu_count() #4"
   ]
  },
  {
   "cell_type": "markdown",
   "id": "abd119fe-5664-400e-b4ab-50a93a99ad63",
   "metadata": {},
   "source": [
    "### Set up datasets"
   ]
  },
  {
   "cell_type": "code",
   "execution_count": 4,
   "id": "8227cb23-87e4-42c5-a58b-b42e34cac116",
   "metadata": {},
   "outputs": [],
   "source": [
    "batch_size=64\n",
    "\n",
    "train_dataset=ArgoverseDataset(data_path=train_path)\n",
    "val_dataset=ArgoverseDataset(data_path=val_path)\n",
    "\n",
    "train_loader=DataLoader(\n",
    "    dataset=train_dataset,\n",
    "    batch_size=batch_size,\n",
    "    shuffle=True,\n",
    "    collate_fn=utils.collate_train,\n",
    "    num_workers=num_workers\n",
    ")\n",
    "\n",
    "val_loader=DataLoader(\n",
    "    dataset=val_dataset,\n",
    "    batch_size=batch_size, \n",
    "    shuffle = False, \n",
    "    collate_fn=utils.collate_val, \n",
    "    num_workers=num_workers\n",
    ")"
   ]
  },
  {
   "cell_type": "markdown",
   "id": "605d1777-5f00-4a3b-bd8d-2ab88c2c5d5e",
   "metadata": {},
   "source": [
    "## Linear Models\n",
    "\n",
    "### Simple Linear Model\n",
    "\n",
    "First try a simple linear regression model with 1 epoch and an `ema_weight` of 0.5 as a baseline."
   ]
  },
  {
   "cell_type": "code",
   "execution_count": 5,
   "id": "89eea58b-c3c3-49fc-8e77-4996614fd7ae",
   "metadata": {},
   "outputs": [
    {
     "name": "stderr",
     "output_type": "stream",
     "text": [
      "Epoch 1/1: 100%|██████████| 3218/3218 [03:23<00:00, 15.83it/s]\n"
     ]
    },
    {
     "data": {
      "text/html": [
       "<div>\n",
       "<style scoped>\n",
       "    .dataframe tbody tr th:only-of-type {\n",
       "        vertical-align: middle;\n",
       "    }\n",
       "\n",
       "    .dataframe tbody tr th {\n",
       "        vertical-align: top;\n",
       "    }\n",
       "\n",
       "    .dataframe thead th {\n",
       "        text-align: right;\n",
       "    }\n",
       "</style>\n",
       "<table border=\"1\" class=\"dataframe\">\n",
       "  <thead>\n",
       "    <tr style=\"text-align: right;\">\n",
       "      <th></th>\n",
       "      <th>epoch</th>\n",
       "      <th>iteration</th>\n",
       "      <th>loss_ema</th>\n",
       "      <th>loss</th>\n",
       "    </tr>\n",
       "  </thead>\n",
       "  <tbody>\n",
       "    <tr>\n",
       "      <th>0</th>\n",
       "      <td>0.0</td>\n",
       "      <td>0.0</td>\n",
       "      <td>728.715454</td>\n",
       "      <td>728.715454</td>\n",
       "    </tr>\n",
       "    <tr>\n",
       "      <th>1</th>\n",
       "      <td>0.0</td>\n",
       "      <td>1.0</td>\n",
       "      <td>676.213684</td>\n",
       "      <td>623.711914</td>\n",
       "    </tr>\n",
       "    <tr>\n",
       "      <th>2</th>\n",
       "      <td>0.0</td>\n",
       "      <td>2.0</td>\n",
       "      <td>568.962463</td>\n",
       "      <td>461.711243</td>\n",
       "    </tr>\n",
       "    <tr>\n",
       "      <th>3</th>\n",
       "      <td>0.0</td>\n",
       "      <td>3.0</td>\n",
       "      <td>481.226929</td>\n",
       "      <td>393.491394</td>\n",
       "    </tr>\n",
       "    <tr>\n",
       "      <th>4</th>\n",
       "      <td>0.0</td>\n",
       "      <td>4.0</td>\n",
       "      <td>443.326355</td>\n",
       "      <td>405.425812</td>\n",
       "    </tr>\n",
       "    <tr>\n",
       "      <th>...</th>\n",
       "      <td>...</td>\n",
       "      <td>...</td>\n",
       "      <td>...</td>\n",
       "      <td>...</td>\n",
       "    </tr>\n",
       "    <tr>\n",
       "      <th>3213</th>\n",
       "      <td>0.0</td>\n",
       "      <td>3213.0</td>\n",
       "      <td>58.752567</td>\n",
       "      <td>58.997963</td>\n",
       "    </tr>\n",
       "    <tr>\n",
       "      <th>3214</th>\n",
       "      <td>0.0</td>\n",
       "      <td>3214.0</td>\n",
       "      <td>63.253456</td>\n",
       "      <td>67.754341</td>\n",
       "    </tr>\n",
       "    <tr>\n",
       "      <th>3215</th>\n",
       "      <td>0.0</td>\n",
       "      <td>3215.0</td>\n",
       "      <td>64.388763</td>\n",
       "      <td>65.524078</td>\n",
       "    </tr>\n",
       "    <tr>\n",
       "      <th>3216</th>\n",
       "      <td>0.0</td>\n",
       "      <td>3216.0</td>\n",
       "      <td>54.105129</td>\n",
       "      <td>43.821495</td>\n",
       "    </tr>\n",
       "    <tr>\n",
       "      <th>3217</th>\n",
       "      <td>0.0</td>\n",
       "      <td>3217.0</td>\n",
       "      <td>55.674286</td>\n",
       "      <td>57.243446</td>\n",
       "    </tr>\n",
       "  </tbody>\n",
       "</table>\n",
       "<p>3218 rows × 4 columns</p>\n",
       "</div>"
      ],
      "text/plain": [
       "      epoch  iteration    loss_ema        loss\n",
       "0       0.0        0.0  728.715454  728.715454\n",
       "1       0.0        1.0  676.213684  623.711914\n",
       "2       0.0        2.0  568.962463  461.711243\n",
       "3       0.0        3.0  481.226929  393.491394\n",
       "4       0.0        4.0  443.326355  405.425812\n",
       "...     ...        ...         ...         ...\n",
       "3213    0.0     3213.0   58.752567   58.997963\n",
       "3214    0.0     3214.0   63.253456   67.754341\n",
       "3215    0.0     3215.0   64.388763   65.524078\n",
       "3216    0.0     3216.0   54.105129   43.821495\n",
       "3217    0.0     3217.0   55.674286   57.243446\n",
       "\n",
       "[3218 rows x 4 columns]"
      ]
     },
     "metadata": {},
     "output_type": "display_data"
    },
    {
     "data": {
      "text/plain": [
       "simple_model(\n",
       "  (linear): Linear(in_features=4560, out_features=7200, bias=True)\n",
       ")"
      ]
     },
     "execution_count": 5,
     "metadata": {},
     "output_type": "execute_result"
    }
   ],
   "source": [
    "num_epochs=1\n",
    "ema_weight=0.5\n",
    "\n",
    "save_filename=os.path.join(out_path, \"2021.05.23-simple-linear-ema050-epoch01.csv\")\n",
    "\n",
    "linear.train(\n",
    "    model=linear.simple_model,\n",
    "    data_loader=train_loader,\n",
    "    n_epochs=num_epochs,\n",
    "    filename=save_filename,\n",
    "    ema_weight=ema_weight,\n",
    "    device=device,\n",
    "    verbose=False\n",
    ")"
   ]
  },
  {
   "cell_type": "markdown",
   "id": "64f10ba1-1ee2-4c22-82e8-ded561fc3a13",
   "metadata": {},
   "source": [
    "### Loss of Baseline Model"
   ]
  },
  {
   "cell_type": "code",
   "execution_count": 6,
   "id": "964ece69-d657-482d-a1dc-93d5e32ee926",
   "metadata": {},
   "outputs": [
    {
     "data": {
      "image/png": "[encoded data removed]",
      "text/plain": [
       "<Figure size 360x360 with 1 Axes>"
      ]
     },
     "metadata": {
      "needs_background": "light"
     },
     "output_type": "display_data"
    }
   ],
   "source": [
    "num_iter=50\n",
    "\n",
    "save_filename=os.path.join(out_path, \"2021.05.23-simple-linear-ema050-epoch01.csv\")\n",
    "loss_df1=pd.read_csv(save_filename)\n",
    "avg_loss1=utils.get_avg_loss(loss_df1,num_iter)\n",
    "\n",
    "sns.relplot(\n",
    "    data=avg_loss1,\n",
    "    x=\"iteration\", \n",
    "    y=\"loss_ema\"\n",
    ");"
   ]
  },
  {
   "cell_type": "code",
   "execution_count": 7,
   "id": "1ed20819-69c1-4bb2-a863-385288199b34",
   "metadata": {},
   "outputs": [
    {
     "name": "stderr",
     "output_type": "stream",
     "text": [
      "/media/apfriend/shared/ucsd/classes/cse151b/kaggle/src/util_functions.py:79: UserWarning: Matplotlib is currently using module://ipykernel.pylab.backend_inline, which is a non-GUI backend, so cannot show the figure.\n",
      "  fig.show()\n"
     ]
    },
    {
     "data": {
      "image/png": "[encoded data removed]",
      "text/plain": [
       "<Figure size 720x360 with 2 Axes>"
      ]
     },
     "metadata": {},
     "output_type": "display_data"
    }
   ],
   "source": [
    "save_path=os.path.join(fig_path, \"2021.05.23-simple-linear-ema050-epoch01.pdf\")\n",
    "\n",
    "utils.plot_loss(avg_loss1, save_path)"
   ]
  },
  {
   "cell_type": "markdown",
   "id": "e5521f42-daf8-442a-87fe-52876b0e57c4",
   "metadata": {},
   "source": [
    "It appears as though the loss levels out at about 250 iterations through the minibatches."
   ]
  },
  {
   "cell_type": "markdown",
   "id": "9d5d6fe3-8ff5-4b32-a5ab-e9a0f23fd84a",
   "metadata": {},
   "source": [
    "# Trying a larger batch size"
   ]
  },
  {
   "cell_type": "code",
   "execution_count": 4,
   "id": "d7055b5a-9f19-4f01-9543-ca0dfaa4ed6b",
   "metadata": {},
   "outputs": [],
   "source": [
    "batch_size=128\n",
    "\n",
    "train_dataset=ArgoverseDataset(data_path=train_path)\n",
    "val_dataset=ArgoverseDataset(data_path=val_path)\n",
    "\n",
    "train_loader=DataLoader(\n",
    "    dataset=train_dataset,\n",
    "    batch_size=batch_size,\n",
    "    shuffle=True,\n",
    "    collate_fn=utils.collate_train,\n",
    "    num_workers=num_workers\n",
    ")\n",
    "\n",
    "val_loader=DataLoader(\n",
    "    dataset=val_dataset,\n",
    "    batch_size=batch_size, \n",
    "    shuffle = False, \n",
    "    collate_fn=utils.collate_val, \n",
    "    num_workers=num_workers\n",
    ")"
   ]
  },
  {
   "cell_type": "code",
   "execution_count": 10,
   "id": "fb783a23-a8cb-4ae6-a4b8-269b2d8e4b04",
   "metadata": {
    "tags": []
   },
   "outputs": [
    {
     "name": "stderr",
     "output_type": "stream",
     "text": [
      "Epoch 1/1: 100%|██████████| 1609/1609 [03:04<00:00,  8.70it/s]\n"
     ]
    },
    {
     "data": {
      "text/html": [
       "<div>\n",
       "<style scoped>\n",
       "    .dataframe tbody tr th:only-of-type {\n",
       "        vertical-align: middle;\n",
       "    }\n",
       "\n",
       "    .dataframe tbody tr th {\n",
       "        vertical-align: top;\n",
       "    }\n",
       "\n",
       "    .dataframe thead th {\n",
       "        text-align: right;\n",
       "    }\n",
       "</style>\n",
       "<table border=\"1\" class=\"dataframe\">\n",
       "  <thead>\n",
       "    <tr style=\"text-align: right;\">\n",
       "      <th></th>\n",
       "      <th>epoch</th>\n",
       "      <th>iteration</th>\n",
       "      <th>loss_ema</th>\n",
       "      <th>loss</th>\n",
       "    </tr>\n",
       "  </thead>\n",
       "  <tbody>\n",
       "    <tr>\n",
       "      <th>0</th>\n",
       "      <td>0.0</td>\n",
       "      <td>0.0</td>\n",
       "      <td>662.466370</td>\n",
       "      <td>662.466370</td>\n",
       "    </tr>\n",
       "    <tr>\n",
       "      <th>1</th>\n",
       "      <td>0.0</td>\n",
       "      <td>1.0</td>\n",
       "      <td>625.486206</td>\n",
       "      <td>588.506042</td>\n",
       "    </tr>\n",
       "    <tr>\n",
       "      <th>2</th>\n",
       "      <td>0.0</td>\n",
       "      <td>2.0</td>\n",
       "      <td>542.421692</td>\n",
       "      <td>459.357178</td>\n",
       "    </tr>\n",
       "    <tr>\n",
       "      <th>3</th>\n",
       "      <td>0.0</td>\n",
       "      <td>3.0</td>\n",
       "      <td>498.511444</td>\n",
       "      <td>454.601196</td>\n",
       "    </tr>\n",
       "    <tr>\n",
       "      <th>4</th>\n",
       "      <td>0.0</td>\n",
       "      <td>4.0</td>\n",
       "      <td>481.794434</td>\n",
       "      <td>465.077423</td>\n",
       "    </tr>\n",
       "    <tr>\n",
       "      <th>...</th>\n",
       "      <td>...</td>\n",
       "      <td>...</td>\n",
       "      <td>...</td>\n",
       "      <td>...</td>\n",
       "    </tr>\n",
       "    <tr>\n",
       "      <th>1604</th>\n",
       "      <td>0.0</td>\n",
       "      <td>1604.0</td>\n",
       "      <td>61.164967</td>\n",
       "      <td>55.203773</td>\n",
       "    </tr>\n",
       "    <tr>\n",
       "      <th>1605</th>\n",
       "      <td>0.0</td>\n",
       "      <td>1605.0</td>\n",
       "      <td>54.370995</td>\n",
       "      <td>47.577026</td>\n",
       "    </tr>\n",
       "    <tr>\n",
       "      <th>1606</th>\n",
       "      <td>0.0</td>\n",
       "      <td>1606.0</td>\n",
       "      <td>50.519707</td>\n",
       "      <td>46.668423</td>\n",
       "    </tr>\n",
       "    <tr>\n",
       "      <th>1607</th>\n",
       "      <td>0.0</td>\n",
       "      <td>1607.0</td>\n",
       "      <td>47.481438</td>\n",
       "      <td>44.443169</td>\n",
       "    </tr>\n",
       "    <tr>\n",
       "      <th>1608</th>\n",
       "      <td>0.0</td>\n",
       "      <td>1608.0</td>\n",
       "      <td>44.062050</td>\n",
       "      <td>40.642658</td>\n",
       "    </tr>\n",
       "  </tbody>\n",
       "</table>\n",
       "<p>1609 rows × 4 columns</p>\n",
       "</div>"
      ],
      "text/plain": [
       "      epoch  iteration    loss_ema        loss\n",
       "0       0.0        0.0  662.466370  662.466370\n",
       "1       0.0        1.0  625.486206  588.506042\n",
       "2       0.0        2.0  542.421692  459.357178\n",
       "3       0.0        3.0  498.511444  454.601196\n",
       "4       0.0        4.0  481.794434  465.077423\n",
       "...     ...        ...         ...         ...\n",
       "1604    0.0     1604.0   61.164967   55.203773\n",
       "1605    0.0     1605.0   54.370995   47.577026\n",
       "1606    0.0     1606.0   50.519707   46.668423\n",
       "1607    0.0     1607.0   47.481438   44.443169\n",
       "1608    0.0     1608.0   44.062050   40.642658\n",
       "\n",
       "[1609 rows x 4 columns]"
      ]
     },
     "metadata": {},
     "output_type": "display_data"
    }
   ],
   "source": [
    "num_epochs=1\n",
    "ema_weight=0.5\n",
    "\n",
    "save_filename=os.path.join(out_path, \"2021.05.23-simple-linear-ema050-epoch01-batchsz128.csv\")\n",
    "\n",
    "lm2=linear.train(\n",
    "    model=linear.simple_model,\n",
    "    data_loader=train_loader,\n",
    "    n_epochs=num_epochs,\n",
    "    filename=save_filename,\n",
    "    ema_weight=ema_weight,\n",
    "    device=device,\n",
    "    verbose=False\n",
    ")"
   ]
  },
  {
   "cell_type": "code",
   "execution_count": 11,
   "id": "5421f54d-1080-4714-a4d6-2776defa0ab8",
   "metadata": {},
   "outputs": [],
   "source": [
    "loss_df2=pd.read_csv(os.path.join(out_path, \"2021.05.23-simple-linear-ema050-epoch01-batchsz128.csv\"))"
   ]
  },
  {
   "cell_type": "code",
   "execution_count": 12,
   "id": "fef87307-9046-465c-b4f5-c9693fcc8f58",
   "metadata": {},
   "outputs": [
    {
     "data": {
      "image/png": "[encoded data removed]",
      "text/plain": [
       "<Figure size 360x360 with 1 Axes>"
      ]
     },
     "metadata": {
      "needs_background": "light"
     },
     "output_type": "display_data"
    }
   ],
   "source": [
    "num_iter=50\n",
    "\n",
    "avg_loss2=utils.get_avg_loss(loss_df2, num_iter)\n",
    "sns.relplot(\n",
    "    data=avg_loss2,\n",
    "    x=\"iteration\", \n",
    "    y=\"loss_ema\"\n",
    ");"
   ]
  },
  {
   "cell_type": "code",
   "execution_count": 13,
   "id": "038d04ba-f892-4c4d-921c-b87850991f48",
   "metadata": {},
   "outputs": [
    {
     "data": {
      "application/vnd.jupyter.widget-view+json": {
       "model_id": "de43b8dfecf44c5284d8a348325faee1",
       "version_major": 2,
       "version_minor": 0
      },
      "text/plain": [
       "Canvas(toolbar=Toolbar(toolitems=[('Home', 'Reset original view', 'home', 'home'), ('Back', 'Back to previous …"
      ]
     },
     "metadata": {},
     "output_type": "display_data"
    }
   ],
   "source": [
    "save_path=os.path.join(fig_path, \"2021.05.23-simple-linear-ema050-epoch01-batchsz128.pdf\")\n",
    "\n",
    "utils.plot_loss(avg_loss2)"
   ]
  },
  {
   "cell_type": "markdown",
   "id": "6208fd6b-1a92-4df2-822e-454f53622187",
   "metadata": {},
   "source": [
    "It would appear as though a larger batch size helped the model lower its loss more quickly\n",
    "\n",
    "## Next lets try adjusting ema_weight"
   ]
  },
  {
   "cell_type": "code",
   "execution_count": 14,
   "id": "565e7e9e-0d6e-4720-9b96-4b216d196f0c",
   "metadata": {},
   "outputs": [
    {
     "name": "stderr",
     "output_type": "stream",
     "text": [
      "Epoch 1/1: 100%|██████████| 1609/1609 [03:08<00:00,  8.54it/s]\n"
     ]
    },
    {
     "data": {
      "text/html": [
       "<div>\n",
       "<style scoped>\n",
       "    .dataframe tbody tr th:only-of-type {\n",
       "        vertical-align: middle;\n",
       "    }\n",
       "\n",
       "    .dataframe tbody tr th {\n",
       "        vertical-align: top;\n",
       "    }\n",
       "\n",
       "    .dataframe thead th {\n",
       "        text-align: right;\n",
       "    }\n",
       "</style>\n",
       "<table border=\"1\" class=\"dataframe\">\n",
       "  <thead>\n",
       "    <tr style=\"text-align: right;\">\n",
       "      <th></th>\n",
       "      <th>epoch</th>\n",
       "      <th>iteration</th>\n",
       "      <th>loss_ema</th>\n",
       "      <th>loss</th>\n",
       "    </tr>\n",
       "  </thead>\n",
       "  <tbody>\n",
       "    <tr>\n",
       "      <th>0</th>\n",
       "      <td>0.0</td>\n",
       "      <td>0.0</td>\n",
       "      <td>687.733582</td>\n",
       "      <td>687.733582</td>\n",
       "    </tr>\n",
       "    <tr>\n",
       "      <th>1</th>\n",
       "      <td>0.0</td>\n",
       "      <td>1.0</td>\n",
       "      <td>667.989746</td>\n",
       "      <td>608.758179</td>\n",
       "    </tr>\n",
       "    <tr>\n",
       "      <th>2</th>\n",
       "      <td>0.0</td>\n",
       "      <td>2.0</td>\n",
       "      <td>619.537292</td>\n",
       "      <td>474.180023</td>\n",
       "    </tr>\n",
       "    <tr>\n",
       "      <th>3</th>\n",
       "      <td>0.0</td>\n",
       "      <td>3.0</td>\n",
       "      <td>567.503418</td>\n",
       "      <td>411.401917</td>\n",
       "    </tr>\n",
       "    <tr>\n",
       "      <th>4</th>\n",
       "      <td>0.0</td>\n",
       "      <td>4.0</td>\n",
       "      <td>534.929810</td>\n",
       "      <td>437.208893</td>\n",
       "    </tr>\n",
       "    <tr>\n",
       "      <th>...</th>\n",
       "      <td>...</td>\n",
       "      <td>...</td>\n",
       "      <td>...</td>\n",
       "      <td>...</td>\n",
       "    </tr>\n",
       "    <tr>\n",
       "      <th>1604</th>\n",
       "      <td>0.0</td>\n",
       "      <td>1604.0</td>\n",
       "      <td>66.209267</td>\n",
       "      <td>62.209248</td>\n",
       "    </tr>\n",
       "    <tr>\n",
       "      <th>1605</th>\n",
       "      <td>0.0</td>\n",
       "      <td>1605.0</td>\n",
       "      <td>69.408798</td>\n",
       "      <td>79.007385</td>\n",
       "    </tr>\n",
       "    <tr>\n",
       "      <th>1606</th>\n",
       "      <td>0.0</td>\n",
       "      <td>1606.0</td>\n",
       "      <td>74.222908</td>\n",
       "      <td>88.665245</td>\n",
       "    </tr>\n",
       "    <tr>\n",
       "      <th>1607</th>\n",
       "      <td>0.0</td>\n",
       "      <td>1607.0</td>\n",
       "      <td>72.777252</td>\n",
       "      <td>68.440285</td>\n",
       "    </tr>\n",
       "    <tr>\n",
       "      <th>1608</th>\n",
       "      <td>0.0</td>\n",
       "      <td>1608.0</td>\n",
       "      <td>68.783142</td>\n",
       "      <td>56.800816</td>\n",
       "    </tr>\n",
       "  </tbody>\n",
       "</table>\n",
       "<p>1609 rows × 4 columns</p>\n",
       "</div>"
      ],
      "text/plain": [
       "      epoch  iteration    loss_ema        loss\n",
       "0       0.0        0.0  687.733582  687.733582\n",
       "1       0.0        1.0  667.989746  608.758179\n",
       "2       0.0        2.0  619.537292  474.180023\n",
       "3       0.0        3.0  567.503418  411.401917\n",
       "4       0.0        4.0  534.929810  437.208893\n",
       "...     ...        ...         ...         ...\n",
       "1604    0.0     1604.0   66.209267   62.209248\n",
       "1605    0.0     1605.0   69.408798   79.007385\n",
       "1606    0.0     1606.0   74.222908   88.665245\n",
       "1607    0.0     1607.0   72.777252   68.440285\n",
       "1608    0.0     1608.0   68.783142   56.800816\n",
       "\n",
       "[1609 rows x 4 columns]"
      ]
     },
     "metadata": {},
     "output_type": "display_data"
    }
   ],
   "source": [
    "num_epochs=1\n",
    "ema_weight=0.75\n",
    "\n",
    "save_filename=os.path.join(out_path, \"2021.05.23-simple-linear-ema075-epoch01-batchsz128.csv\")\n",
    "\n",
    "lm3=linear.train(\n",
    "    model=linear.simple_model,\n",
    "    data_loader=train_loader,\n",
    "    n_epochs=num_epochs,\n",
    "    filename=save_filename,\n",
    "    ema_weight=ema_weight,\n",
    "    device=device,\n",
    "    verbose=False\n",
    ")\n",
    "loss_df3=pd.read_csv(save_filename)"
   ]
  },
  {
   "cell_type": "code",
   "execution_count": 15,
   "id": "e8844d33-b941-4a86-a662-b177611a3206",
   "metadata": {},
   "outputs": [
    {
     "data": {
      "application/vnd.jupyter.widget-view+json": {
       "model_id": "a17cafc4c89c45ae8a4c39e185baa13e",
       "version_major": 2,
       "version_minor": 0
      },
      "text/plain": [
       "Canvas(toolbar=Toolbar(toolitems=[('Home', 'Reset original view', 'home', 'home'), ('Back', 'Back to previous …"
      ]
     },
     "metadata": {},
     "output_type": "display_data"
    }
   ],
   "source": [
    "%matplotlib widget\n",
    "\n",
    "save_path=os.path.join(fig_path, \"2021.05.23-simple-linear-ema075-epoch01-batchsz128.pdf\")\n",
    "num_iter=50\n",
    "\n",
    "avg_loss3=utils.get_avg_loss(loss_df3, num_iter)\n",
    "utils.plot_loss(avg_loss3, save_path)"
   ]
  },
  {
   "cell_type": "code",
   "execution_count": 16,
   "id": "28ef8cd7-3f64-4577-a80d-271051526061",
   "metadata": {},
   "outputs": [],
   "source": [
    "#save model\n",
    "save_path='/home/apfriend/ucsd/CURRENT/cse151b/kaggle/trained-models'\n",
    "lm3_name='lm3.pth'\n",
    "fn=os.path.join(save_path, lm3_name)\n",
    "torch.save(lm3.state_dict(), fn)"
   ]
  },
  {
   "cell_type": "markdown",
   "id": "76857531-e58c-4651-81a2-60a820390d9c",
   "metadata": {},
   "source": [
    "### Load model"
   ]
  },
  {
   "cell_type": "code",
   "execution_count": 324,
   "id": "85932100-687c-45bf-884c-cfb2201e002e",
   "metadata": {},
   "outputs": [
    {
     "name": "stdout",
     "output_type": "stream",
     "text": [
      "Help on function load_state_dict in module torch.nn.modules.module:\n",
      "\n",
      "load_state_dict(self, state_dict: 'OrderedDict[str, Tensor]', strict: bool = True)\n",
      "    Copies parameters and buffers from :attr:`state_dict` into\n",
      "    this module and its descendants. If :attr:`strict` is ``True``, then\n",
      "    the keys of :attr:`state_dict` must exactly match the keys returned\n",
      "    by this module's :meth:`~torch.nn.Module.state_dict` function.\n",
      "    \n",
      "    Args:\n",
      "        state_dict (dict): a dict containing parameters and\n",
      "            persistent buffers.\n",
      "        strict (bool, optional): whether to strictly enforce that the keys\n",
      "            in :attr:`state_dict` match the keys returned by this module's\n",
      "            :meth:`~torch.nn.Module.state_dict` function. Default: ``True``\n",
      "    \n",
      "    Returns:\n",
      "        ``NamedTuple`` with ``missing_keys`` and ``unexpected_keys`` fields:\n",
      "            * **missing_keys** is a list of str containing the missing keys\n",
      "            * **unexpected_keys** is a list of str containing the unexpected keys\n",
      "\n"
     ]
    }
   ],
   "source": [
    "help(lm3.load_state_dict)"
   ]
  },
  {
   "cell_type": "code",
   "execution_count": 327,
   "id": "ed13f2e4-76a7-4ff5-9d82-23abd5ca20e8",
   "metadata": {},
   "outputs": [
    {
     "data": {
      "text/plain": [
       "OrderedDict([('linear.weight',\n",
       "              tensor([[ 0.0353,  0.0107,  0.0691,  ..., -0.0131,  0.0109, -0.0143],\n",
       "                      [-0.0015,  0.0219, -0.0069,  ..., -0.0036, -0.0105, -0.0052],\n",
       "                      [ 0.0008, -0.0157,  0.0595,  ...,  0.0020, -0.0018, -0.0081],\n",
       "                      ...,\n",
       "                      [ 0.0061,  0.0087, -0.0025,  ..., -0.0087,  0.0033, -0.0083],\n",
       "                      [-0.0012,  0.0131,  0.0120,  ...,  0.0067, -0.0018, -0.0018],\n",
       "                      [ 0.0117, -0.0018, -0.0076,  ...,  0.0127, -0.0009, -0.0099]],\n",
       "                     device='cuda:0')),\n",
       "             ('linear.bias',\n",
       "              tensor([ 0.0216,  0.0116,  0.0094,  ..., -0.0010,  0.0120, -0.0137],\n",
       "                     device='cuda:0'))])"
      ]
     },
     "execution_count": 327,
     "metadata": {},
     "output_type": "execute_result"
    }
   ],
   "source": [
    "torch.load(lm3_path)"
   ]
  },
  {
   "cell_type": "code",
   "execution_count": 333,
   "id": "96fbe0bf-7f11-4f38-ac92-21eddf66b380",
   "metadata": {},
   "outputs": [
    {
     "data": {
      "text/plain": [
       "simple_model(\n",
       "  (linear): Linear(in_features=4560, out_features=7200, bias=True)\n",
       ")"
      ]
     },
     "execution_count": 333,
     "metadata": {},
     "output_type": "execute_result"
    }
   ],
   "source": [
    "lm3_path=os.path.join(save_path, \"lm3.pth\")\n",
    "# lm3_state_dict=torch.load(lm3_path)\n",
    "lm3=linear.simple_model(device)\n",
    "lm3.load_state_dict(torch.load(lm3_path))\n",
    "lm3.to(device)"
   ]
  },
  {
   "cell_type": "code",
   "execution_count": 334,
   "id": "10cc19b5-d2e5-42c9-bd6e-bbde67c623fe",
   "metadata": {
    "tags": []
   },
   "outputs": [
    {
     "name": "stderr",
     "output_type": "stream",
     "text": [
      "100%|██████████| 25/25 [00:02<00:00, 11.73it/s]\n"
     ]
    }
   ],
   "source": [
    "scene_idxs, out_data=utils.run_trained_model(\n",
    "    model=lm3,\n",
    "    dataset=val_dataset,\n",
    "    batch_size=128,\n",
    "    device=device\n",
    ")"
   ]
  },
  {
   "cell_type": "code",
   "execution_count": 337,
   "id": "37688445-e5d9-4c74-9cc1-da3c0a329572",
   "metadata": {},
   "outputs": [
    {
     "name": "stderr",
     "output_type": "stream",
     "text": [
      "100%|██████████| 25/25 [00:02<00:00, 11.89it/s]\n"
     ]
    },
    {
     "data": {
      "text/html": [
       "<div>\n",
       "<style scoped>\n",
       "    .dataframe tbody tr th:only-of-type {\n",
       "        vertical-align: middle;\n",
       "    }\n",
       "\n",
       "    .dataframe tbody tr th {\n",
       "        vertical-align: top;\n",
       "    }\n",
       "\n",
       "    .dataframe thead th {\n",
       "        text-align: right;\n",
       "    }\n",
       "</style>\n",
       "<table border=\"1\" class=\"dataframe\">\n",
       "  <thead>\n",
       "    <tr style=\"text-align: right;\">\n",
       "      <th></th>\n",
       "      <th>ID</th>\n",
       "      <th>v1</th>\n",
       "      <th>v2</th>\n",
       "      <th>v3</th>\n",
       "      <th>v4</th>\n",
       "      <th>v5</th>\n",
       "      <th>v6</th>\n",
       "      <th>v7</th>\n",
       "      <th>v8</th>\n",
       "      <th>v9</th>\n",
       "      <th>...</th>\n",
       "      <th>v51</th>\n",
       "      <th>v52</th>\n",
       "      <th>v53</th>\n",
       "      <th>v54</th>\n",
       "      <th>v55</th>\n",
       "      <th>v56</th>\n",
       "      <th>v57</th>\n",
       "      <th>v58</th>\n",
       "      <th>v59</th>\n",
       "      <th>v60</th>\n",
       "    </tr>\n",
       "  </thead>\n",
       "  <tbody>\n",
       "    <tr>\n",
       "      <th>0</th>\n",
       "      <td>10002</td>\n",
       "      <td>1722.683594</td>\n",
       "      <td>326.232697</td>\n",
       "      <td>1722.786865</td>\n",
       "      <td>337.753754</td>\n",
       "      <td>1734.137085</td>\n",
       "      <td>346.954590</td>\n",
       "      <td>1702.998169</td>\n",
       "      <td>347.886139</td>\n",
       "      <td>1739.039673</td>\n",
       "      <td>...</td>\n",
       "      <td>1726.064087</td>\n",
       "      <td>360.986664</td>\n",
       "      <td>1763.540039</td>\n",
       "      <td>366.504120</td>\n",
       "      <td>1738.249146</td>\n",
       "      <td>370.030212</td>\n",
       "      <td>1759.909058</td>\n",
       "      <td>349.761536</td>\n",
       "      <td>1742.953613</td>\n",
       "      <td>379.619263</td>\n",
       "    </tr>\n",
       "    <tr>\n",
       "      <th>1</th>\n",
       "      <td>10015</td>\n",
       "      <td>733.598450</td>\n",
       "      <td>1274.009033</td>\n",
       "      <td>690.256287</td>\n",
       "      <td>1235.183350</td>\n",
       "      <td>726.327393</td>\n",
       "      <td>1230.683228</td>\n",
       "      <td>737.839294</td>\n",
       "      <td>1213.237061</td>\n",
       "      <td>728.862061</td>\n",
       "      <td>...</td>\n",
       "      <td>724.621826</td>\n",
       "      <td>1222.023315</td>\n",
       "      <td>720.734070</td>\n",
       "      <td>1218.781616</td>\n",
       "      <td>760.155762</td>\n",
       "      <td>1211.066895</td>\n",
       "      <td>719.192810</td>\n",
       "      <td>1226.144043</td>\n",
       "      <td>724.991821</td>\n",
       "      <td>1207.510132</td>\n",
       "    </tr>\n",
       "    <tr>\n",
       "      <th>2</th>\n",
       "      <td>10019</td>\n",
       "      <td>575.424194</td>\n",
       "      <td>1251.069092</td>\n",
       "      <td>571.312500</td>\n",
       "      <td>1245.371704</td>\n",
       "      <td>605.294617</td>\n",
       "      <td>1230.286377</td>\n",
       "      <td>584.504822</td>\n",
       "      <td>1237.744507</td>\n",
       "      <td>574.583069</td>\n",
       "      <td>...</td>\n",
       "      <td>580.744019</td>\n",
       "      <td>1240.999268</td>\n",
       "      <td>593.565430</td>\n",
       "      <td>1226.737305</td>\n",
       "      <td>590.139954</td>\n",
       "      <td>1261.766235</td>\n",
       "      <td>575.736511</td>\n",
       "      <td>1255.562866</td>\n",
       "      <td>571.146973</td>\n",
       "      <td>1255.722412</td>\n",
       "    </tr>\n",
       "    <tr>\n",
       "      <th>3</th>\n",
       "      <td>10028</td>\n",
       "      <td>1699.449707</td>\n",
       "      <td>321.985504</td>\n",
       "      <td>1688.885376</td>\n",
       "      <td>298.228485</td>\n",
       "      <td>1685.443115</td>\n",
       "      <td>299.619446</td>\n",
       "      <td>1720.546387</td>\n",
       "      <td>304.189667</td>\n",
       "      <td>1710.106812</td>\n",
       "      <td>...</td>\n",
       "      <td>1662.923950</td>\n",
       "      <td>309.165070</td>\n",
       "      <td>1711.859863</td>\n",
       "      <td>316.625000</td>\n",
       "      <td>1721.195801</td>\n",
       "      <td>312.510193</td>\n",
       "      <td>1689.033691</td>\n",
       "      <td>326.636932</td>\n",
       "      <td>1716.564453</td>\n",
       "      <td>366.634521</td>\n",
       "    </tr>\n",
       "    <tr>\n",
       "      <th>4</th>\n",
       "      <td>1003</td>\n",
       "      <td>2093.113037</td>\n",
       "      <td>666.160339</td>\n",
       "      <td>2125.383545</td>\n",
       "      <td>676.679565</td>\n",
       "      <td>2107.488525</td>\n",
       "      <td>684.188965</td>\n",
       "      <td>2147.130859</td>\n",
       "      <td>683.643921</td>\n",
       "      <td>2122.042725</td>\n",
       "      <td>...</td>\n",
       "      <td>2077.792236</td>\n",
       "      <td>655.861511</td>\n",
       "      <td>2099.793213</td>\n",
       "      <td>633.579285</td>\n",
       "      <td>2085.367188</td>\n",
       "      <td>682.018188</td>\n",
       "      <td>2094.463623</td>\n",
       "      <td>661.763916</td>\n",
       "      <td>2057.687012</td>\n",
       "      <td>649.626831</td>\n",
       "    </tr>\n",
       "  </tbody>\n",
       "</table>\n",
       "<p>5 rows × 61 columns</p>\n",
       "</div>"
      ],
      "text/plain": [
       "      ID           v1           v2           v3           v4           v5  \\\n",
       "0  10002  1722.683594   326.232697  1722.786865   337.753754  1734.137085   \n",
       "1  10015   733.598450  1274.009033   690.256287  1235.183350   726.327393   \n",
       "2  10019   575.424194  1251.069092   571.312500  1245.371704   605.294617   \n",
       "3  10028  1699.449707   321.985504  1688.885376   298.228485  1685.443115   \n",
       "4   1003  2093.113037   666.160339  2125.383545   676.679565  2107.488525   \n",
       "\n",
       "            v6           v7           v8           v9  ...          v51  \\\n",
       "0   346.954590  1702.998169   347.886139  1739.039673  ...  1726.064087   \n",
       "1  1230.683228   737.839294  1213.237061   728.862061  ...   724.621826   \n",
       "2  1230.286377   584.504822  1237.744507   574.583069  ...   580.744019   \n",
       "3   299.619446  1720.546387   304.189667  1710.106812  ...  1662.923950   \n",
       "4   684.188965  2147.130859   683.643921  2122.042725  ...  2077.792236   \n",
       "\n",
       "           v52          v53          v54          v55          v56  \\\n",
       "0   360.986664  1763.540039   366.504120  1738.249146   370.030212   \n",
       "1  1222.023315   720.734070  1218.781616   760.155762  1211.066895   \n",
       "2  1240.999268   593.565430  1226.737305   590.139954  1261.766235   \n",
       "3   309.165070  1711.859863   316.625000  1721.195801   312.510193   \n",
       "4   655.861511  2099.793213   633.579285  2085.367188   682.018188   \n",
       "\n",
       "           v57          v58          v59          v60  \n",
       "0  1759.909058   349.761536  1742.953613   379.619263  \n",
       "1   719.192810  1226.144043   724.991821  1207.510132  \n",
       "2   575.736511  1255.562866   571.146973  1255.722412  \n",
       "3  1689.033691   326.636932  1716.564453   366.634521  \n",
       "4  2094.463623   661.763916  2057.687012   649.626831  \n",
       "\n",
       "[5 rows x 61 columns]"
      ]
     },
     "execution_count": 337,
     "metadata": {},
     "output_type": "execute_result"
    }
   ],
   "source": [
    "lm3_df=utils.get_trained_data(\n",
    "    model=lm3,\n",
    "    dataset=val_dataset,\n",
    "    batch_size=128,\n",
    "    device=device\n",
    ")\n",
    "lm3_df.head()"
   ]
  },
  {
   "cell_type": "code",
   "execution_count": 338,
   "id": "ad4fac3d-7b61-4a85-a78b-8d0d8aba27d0",
   "metadata": {},
   "outputs": [],
   "source": [
    "lm3_df.to_csv(\"submit.csv\", index=False)"
   ]
  },
  {
   "cell_type": "markdown",
   "id": "c81d0e7f-3ff4-4575-8ac0-7e486b25292e",
   "metadata": {},
   "source": [
    "## Lets try training for more epochs\n",
    "\n",
    "Will use conv"
   ]
  },
  {
   "cell_type": "code",
   "execution_count": 5,
   "id": "3545c9b9-4cc2-4b55-8cfe-2caab2ddb84e",
   "metadata": {
    "tags": []
   },
   "outputs": [
    {
     "name": "stderr",
     "output_type": "stream",
     "text": [
      "Epoch 1/10:  32%|███▏      | 508/1609 [00:58<02:06,  8.72it/s]\n"
     ]
    },
    {
     "ename": "KeyboardInterrupt",
     "evalue": "",
     "output_type": "error",
     "traceback": [
      "\u001b[0;31m---------------------------------------------------------------------------\u001b[0m",
      "\u001b[0;31mKeyboardInterrupt\u001b[0m                         Traceback (most recent call last)",
      "\u001b[0;32m<ipython-input-5-15c87bf20fd0>\u001b[0m in \u001b[0;36m<module>\u001b[0;34m\u001b[0m\n\u001b[1;32m      4\u001b[0m \u001b[0msave_filename\u001b[0m\u001b[0;34m=\u001b[0m\u001b[0mos\u001b[0m\u001b[0;34m.\u001b[0m\u001b[0mpath\u001b[0m\u001b[0;34m.\u001b[0m\u001b[0mjoin\u001b[0m\u001b[0;34m(\u001b[0m\u001b[0mout_path\u001b[0m\u001b[0;34m,\u001b[0m \u001b[0;34m\"2021.05.24-simple-linear-ema075-epoch10-batchsz128.csv\"\u001b[0m\u001b[0;34m)\u001b[0m\u001b[0;34m\u001b[0m\u001b[0;34m\u001b[0m\u001b[0m\n\u001b[1;32m      5\u001b[0m \u001b[0;34m\u001b[0m\u001b[0m\n\u001b[0;32m----> 6\u001b[0;31m lm4=linear.train(\n\u001b[0m\u001b[1;32m      7\u001b[0m     \u001b[0mmodel\u001b[0m\u001b[0;34m=\u001b[0m\u001b[0mlinear\u001b[0m\u001b[0;34m.\u001b[0m\u001b[0msimple_model\u001b[0m\u001b[0;34m,\u001b[0m\u001b[0;34m\u001b[0m\u001b[0;34m\u001b[0m\u001b[0m\n\u001b[1;32m      8\u001b[0m     \u001b[0mdata_loader\u001b[0m\u001b[0;34m=\u001b[0m\u001b[0mtrain_loader\u001b[0m\u001b[0;34m,\u001b[0m\u001b[0;34m\u001b[0m\u001b[0;34m\u001b[0m\u001b[0m\n",
      "\u001b[0;32m/media/apfriend/shared/ucsd/classes/cse151b/kaggle/src/models/linear.py\u001b[0m in \u001b[0;36mtrain\u001b[0;34m(model, data_loader, n_epochs, filename, ema_weight, device, verbose)\u001b[0m\n\u001b[1;32m    131\u001b[0m             \u001b[0moptimizer\u001b[0m\u001b[0;34m.\u001b[0m\u001b[0mstep\u001b[0m\u001b[0;34m(\u001b[0m\u001b[0;34m)\u001b[0m \u001b[0;31m#forward step\u001b[0m\u001b[0;34m\u001b[0m\u001b[0;34m\u001b[0m\u001b[0m\n\u001b[1;32m    132\u001b[0m \u001b[0;34m\u001b[0m\u001b[0m\n\u001b[0;32m--> 133\u001b[0;31m             \u001b[0;32mif\u001b[0m \u001b[0mloss_ema\u001b[0m\u001b[0;34m<\u001b[0m\u001b[0;36m0\u001b[0m\u001b[0;34m:\u001b[0m\u001b[0;34m\u001b[0m\u001b[0;34m\u001b[0m\u001b[0m\n\u001b[0m\u001b[1;32m    134\u001b[0m                 \u001b[0mloss_ema\u001b[0m\u001b[0;34m=\u001b[0m\u001b[0mloss\u001b[0m\u001b[0;34m\u001b[0m\u001b[0;34m\u001b[0m\u001b[0m\n\u001b[1;32m    135\u001b[0m             \u001b[0mloss_ema\u001b[0m\u001b[0;34m=\u001b[0m\u001b[0mloss_ema\u001b[0m\u001b[0;34m*\u001b[0m\u001b[0mema_weight\u001b[0m\u001b[0;34m+\u001b[0m\u001b[0mloss\u001b[0m\u001b[0;34m*\u001b[0m\u001b[0;34m(\u001b[0m\u001b[0;36m1\u001b[0m\u001b[0;34m-\u001b[0m\u001b[0mema_weight\u001b[0m\u001b[0;34m)\u001b[0m\u001b[0;34m\u001b[0m\u001b[0;34m\u001b[0m\u001b[0m\n",
      "\u001b[0;31mKeyboardInterrupt\u001b[0m: "
     ]
    }
   ],
   "source": [
    "num_epochs=10\n",
    "ema_weight=0.75\n",
    "\n",
    "save_filename=os.path.join(out_path, \"2021.05.24-simple-linear-ema075-epoch10-batchsz128.csv\")\n",
    "\n",
    "lm4=linear.train(\n",
    "    model=linear.simple_model,\n",
    "    data_loader=train_loader,\n",
    "    n_epochs=num_epochs,\n",
    "    filename=save_filename,\n",
    "    ema_weight=ema_weight,\n",
    "    device=device,\n",
    "    verbose=False\n",
    ")\n",
    "\n",
    "loss_df4=pd.read_csv(save_filename)\n",
    "\n",
    "# save_path=os.path.join(fig_path, \"2021.05.23-simple-linear-ema075-epoch01-batchsz128-2.pdf\")\n",
    "num_iter=50\n",
    "\n",
    "avg_loss4=utils.get_avg_loss(loss_df4, num_iter)\n",
    "utils.plot_loss(avg_loss4, save_path)\n",
    "\n",
    "lm4_df=utils.get_trained_data(\n",
    "    model=lm3,\n",
    "    dataset=val_dataset,\n",
    "    batch_size=128,\n",
    "    device=device\n",
    ")\n",
    "lm4_df.head()"
   ]
  },
  {
   "cell_type": "code",
   "execution_count": null,
   "id": "a46dd942-323b-418d-abea-3f7566943746",
   "metadata": {},
   "outputs": [],
   "source": [
    "lm4_df.to_csv(\"submit4.csv\", index=False)"
   ]
  },
  {
   "cell_type": "code",
   "execution_count": 11,
   "id": "0ad4fb29-7a6f-4aeb-8e7e-247316c21b93",
   "metadata": {
    "tags": []
   },
   "outputs": [
    {
     "data": {
      "application/vnd.jupyter.widget-view+json": {
       "model_id": "851a7b42ea4d4df9bc15c2a6b8202f98",
       "version_major": 2,
       "version_minor": 0
      },
      "text/plain": [
       "Canvas(toolbar=Toolbar(toolitems=[('Home', 'Reset original view', 'home', 'home'), ('Back', 'Back to previous …"
      ]
     },
     "metadata": {},
     "output_type": "display_data"
    }
   ],
   "source": [
    "%matplotlib widget\n",
    "\n"
   ]
  },
  {
   "cell_type": "markdown",
   "id": "7769142f-47e0-49b5-bbb7-f355f5347d5b",
   "metadata": {},
   "source": [
    "# Multi linear model"
   ]
  },
  {
   "cell_type": "code",
   "execution_count": 20,
   "id": "3abd6072-58cc-4a12-8588-48e5af3edeba",
   "metadata": {},
   "outputs": [
    {
     "name": "stderr",
     "output_type": "stream",
     "text": [
      "Epoch 1/1: 100%|██████████| 1609/1609 [03:16<00:00,  8.18it/s]\n"
     ]
    },
    {
     "data": {
      "text/html": [
       "<div>\n",
       "<style scoped>\n",
       "    .dataframe tbody tr th:only-of-type {\n",
       "        vertical-align: middle;\n",
       "    }\n",
       "\n",
       "    .dataframe tbody tr th {\n",
       "        vertical-align: top;\n",
       "    }\n",
       "\n",
       "    .dataframe thead th {\n",
       "        text-align: right;\n",
       "    }\n",
       "</style>\n",
       "<table border=\"1\" class=\"dataframe\">\n",
       "  <thead>\n",
       "    <tr style=\"text-align: right;\">\n",
       "      <th></th>\n",
       "      <th>epoch</th>\n",
       "      <th>iteration</th>\n",
       "      <th>loss_ema</th>\n",
       "      <th>loss</th>\n",
       "    </tr>\n",
       "  </thead>\n",
       "  <tbody>\n",
       "    <tr>\n",
       "      <th>0</th>\n",
       "      <td>0.0</td>\n",
       "      <td>0.0</td>\n",
       "      <td>632.725708</td>\n",
       "      <td>632.725708</td>\n",
       "    </tr>\n",
       "    <tr>\n",
       "      <th>1</th>\n",
       "      <td>0.0</td>\n",
       "      <td>1.0</td>\n",
       "      <td>843.409790</td>\n",
       "      <td>1475.461914</td>\n",
       "    </tr>\n",
       "    <tr>\n",
       "      <th>2</th>\n",
       "      <td>0.0</td>\n",
       "      <td>2.0</td>\n",
       "      <td>736.740967</td>\n",
       "      <td>416.734283</td>\n",
       "    </tr>\n",
       "    <tr>\n",
       "      <th>3</th>\n",
       "      <td>0.0</td>\n",
       "      <td>3.0</td>\n",
       "      <td>676.144592</td>\n",
       "      <td>494.355469</td>\n",
       "    </tr>\n",
       "    <tr>\n",
       "      <th>4</th>\n",
       "      <td>0.0</td>\n",
       "      <td>4.0</td>\n",
       "      <td>628.185791</td>\n",
       "      <td>484.309235</td>\n",
       "    </tr>\n",
       "    <tr>\n",
       "      <th>...</th>\n",
       "      <td>...</td>\n",
       "      <td>...</td>\n",
       "      <td>...</td>\n",
       "      <td>...</td>\n",
       "    </tr>\n",
       "    <tr>\n",
       "      <th>1604</th>\n",
       "      <td>0.0</td>\n",
       "      <td>1604.0</td>\n",
       "      <td>16.069969</td>\n",
       "      <td>19.197361</td>\n",
       "    </tr>\n",
       "    <tr>\n",
       "      <th>1605</th>\n",
       "      <td>0.0</td>\n",
       "      <td>1605.0</td>\n",
       "      <td>15.824123</td>\n",
       "      <td>15.086585</td>\n",
       "    </tr>\n",
       "    <tr>\n",
       "      <th>1606</th>\n",
       "      <td>0.0</td>\n",
       "      <td>1606.0</td>\n",
       "      <td>15.684133</td>\n",
       "      <td>15.264161</td>\n",
       "    </tr>\n",
       "    <tr>\n",
       "      <th>1607</th>\n",
       "      <td>0.0</td>\n",
       "      <td>1607.0</td>\n",
       "      <td>14.933064</td>\n",
       "      <td>12.679859</td>\n",
       "    </tr>\n",
       "    <tr>\n",
       "      <th>1608</th>\n",
       "      <td>0.0</td>\n",
       "      <td>1608.0</td>\n",
       "      <td>14.750738</td>\n",
       "      <td>14.203756</td>\n",
       "    </tr>\n",
       "  </tbody>\n",
       "</table>\n",
       "<p>1609 rows × 4 columns</p>\n",
       "</div>"
      ],
      "text/plain": [
       "      epoch  iteration    loss_ema         loss\n",
       "0       0.0        0.0  632.725708   632.725708\n",
       "1       0.0        1.0  843.409790  1475.461914\n",
       "2       0.0        2.0  736.740967   416.734283\n",
       "3       0.0        3.0  676.144592   494.355469\n",
       "4       0.0        4.0  628.185791   484.309235\n",
       "...     ...        ...         ...          ...\n",
       "1604    0.0     1604.0   16.069969    19.197361\n",
       "1605    0.0     1605.0   15.824123    15.086585\n",
       "1606    0.0     1606.0   15.684133    15.264161\n",
       "1607    0.0     1607.0   14.933064    12.679859\n",
       "1608    0.0     1608.0   14.750738    14.203756\n",
       "\n",
       "[1609 rows x 4 columns]"
      ]
     },
     "metadata": {},
     "output_type": "display_data"
    },
    {
     "data": {
      "application/vnd.jupyter.widget-view+json": {
       "model_id": "d96a742ed75f4ba6af7769af34377f45",
       "version_major": 2,
       "version_minor": 0
      },
      "text/plain": [
       "Canvas(toolbar=Toolbar(toolitems=[('Home', 'Reset original view', 'home', 'home'), ('Back', 'Back to previous …"
      ]
     },
     "metadata": {},
     "output_type": "display_data"
    },
    {
     "name": "stderr",
     "output_type": "stream",
     "text": [
      "100%|██████████| 25/25 [00:02<00:00, 12.25it/s]\n"
     ]
    },
    {
     "data": {
      "text/html": [
       "<div>\n",
       "<style scoped>\n",
       "    .dataframe tbody tr th:only-of-type {\n",
       "        vertical-align: middle;\n",
       "    }\n",
       "\n",
       "    .dataframe tbody tr th {\n",
       "        vertical-align: top;\n",
       "    }\n",
       "\n",
       "    .dataframe thead th {\n",
       "        text-align: right;\n",
       "    }\n",
       "</style>\n",
       "<table border=\"1\" class=\"dataframe\">\n",
       "  <thead>\n",
       "    <tr style=\"text-align: right;\">\n",
       "      <th></th>\n",
       "      <th>ID</th>\n",
       "      <th>v1</th>\n",
       "      <th>v2</th>\n",
       "      <th>v3</th>\n",
       "      <th>v4</th>\n",
       "      <th>v5</th>\n",
       "      <th>v6</th>\n",
       "      <th>v7</th>\n",
       "      <th>v8</th>\n",
       "      <th>v9</th>\n",
       "      <th>...</th>\n",
       "      <th>v51</th>\n",
       "      <th>v52</th>\n",
       "      <th>v53</th>\n",
       "      <th>v54</th>\n",
       "      <th>v55</th>\n",
       "      <th>v56</th>\n",
       "      <th>v57</th>\n",
       "      <th>v58</th>\n",
       "      <th>v59</th>\n",
       "      <th>v60</th>\n",
       "    </tr>\n",
       "  </thead>\n",
       "  <tbody>\n",
       "    <tr>\n",
       "      <th>0</th>\n",
       "      <td>10002</td>\n",
       "      <td>1690.839111</td>\n",
       "      <td>395.199738</td>\n",
       "      <td>1690.789917</td>\n",
       "      <td>402.042053</td>\n",
       "      <td>1696.886719</td>\n",
       "      <td>403.853638</td>\n",
       "      <td>1695.063599</td>\n",
       "      <td>402.265411</td>\n",
       "      <td>1697.819946</td>\n",
       "      <td>...</td>\n",
       "      <td>1705.398315</td>\n",
       "      <td>409.313751</td>\n",
       "      <td>1707.321411</td>\n",
       "      <td>406.663269</td>\n",
       "      <td>1697.627319</td>\n",
       "      <td>410.265076</td>\n",
       "      <td>1706.594238</td>\n",
       "      <td>412.399628</td>\n",
       "      <td>1698.345337</td>\n",
       "      <td>407.370026</td>\n",
       "    </tr>\n",
       "    <tr>\n",
       "      <th>1</th>\n",
       "      <td>10015</td>\n",
       "      <td>717.963257</td>\n",
       "      <td>1250.626343</td>\n",
       "      <td>721.894714</td>\n",
       "      <td>1250.263916</td>\n",
       "      <td>720.546387</td>\n",
       "      <td>1249.975464</td>\n",
       "      <td>719.464783</td>\n",
       "      <td>1252.650513</td>\n",
       "      <td>719.854492</td>\n",
       "      <td>...</td>\n",
       "      <td>721.921082</td>\n",
       "      <td>1250.708618</td>\n",
       "      <td>725.473145</td>\n",
       "      <td>1249.554199</td>\n",
       "      <td>723.258850</td>\n",
       "      <td>1252.422852</td>\n",
       "      <td>725.197571</td>\n",
       "      <td>1248.516479</td>\n",
       "      <td>720.762573</td>\n",
       "      <td>1251.798096</td>\n",
       "    </tr>\n",
       "    <tr>\n",
       "      <th>2</th>\n",
       "      <td>10019</td>\n",
       "      <td>578.972534</td>\n",
       "      <td>1274.507568</td>\n",
       "      <td>578.984497</td>\n",
       "      <td>1274.866699</td>\n",
       "      <td>578.137268</td>\n",
       "      <td>1273.432495</td>\n",
       "      <td>582.364929</td>\n",
       "      <td>1275.058228</td>\n",
       "      <td>581.989441</td>\n",
       "      <td>...</td>\n",
       "      <td>576.208862</td>\n",
       "      <td>1265.538452</td>\n",
       "      <td>578.717346</td>\n",
       "      <td>1266.477661</td>\n",
       "      <td>577.582581</td>\n",
       "      <td>1270.038818</td>\n",
       "      <td>576.657104</td>\n",
       "      <td>1269.014160</td>\n",
       "      <td>576.221924</td>\n",
       "      <td>1268.972168</td>\n",
       "    </tr>\n",
       "    <tr>\n",
       "      <th>3</th>\n",
       "      <td>10028</td>\n",
       "      <td>1687.774536</td>\n",
       "      <td>340.027252</td>\n",
       "      <td>1689.244019</td>\n",
       "      <td>336.135925</td>\n",
       "      <td>1684.614380</td>\n",
       "      <td>344.093842</td>\n",
       "      <td>1681.611572</td>\n",
       "      <td>343.674530</td>\n",
       "      <td>1682.822266</td>\n",
       "      <td>...</td>\n",
       "      <td>1685.286987</td>\n",
       "      <td>342.638824</td>\n",
       "      <td>1688.360596</td>\n",
       "      <td>357.336334</td>\n",
       "      <td>1684.591553</td>\n",
       "      <td>348.264557</td>\n",
       "      <td>1685.016235</td>\n",
       "      <td>346.984894</td>\n",
       "      <td>1686.861328</td>\n",
       "      <td>348.618256</td>\n",
       "    </tr>\n",
       "    <tr>\n",
       "      <th>4</th>\n",
       "      <td>1003</td>\n",
       "      <td>2095.923096</td>\n",
       "      <td>678.379211</td>\n",
       "      <td>2095.605713</td>\n",
       "      <td>685.103821</td>\n",
       "      <td>2095.122314</td>\n",
       "      <td>682.988892</td>\n",
       "      <td>2095.929443</td>\n",
       "      <td>687.045837</td>\n",
       "      <td>2094.464600</td>\n",
       "      <td>...</td>\n",
       "      <td>2096.358398</td>\n",
       "      <td>681.797852</td>\n",
       "      <td>2097.010254</td>\n",
       "      <td>679.578552</td>\n",
       "      <td>2101.491455</td>\n",
       "      <td>672.180786</td>\n",
       "      <td>2096.854980</td>\n",
       "      <td>679.825684</td>\n",
       "      <td>2098.236084</td>\n",
       "      <td>679.582092</td>\n",
       "    </tr>\n",
       "  </tbody>\n",
       "</table>\n",
       "<p>5 rows × 61 columns</p>\n",
       "</div>"
      ],
      "text/plain": [
       "      ID           v1           v2           v3           v4           v5  \\\n",
       "0  10002  1690.839111   395.199738  1690.789917   402.042053  1696.886719   \n",
       "1  10015   717.963257  1250.626343   721.894714  1250.263916   720.546387   \n",
       "2  10019   578.972534  1274.507568   578.984497  1274.866699   578.137268   \n",
       "3  10028  1687.774536   340.027252  1689.244019   336.135925  1684.614380   \n",
       "4   1003  2095.923096   678.379211  2095.605713   685.103821  2095.122314   \n",
       "\n",
       "            v6           v7           v8           v9  ...          v51  \\\n",
       "0   403.853638  1695.063599   402.265411  1697.819946  ...  1705.398315   \n",
       "1  1249.975464   719.464783  1252.650513   719.854492  ...   721.921082   \n",
       "2  1273.432495   582.364929  1275.058228   581.989441  ...   576.208862   \n",
       "3   344.093842  1681.611572   343.674530  1682.822266  ...  1685.286987   \n",
       "4   682.988892  2095.929443   687.045837  2094.464600  ...  2096.358398   \n",
       "\n",
       "           v52          v53          v54          v55          v56  \\\n",
       "0   409.313751  1707.321411   406.663269  1697.627319   410.265076   \n",
       "1  1250.708618   725.473145  1249.554199   723.258850  1252.422852   \n",
       "2  1265.538452   578.717346  1266.477661   577.582581  1270.038818   \n",
       "3   342.638824  1688.360596   357.336334  1684.591553   348.264557   \n",
       "4   681.797852  2097.010254   679.578552  2101.491455   672.180786   \n",
       "\n",
       "           v57          v58          v59          v60  \n",
       "0  1706.594238   412.399628  1698.345337   407.370026  \n",
       "1   725.197571  1248.516479   720.762573  1251.798096  \n",
       "2   576.657104  1269.014160   576.221924  1268.972168  \n",
       "3  1685.016235   346.984894  1686.861328   348.618256  \n",
       "4  2096.854980   679.825684  2098.236084   679.582092  \n",
       "\n",
       "[5 rows x 61 columns]"
      ]
     },
     "execution_count": 20,
     "metadata": {},
     "output_type": "execute_result"
    }
   ],
   "source": [
    "num_epochs=1\n",
    "ema_weight=0.75\n",
    "\n",
    "save_filename=os.path.join(out_path, \"2021.05.24-multi-linear-ema075-epoch01-batchsz128.csv\")\n",
    "\n",
    "lm5=linear.train(\n",
    "    model=linear.multilayer_model,\n",
    "    data_loader=train_loader,\n",
    "    n_epochs=num_epochs,\n",
    "    filename=save_filename,\n",
    "    ema_weight=ema_weight,\n",
    "    device=device,\n",
    "    verbose=False\n",
    ")\n",
    "\n",
    "loss_df5=pd.read_csv(save_filename)\n",
    "\n",
    "save_path=os.path.join(fig_path, \"2021.05.24-multi-linear-ema075-epoch01-batchsz128.pdf\")\n",
    "num_iter=50\n",
    "\n",
    "avg_loss5=utils.get_avg_loss(loss_df5, num_iter)\n",
    "utils.plot_loss(avg_loss5, save_path)\n",
    "\n",
    "lm5_df=utils.get_trained_data(\n",
    "    model=lm5,\n",
    "    dataset=val_dataset,\n",
    "    batch_size=128,\n",
    "    device=device\n",
    ")\n",
    "lm5_df.head()"
   ]
  },
  {
   "cell_type": "code",
   "execution_count": 21,
   "id": "1cc52474-86f0-4c99-b1e8-7026898b04d4",
   "metadata": {},
   "outputs": [],
   "source": [
    "lm5_df.to_csv(\"submit5.csv\", index=False)"
   ]
  },
  {
   "cell_type": "code",
   "execution_count": 5,
   "id": "aa15ce06-1395-4a34-b460-0261b584baaf",
   "metadata": {},
   "outputs": [
    {
     "name": "stderr",
     "output_type": "stream",
     "text": [
      "Epoch 1/10: 100%|██████████| 1609/1609 [03:23<00:00,  7.92it/s]\n",
      "Epoch 2/10: 100%|██████████| 1609/1609 [03:36<00:00,  7.44it/s]\n",
      "Epoch 3/10: 100%|██████████| 1609/1609 [03:28<00:00,  7.71it/s]\n",
      "Epoch 4/10: 100%|██████████| 1609/1609 [03:24<00:00,  7.88it/s]\n",
      "Epoch 5/10: 100%|██████████| 1609/1609 [03:23<00:00,  7.90it/s]\n",
      "Epoch 6/10: 100%|██████████| 1609/1609 [03:26<00:00,  7.80it/s]\n",
      "Epoch 7/10: 100%|██████████| 1609/1609 [03:24<00:00,  7.86it/s]\n",
      "Epoch 8/10: 100%|██████████| 1609/1609 [03:27<00:00,  7.76it/s]\n",
      "Epoch 9/10: 100%|██████████| 1609/1609 [03:29<00:00,  7.70it/s]\n",
      "Epoch 10/10: 100%|██████████| 1609/1609 [03:29<00:00,  7.70it/s]\n"
     ]
    },
    {
     "data": {
      "text/html": [
       "<div>\n",
       "<style scoped>\n",
       "    .dataframe tbody tr th:only-of-type {\n",
       "        vertical-align: middle;\n",
       "    }\n",
       "\n",
       "    .dataframe tbody tr th {\n",
       "        vertical-align: top;\n",
       "    }\n",
       "\n",
       "    .dataframe thead th {\n",
       "        text-align: right;\n",
       "    }\n",
       "</style>\n",
       "<table border=\"1\" class=\"dataframe\">\n",
       "  <thead>\n",
       "    <tr style=\"text-align: right;\">\n",
       "      <th></th>\n",
       "    </tr>\n",
       "  </thead>\n",
       "  <tbody>\n",
       "  </tbody>\n",
       "</table>\n",
       "</div>"
      ],
      "text/plain": [
       "Empty DataFrame\n",
       "Columns: []\n",
       "Index: []"
      ]
     },
     "metadata": {},
     "output_type": "display_data"
    },
    {
     "ename": "EmptyDataError",
     "evalue": "No columns to parse from file",
     "output_type": "error",
     "traceback": [
      "\u001b[0;31m---------------------------------------------------------------------------\u001b[0m",
      "\u001b[0;31mEmptyDataError\u001b[0m                            Traceback (most recent call last)",
      "\u001b[0;32m<ipython-input-5-a71f1af02305>\u001b[0m in \u001b[0;36m<module>\u001b[0;34m\u001b[0m\n\u001b[1;32m     14\u001b[0m )\n\u001b[1;32m     15\u001b[0m \u001b[0;34m\u001b[0m\u001b[0m\n\u001b[0;32m---> 16\u001b[0;31m \u001b[0mloss_df6\u001b[0m\u001b[0;34m=\u001b[0m\u001b[0mpd\u001b[0m\u001b[0;34m.\u001b[0m\u001b[0mread_csv\u001b[0m\u001b[0;34m(\u001b[0m\u001b[0msave_filename\u001b[0m\u001b[0;34m)\u001b[0m\u001b[0;34m\u001b[0m\u001b[0;34m\u001b[0m\u001b[0m\n\u001b[0m\u001b[1;32m     17\u001b[0m \u001b[0;34m\u001b[0m\u001b[0m\n\u001b[1;32m     18\u001b[0m \u001b[0msave_path\u001b[0m\u001b[0;34m=\u001b[0m\u001b[0mos\u001b[0m\u001b[0;34m.\u001b[0m\u001b[0mpath\u001b[0m\u001b[0;34m.\u001b[0m\u001b[0mjoin\u001b[0m\u001b[0;34m(\u001b[0m\u001b[0mfig_path\u001b[0m\u001b[0;34m,\u001b[0m \u001b[0;34m\"2021.05.24-multi-linear-ema075-epoch10-batchsz128.pdf\"\u001b[0m\u001b[0;34m)\u001b[0m\u001b[0;34m\u001b[0m\u001b[0;34m\u001b[0m\u001b[0m\n",
      "\u001b[0;32m~/anaconda3/envs/pyt18/lib/python3.8/site-packages/pandas/io/parsers.py\u001b[0m in \u001b[0;36mread_csv\u001b[0;34m(filepath_or_buffer, sep, delimiter, header, names, index_col, usecols, squeeze, prefix, mangle_dupe_cols, dtype, engine, converters, true_values, false_values, skipinitialspace, skiprows, skipfooter, nrows, na_values, keep_default_na, na_filter, verbose, skip_blank_lines, parse_dates, infer_datetime_format, keep_date_col, date_parser, dayfirst, cache_dates, iterator, chunksize, compression, thousands, decimal, lineterminator, quotechar, quoting, doublequote, escapechar, comment, encoding, dialect, error_bad_lines, warn_bad_lines, delim_whitespace, low_memory, memory_map, float_precision, storage_options)\u001b[0m\n\u001b[1;32m    608\u001b[0m     \u001b[0mkwds\u001b[0m\u001b[0;34m.\u001b[0m\u001b[0mupdate\u001b[0m\u001b[0;34m(\u001b[0m\u001b[0mkwds_defaults\u001b[0m\u001b[0;34m)\u001b[0m\u001b[0;34m\u001b[0m\u001b[0;34m\u001b[0m\u001b[0m\n\u001b[1;32m    609\u001b[0m \u001b[0;34m\u001b[0m\u001b[0m\n\u001b[0;32m--> 610\u001b[0;31m     \u001b[0;32mreturn\u001b[0m \u001b[0m_read\u001b[0m\u001b[0;34m(\u001b[0m\u001b[0mfilepath_or_buffer\u001b[0m\u001b[0;34m,\u001b[0m \u001b[0mkwds\u001b[0m\u001b[0;34m)\u001b[0m\u001b[0;34m\u001b[0m\u001b[0;34m\u001b[0m\u001b[0m\n\u001b[0m\u001b[1;32m    611\u001b[0m \u001b[0;34m\u001b[0m\u001b[0m\n\u001b[1;32m    612\u001b[0m \u001b[0;34m\u001b[0m\u001b[0m\n",
      "\u001b[0;32m~/anaconda3/envs/pyt18/lib/python3.8/site-packages/pandas/io/parsers.py\u001b[0m in \u001b[0;36m_read\u001b[0;34m(filepath_or_buffer, kwds)\u001b[0m\n\u001b[1;32m    460\u001b[0m \u001b[0;34m\u001b[0m\u001b[0m\n\u001b[1;32m    461\u001b[0m     \u001b[0;31m# Create the parser.\u001b[0m\u001b[0;34m\u001b[0m\u001b[0;34m\u001b[0m\u001b[0;34m\u001b[0m\u001b[0m\n\u001b[0;32m--> 462\u001b[0;31m     \u001b[0mparser\u001b[0m \u001b[0;34m=\u001b[0m \u001b[0mTextFileReader\u001b[0m\u001b[0;34m(\u001b[0m\u001b[0mfilepath_or_buffer\u001b[0m\u001b[0;34m,\u001b[0m \u001b[0;34m**\u001b[0m\u001b[0mkwds\u001b[0m\u001b[0;34m)\u001b[0m\u001b[0;34m\u001b[0m\u001b[0;34m\u001b[0m\u001b[0m\n\u001b[0m\u001b[1;32m    463\u001b[0m \u001b[0;34m\u001b[0m\u001b[0m\n\u001b[1;32m    464\u001b[0m     \u001b[0;32mif\u001b[0m \u001b[0mchunksize\u001b[0m \u001b[0;32mor\u001b[0m \u001b[0miterator\u001b[0m\u001b[0;34m:\u001b[0m\u001b[0;34m\u001b[0m\u001b[0;34m\u001b[0m\u001b[0m\n",
      "\u001b[0;32m~/anaconda3/envs/pyt18/lib/python3.8/site-packages/pandas/io/parsers.py\u001b[0m in \u001b[0;36m__init__\u001b[0;34m(self, f, engine, **kwds)\u001b[0m\n\u001b[1;32m    817\u001b[0m             \u001b[0mself\u001b[0m\u001b[0;34m.\u001b[0m\u001b[0moptions\u001b[0m\u001b[0;34m[\u001b[0m\u001b[0;34m\"has_index_names\"\u001b[0m\u001b[0;34m]\u001b[0m \u001b[0;34m=\u001b[0m \u001b[0mkwds\u001b[0m\u001b[0;34m[\u001b[0m\u001b[0;34m\"has_index_names\"\u001b[0m\u001b[0;34m]\u001b[0m\u001b[0;34m\u001b[0m\u001b[0;34m\u001b[0m\u001b[0m\n\u001b[1;32m    818\u001b[0m \u001b[0;34m\u001b[0m\u001b[0m\n\u001b[0;32m--> 819\u001b[0;31m         \u001b[0mself\u001b[0m\u001b[0;34m.\u001b[0m\u001b[0m_engine\u001b[0m \u001b[0;34m=\u001b[0m \u001b[0mself\u001b[0m\u001b[0;34m.\u001b[0m\u001b[0m_make_engine\u001b[0m\u001b[0;34m(\u001b[0m\u001b[0mself\u001b[0m\u001b[0;34m.\u001b[0m\u001b[0mengine\u001b[0m\u001b[0;34m)\u001b[0m\u001b[0;34m\u001b[0m\u001b[0;34m\u001b[0m\u001b[0m\n\u001b[0m\u001b[1;32m    820\u001b[0m \u001b[0;34m\u001b[0m\u001b[0m\n\u001b[1;32m    821\u001b[0m     \u001b[0;32mdef\u001b[0m \u001b[0mclose\u001b[0m\u001b[0;34m(\u001b[0m\u001b[0mself\u001b[0m\u001b[0;34m)\u001b[0m\u001b[0;34m:\u001b[0m\u001b[0;34m\u001b[0m\u001b[0;34m\u001b[0m\u001b[0m\n",
      "\u001b[0;32m~/anaconda3/envs/pyt18/lib/python3.8/site-packages/pandas/io/parsers.py\u001b[0m in \u001b[0;36m_make_engine\u001b[0;34m(self, engine)\u001b[0m\n\u001b[1;32m   1048\u001b[0m             )\n\u001b[1;32m   1049\u001b[0m         \u001b[0;31m# error: Too many arguments for \"ParserBase\"\u001b[0m\u001b[0;34m\u001b[0m\u001b[0;34m\u001b[0m\u001b[0;34m\u001b[0m\u001b[0m\n\u001b[0;32m-> 1050\u001b[0;31m         \u001b[0;32mreturn\u001b[0m \u001b[0mmapping\u001b[0m\u001b[0;34m[\u001b[0m\u001b[0mengine\u001b[0m\u001b[0;34m]\u001b[0m\u001b[0;34m(\u001b[0m\u001b[0mself\u001b[0m\u001b[0;34m.\u001b[0m\u001b[0mf\u001b[0m\u001b[0;34m,\u001b[0m \u001b[0;34m**\u001b[0m\u001b[0mself\u001b[0m\u001b[0;34m.\u001b[0m\u001b[0moptions\u001b[0m\u001b[0;34m)\u001b[0m  \u001b[0;31m# type: ignore[call-arg]\u001b[0m\u001b[0;34m\u001b[0m\u001b[0;34m\u001b[0m\u001b[0m\n\u001b[0m\u001b[1;32m   1051\u001b[0m \u001b[0;34m\u001b[0m\u001b[0m\n\u001b[1;32m   1052\u001b[0m     \u001b[0;32mdef\u001b[0m \u001b[0m_failover_to_python\u001b[0m\u001b[0;34m(\u001b[0m\u001b[0mself\u001b[0m\u001b[0;34m)\u001b[0m\u001b[0;34m:\u001b[0m\u001b[0;34m\u001b[0m\u001b[0;34m\u001b[0m\u001b[0m\n",
      "\u001b[0;32m~/anaconda3/envs/pyt18/lib/python3.8/site-packages/pandas/io/parsers.py\u001b[0m in \u001b[0;36m__init__\u001b[0;34m(self, src, **kwds)\u001b[0m\n\u001b[1;32m   1896\u001b[0m \u001b[0;34m\u001b[0m\u001b[0m\n\u001b[1;32m   1897\u001b[0m         \u001b[0;32mtry\u001b[0m\u001b[0;34m:\u001b[0m\u001b[0;34m\u001b[0m\u001b[0;34m\u001b[0m\u001b[0m\n\u001b[0;32m-> 1898\u001b[0;31m             \u001b[0mself\u001b[0m\u001b[0;34m.\u001b[0m\u001b[0m_reader\u001b[0m \u001b[0;34m=\u001b[0m \u001b[0mparsers\u001b[0m\u001b[0;34m.\u001b[0m\u001b[0mTextReader\u001b[0m\u001b[0;34m(\u001b[0m\u001b[0mself\u001b[0m\u001b[0;34m.\u001b[0m\u001b[0mhandles\u001b[0m\u001b[0;34m.\u001b[0m\u001b[0mhandle\u001b[0m\u001b[0;34m,\u001b[0m \u001b[0;34m**\u001b[0m\u001b[0mkwds\u001b[0m\u001b[0;34m)\u001b[0m\u001b[0;34m\u001b[0m\u001b[0;34m\u001b[0m\u001b[0m\n\u001b[0m\u001b[1;32m   1899\u001b[0m         \u001b[0;32mexcept\u001b[0m \u001b[0mException\u001b[0m\u001b[0;34m:\u001b[0m\u001b[0;34m\u001b[0m\u001b[0;34m\u001b[0m\u001b[0m\n\u001b[1;32m   1900\u001b[0m             \u001b[0mself\u001b[0m\u001b[0;34m.\u001b[0m\u001b[0mhandles\u001b[0m\u001b[0;34m.\u001b[0m\u001b[0mclose\u001b[0m\u001b[0;34m(\u001b[0m\u001b[0;34m)\u001b[0m\u001b[0;34m\u001b[0m\u001b[0;34m\u001b[0m\u001b[0m\n",
      "\u001b[0;32mpandas/_libs/parsers.pyx\u001b[0m in \u001b[0;36mpandas._libs.parsers.TextReader.__cinit__\u001b[0;34m()\u001b[0m\n",
      "\u001b[0;31mEmptyDataError\u001b[0m: No columns to parse from file"
     ]
    }
   ],
   "source": [
    "num_epochs=10\n",
    "ema_weight=0.75\n",
    "\n",
    "save_filename=os.path.join(out_path, \"2021.05.24-multi-linear-ema075-epoch10-batchsz128.csv\")\n",
    "\n",
    "lm6=linear.train(\n",
    "    model=linear.multilayer_model,\n",
    "    data_loader=train_loader,\n",
    "    n_epochs=num_epochs,\n",
    "    filename=save_filename,\n",
    "    ema_weight=ema_weight,\n",
    "    device=device,\n",
    "    verbose=False\n",
    ")\n",
    "\n",
    "loss_df6=pd.read_csv(save_filename)\n",
    "\n",
    "save_path=os.path.join(fig_path, \"2021.05.24-multi-linear-ema075-epoch10-batchsz128.pdf\")\n",
    "num_iter=50\n",
    "\n",
    "avg_loss6=utils.get_avg_loss(loss_df6, num_iter)\n",
    "utils.plot_loss(avg_loss5, save_path)\n",
    "\n",
    "lm_df6=utils.get_trained_data(\n",
    "    model=lm6,\n",
    "    dataset=val_dataset,\n",
    "    batch_size=128,\n",
    "    device=device\n",
    ")\n",
    "lm6_df.head()"
   ]
  },
  {
   "cell_type": "code",
   "execution_count": 23,
   "id": "3f71938e-0ae4-4abe-ab2d-82b49668a39e",
   "metadata": {},
   "outputs": [],
   "source": [
    "lm_df6.to_csv(\"submit6.csv\", index=False)"
   ]
  },
  {
   "cell_type": "code",
   "execution_count": 35,
   "id": "872ff62a-72df-4aef-8d3b-ed3f2a8b7f08",
   "metadata": {},
   "outputs": [
    {
     "data": {
      "application/vnd.jupyter.widget-view+json": {
       "model_id": "4c4605ea8a3341b983e3e568072b5042",
       "version_major": 2,
       "version_minor": 0
      },
      "text/plain": [
       "Canvas(toolbar=Toolbar(toolitems=[('Home', 'Reset original view', 'home', 'home'), ('Back', 'Back to previous …"
      ]
     },
     "metadata": {},
     "output_type": "display_data"
    }
   ],
   "source": [
    "loss_data=pd.read_csv(os.path.join(out_path, \"2021.05.24-multi-linear-ema075-epoch10-batchsz128.csv\"))\n",
    "\n",
    "epoch_avg=loss_data.groupby([\"epoch\"])[[\"loss_ema\",\"loss\"]].mean()\n",
    "\n",
    "save_path=os.path.join(fig_path, \"2021.05.24-multi-linear-ema075-epoch10-batchsz128-epoch-avg.pdf\")\n",
    "utils.plot_avg_epoch_loss(epoch_avg, save_path)"
   ]
  },
  {
   "cell_type": "code",
   "execution_count": 29,
   "id": "64785a52-6eed-4ce9-8e8e-1d3aafabdc74",
   "metadata": {},
   "outputs": [
    {
     "data": {
      "application/vnd.jupyter.widget-view+json": {
       "model_id": "98e3274d23ce44b692e4add5c60a63f9",
       "version_major": 2,
       "version_minor": 0
      },
      "text/plain": [
       "Canvas(toolbar=Toolbar(toolitems=[('Home', 'Reset original view', 'home', 'home'), ('Back', 'Back to previous …"
      ]
     },
     "metadata": {},
     "output_type": "display_data"
    }
   ],
   "source": [
    "avg_loss6=utils.get_avg_loss(loss_df6, num_iter)\n",
    "utils.plot_loss(avg_loss6, save_path)"
   ]
  },
  {
   "cell_type": "code",
   "execution_count": null,
   "id": "93205587-952c-4c4e-9099-811702b00454",
   "metadata": {},
   "outputs": [],
   "source": []
  }
 ],
 "metadata": {
  "kernelspec": {
   "display_name": "Python 3",
   "language": "python",
   "name": "python3"
  },
  "language_info": {
   "codemirror_mode": {
    "name": "ipython",
    "version": 3
   },
   "file_extension": ".py",
   "mimetype": "text/x-python",
   "name": "python",
   "nbconvert_exporter": "python",
   "pygments_lexer": "ipython3",
   "version": "3.8.8"
  }
 },
 "nbformat": 4,
 "nbformat_minor": 5
}
